{
 "cells": [
  {
   "cell_type": "markdown",
   "metadata": {
    "toc": true
   },
   "source": [
    "<h1>Содержание<span class=\"tocSkip\"></span></h1>\n",
    "<div class=\"toc\"><ul class=\"toc-item\"><li><span><a href=\"#Загрузка-данных\" data-toc-modified-id=\"Загрузка-данных-1\"><span class=\"toc-item-num\">1&nbsp;&nbsp;</span>Загрузка данных</a></span></li><li><span><a href=\"#Умножение-матриц\" data-toc-modified-id=\"Умножение-матриц-2\"><span class=\"toc-item-num\">2&nbsp;&nbsp;</span>Умножение матриц</a></span><ul class=\"toc-item\"><li><span><a href=\"#Задача\" data-toc-modified-id=\"Задача-2.1\"><span class=\"toc-item-num\">2.1&nbsp;&nbsp;</span>Задача</a></span></li><li><span><a href=\"#Решение-задачи-и-математическое-обоснование\" data-toc-modified-id=\"Решение-задачи-и-математическое-обоснование-2.2\"><span class=\"toc-item-num\">2.2&nbsp;&nbsp;</span>Решение задачи и математическое обоснование</a></span></li></ul></li><li><span><a href=\"#Алгоритм-преобразования\" data-toc-modified-id=\"Алгоритм-преобразования-3\"><span class=\"toc-item-num\">3&nbsp;&nbsp;</span>Алгоритм преобразования</a></span></li><li><span><a href=\"#Проверка-алгоритма\" data-toc-modified-id=\"Проверка-алгоритма-4\"><span class=\"toc-item-num\">4&nbsp;&nbsp;</span>Проверка алгоритма</a></span><ul class=\"toc-item\"><li><span><a href=\"#Разделение-данных-на-обучающую-и-тестовую-выборки\" data-toc-modified-id=\"Разделение-данных-на-обучающую-и-тестовую-выборки-4.1\"><span class=\"toc-item-num\">4.1&nbsp;&nbsp;</span>Разделение данных на обучающую и тестовую выборки</a></span></li><li><span><a href=\"#Применение-алгоритма-преобразования-персональных-данных\" data-toc-modified-id=\"Применение-алгоритма-преобразования-персональных-данных-4.2\"><span class=\"toc-item-num\">4.2&nbsp;&nbsp;</span>Применение алгоритма преобразования персональных данных</a></span></li><li><span><a href=\"#Обучение-моделей\" data-toc-modified-id=\"Обучение-моделей-4.3\"><span class=\"toc-item-num\">4.3&nbsp;&nbsp;</span>Обучение моделей</a></span></li><li><span><a href=\"#Сравнение-качества-моделей\" data-toc-modified-id=\"Сравнение-качества-моделей-4.4\"><span class=\"toc-item-num\">4.4&nbsp;&nbsp;</span>Сравнение качества моделей</a></span></li></ul></li><li><span><a href=\"#Общий-вывод\" data-toc-modified-id=\"Общий-вывод-5\"><span class=\"toc-item-num\">5&nbsp;&nbsp;</span>Общий вывод</a></span></li></ul></div>"
   ]
  },
  {
   "cell_type": "markdown",
   "metadata": {},
   "source": [
    "# Защита персональных данных клиентов"
   ]
  },
  {
   "cell_type": "markdown",
   "metadata": {},
   "source": [
    "Вам нужно защитить данные клиентов страховой компании «Хоть потоп». Разработайте такой метод преобразования данных, чтобы по ним было сложно восстановить персональную информацию. Обоснуйте корректность его работы.\n",
    "\n",
    "Нужно защитить данные, чтобы при преобразовании качество моделей машинного обучения не ухудшилось. Подбирать наилучшую модель не требуется."
   ]
  },
  {
   "cell_type": "markdown",
   "metadata": {},
   "source": [
    "## Загрузка данных"
   ]
  },
  {
   "cell_type": "code",
   "execution_count": 63,
   "metadata": {},
   "outputs": [],
   "source": [
    "#Загрузка библиотек\n",
    "import numpy as np\n",
    "import pandas as pd\n",
    "import seaborn as sns\n",
    "import matplotlib.pyplot as plt\n",
    "from sklearn.linear_model import LinearRegression\n",
    "from sklearn.model_selection import train_test_split\n",
    "from sklearn.metrics import f1_score, roc_auc_score, roc_curve, accuracy_score, recall_score, precision_score"
   ]
  },
  {
   "cell_type": "code",
   "execution_count": 64,
   "metadata": {},
   "outputs": [
    {
     "data": {
      "text/html": [
       "<div>\n",
       "<style scoped>\n",
       "    .dataframe tbody tr th:only-of-type {\n",
       "        vertical-align: middle;\n",
       "    }\n",
       "\n",
       "    .dataframe tbody tr th {\n",
       "        vertical-align: top;\n",
       "    }\n",
       "\n",
       "    .dataframe thead th {\n",
       "        text-align: right;\n",
       "    }\n",
       "</style>\n",
       "<table border=\"1\" class=\"dataframe\">\n",
       "  <thead>\n",
       "    <tr style=\"text-align: right;\">\n",
       "      <th></th>\n",
       "      <th>Пол</th>\n",
       "      <th>Возраст</th>\n",
       "      <th>Зарплата</th>\n",
       "      <th>Члены семьи</th>\n",
       "      <th>Страховые выплаты</th>\n",
       "    </tr>\n",
       "  </thead>\n",
       "  <tbody>\n",
       "    <tr>\n",
       "      <th>0</th>\n",
       "      <td>1</td>\n",
       "      <td>41.0</td>\n",
       "      <td>49600.0</td>\n",
       "      <td>1</td>\n",
       "      <td>0</td>\n",
       "    </tr>\n",
       "    <tr>\n",
       "      <th>1</th>\n",
       "      <td>0</td>\n",
       "      <td>46.0</td>\n",
       "      <td>38000.0</td>\n",
       "      <td>1</td>\n",
       "      <td>1</td>\n",
       "    </tr>\n",
       "    <tr>\n",
       "      <th>2</th>\n",
       "      <td>0</td>\n",
       "      <td>29.0</td>\n",
       "      <td>21000.0</td>\n",
       "      <td>0</td>\n",
       "      <td>0</td>\n",
       "    </tr>\n",
       "    <tr>\n",
       "      <th>3</th>\n",
       "      <td>0</td>\n",
       "      <td>21.0</td>\n",
       "      <td>41700.0</td>\n",
       "      <td>2</td>\n",
       "      <td>0</td>\n",
       "    </tr>\n",
       "    <tr>\n",
       "      <th>4</th>\n",
       "      <td>1</td>\n",
       "      <td>28.0</td>\n",
       "      <td>26100.0</td>\n",
       "      <td>0</td>\n",
       "      <td>0</td>\n",
       "    </tr>\n",
       "  </tbody>\n",
       "</table>\n",
       "</div>"
      ],
      "text/plain": [
       "   Пол  Возраст  Зарплата  Члены семьи  Страховые выплаты\n",
       "0    1     41.0   49600.0            1                  0\n",
       "1    0     46.0   38000.0            1                  1\n",
       "2    0     29.0   21000.0            0                  0\n",
       "3    0     21.0   41700.0            2                  0\n",
       "4    1     28.0   26100.0            0                  0"
      ]
     },
     "metadata": {},
     "output_type": "display_data"
    }
   ],
   "source": [
    "#Загрузка данных\n",
    "ins = pd.read_csv('/datasets/insurance.csv')\n",
    "display(ins.head())"
   ]
  },
  {
   "cell_type": "code",
   "execution_count": 65,
   "metadata": {
    "scrolled": true
   },
   "outputs": [
    {
     "name": "stdout",
     "output_type": "stream",
     "text": [
      "<class 'pandas.core.frame.DataFrame'>\n",
      "RangeIndex: 5000 entries, 0 to 4999\n",
      "Data columns (total 5 columns):\n",
      " #   Column             Non-Null Count  Dtype  \n",
      "---  ------             --------------  -----  \n",
      " 0   Пол                5000 non-null   int64  \n",
      " 1   Возраст            5000 non-null   float64\n",
      " 2   Зарплата           5000 non-null   float64\n",
      " 3   Члены семьи        5000 non-null   int64  \n",
      " 4   Страховые выплаты  5000 non-null   int64  \n",
      "dtypes: float64(2), int64(3)\n",
      "memory usage: 195.4 KB\n"
     ]
    }
   ],
   "source": [
    "#Изучение данных\n",
    "ins.info()"
   ]
  },
  {
   "cell_type": "code",
   "execution_count": 66,
   "metadata": {},
   "outputs": [
    {
     "data": {
      "text/html": [
       "<div>\n",
       "<style scoped>\n",
       "    .dataframe tbody tr th:only-of-type {\n",
       "        vertical-align: middle;\n",
       "    }\n",
       "\n",
       "    .dataframe tbody tr th {\n",
       "        vertical-align: top;\n",
       "    }\n",
       "\n",
       "    .dataframe thead th {\n",
       "        text-align: right;\n",
       "    }\n",
       "</style>\n",
       "<table border=\"1\" class=\"dataframe\">\n",
       "  <thead>\n",
       "    <tr style=\"text-align: right;\">\n",
       "      <th></th>\n",
       "      <th>Пол</th>\n",
       "      <th>Возраст</th>\n",
       "      <th>Зарплата</th>\n",
       "      <th>Члены семьи</th>\n",
       "      <th>Страховые выплаты</th>\n",
       "    </tr>\n",
       "  </thead>\n",
       "  <tbody>\n",
       "    <tr>\n",
       "      <th>count</th>\n",
       "      <td>5000.000000</td>\n",
       "      <td>5000.000000</td>\n",
       "      <td>5000.000000</td>\n",
       "      <td>5000.000000</td>\n",
       "      <td>5000.000000</td>\n",
       "    </tr>\n",
       "    <tr>\n",
       "      <th>mean</th>\n",
       "      <td>0.499000</td>\n",
       "      <td>30.952800</td>\n",
       "      <td>39916.360000</td>\n",
       "      <td>1.194200</td>\n",
       "      <td>0.148000</td>\n",
       "    </tr>\n",
       "    <tr>\n",
       "      <th>std</th>\n",
       "      <td>0.500049</td>\n",
       "      <td>8.440807</td>\n",
       "      <td>9900.083569</td>\n",
       "      <td>1.091387</td>\n",
       "      <td>0.463183</td>\n",
       "    </tr>\n",
       "    <tr>\n",
       "      <th>min</th>\n",
       "      <td>0.000000</td>\n",
       "      <td>18.000000</td>\n",
       "      <td>5300.000000</td>\n",
       "      <td>0.000000</td>\n",
       "      <td>0.000000</td>\n",
       "    </tr>\n",
       "    <tr>\n",
       "      <th>25%</th>\n",
       "      <td>0.000000</td>\n",
       "      <td>24.000000</td>\n",
       "      <td>33300.000000</td>\n",
       "      <td>0.000000</td>\n",
       "      <td>0.000000</td>\n",
       "    </tr>\n",
       "    <tr>\n",
       "      <th>50%</th>\n",
       "      <td>0.000000</td>\n",
       "      <td>30.000000</td>\n",
       "      <td>40200.000000</td>\n",
       "      <td>1.000000</td>\n",
       "      <td>0.000000</td>\n",
       "    </tr>\n",
       "    <tr>\n",
       "      <th>75%</th>\n",
       "      <td>1.000000</td>\n",
       "      <td>37.000000</td>\n",
       "      <td>46600.000000</td>\n",
       "      <td>2.000000</td>\n",
       "      <td>0.000000</td>\n",
       "    </tr>\n",
       "    <tr>\n",
       "      <th>max</th>\n",
       "      <td>1.000000</td>\n",
       "      <td>65.000000</td>\n",
       "      <td>79000.000000</td>\n",
       "      <td>6.000000</td>\n",
       "      <td>5.000000</td>\n",
       "    </tr>\n",
       "  </tbody>\n",
       "</table>\n",
       "</div>"
      ],
      "text/plain": [
       "               Пол      Возраст      Зарплата  Члены семьи  Страховые выплаты\n",
       "count  5000.000000  5000.000000   5000.000000  5000.000000        5000.000000\n",
       "mean      0.499000    30.952800  39916.360000     1.194200           0.148000\n",
       "std       0.500049     8.440807   9900.083569     1.091387           0.463183\n",
       "min       0.000000    18.000000   5300.000000     0.000000           0.000000\n",
       "25%       0.000000    24.000000  33300.000000     0.000000           0.000000\n",
       "50%       0.000000    30.000000  40200.000000     1.000000           0.000000\n",
       "75%       1.000000    37.000000  46600.000000     2.000000           0.000000\n",
       "max       1.000000    65.000000  79000.000000     6.000000           5.000000"
      ]
     },
     "metadata": {},
     "output_type": "display_data"
    }
   ],
   "source": [
    "display(ins.describe())"
   ]
  },
  {
   "cell_type": "code",
   "execution_count": 67,
   "metadata": {},
   "outputs": [
    {
     "data": {
      "image/png": "[encoded data removed]",
      "text/plain": [
       "<Figure size 1440x1080 with 3 Axes>"
      ]
     },
     "metadata": {},
     "output_type": "display_data"
    },
    {
     "data": {
      "image/png": "[encoded data removed]",
      "text/plain": [
       "<Figure size 1440x360 with 2 Axes>"
      ]
     },
     "metadata": {
      "needs_background": "light"
     },
     "output_type": "display_data"
    }
   ],
   "source": [
    "#Пол, Члены семьи и страховые выплаты - круговая диаграмма\n",
    "fig, axs = plt.subplots(1, 3, figsize=(20, 15), sharex='col')\n",
    "columns = ['Пол', 'Члены семьи', 'Страховые выплаты']\n",
    "for index, name in enumerate(columns):\n",
    "        ins.groupby(name)['Возраст'].agg('count').plot(kind='pie', ax=axs[index], title = name, ylabel='')\n",
    "plt.show();\n",
    "\n",
    "#Зарплата и возраст - гистограмма\n",
    "fig, axs = plt.subplots(1, 2, figsize=(20, 5), sharex='col')\n",
    "columns = ['Зарплата', 'Возраст']\n",
    "for index, name in enumerate(columns):\n",
    "        ins[name].hist(bins = 48, ax=axs[index])\n",
    "        plt.title(name)\n",
    "plt.show();\n"
   ]
  },
  {
   "cell_type": "code",
   "execution_count": 68,
   "metadata": {},
   "outputs": [
    {
     "data": {
      "image/png": "[encoded data removed]",
      "text/plain": [
       "<Figure size 1080x216 with 6 Axes>"
      ]
     },
     "metadata": {
      "needs_background": "light"
     },
     "output_type": "display_data"
    }
   ],
   "source": [
    "#Построим горизонтальные boxplot для каждой платформы\n",
    "ins_with_no_claims = ins.loc[ins['Страховые выплаты'] == 0, ['Возраст', 'Зарплата', 'Члены семьи']]\n",
    "ins_with_no_claims.columns = ['Возраст клиентов без стр.выплат', \n",
    "                              'Зарплата клиентов без стр.выплат', \n",
    "                              'Кол-во членов семьи у клиентов без стр.выплат']\n",
    "ins_with_claims = ins.loc[ins['Страховые выплаты'] != 0, ['Возраст', 'Зарплата', 'Члены семьи']]\n",
    "ins_with_claims.columns = ['Возраст клиентов со стр.выплатами', \n",
    "                           'Зарплата клиентов со стр.выплатами', \n",
    "                           'Кол-во членов семьи у клиентов со стр.выплатами']\n",
    "\n",
    "fig, axs = plt.subplots(2, 3, figsize=(15, 3), sharex='col')\n",
    "sns.boxplot(data=ins_with_no_claims, x='Возраст клиентов без стр.выплат', orient = 'h', ax = axs[0, 0])\n",
    "sns.boxplot(data=ins_with_claims, x='Возраст клиентов со стр.выплатами', orient = 'h', ax = axs[1, 0])\n",
    "sns.boxplot(data=ins_with_no_claims, x='Зарплата клиентов без стр.выплат', orient = 'h', ax = axs[0, 1])\n",
    "sns.boxplot(data=ins_with_claims, x='Зарплата клиентов со стр.выплатами', orient = 'h', ax = axs[1, 1])\n",
    "sns.boxplot(data=ins_with_no_claims, x='Кол-во членов семьи у клиентов без стр.выплат', orient = 'h', ax = axs[0, 2])\n",
    "sns.boxplot(data=ins_with_claims, x='Кол-во членов семьи у клиентов со стр.выплатами', orient = 'h', ax = axs[1, 2])\n",
    "plt.show()"
   ]
  },
  {
   "cell_type": "markdown",
   "metadata": {},
   "source": [
    "**Вывод:**\n",
    "* В таблице персональных данных содержатся данные 5000 клиентов. В полученной таблице содержатся данные о поле, возрасте, зарплате, количестве членов семьи и о наличии страховых выплат. В целях дальнейшего построения модели признак количества выплат является целевым;\n",
    "* Данные не содержат пропусков\n",
    "* Количество мужчин и женщин в данных примерно одинаково. Показатель заработной платы имеет нормальное распределение, показатели возраста, количества членов семьи, количества страховых выплат - логнормальное распределение.\n",
    "* По результатам исследования взаимосвязи признаков с целевым признаком количества выплат выявлено, что показатели страховых выплат и зарплаты, страховых выплат и кол-ва членов семьи независимы друг от друга. При этом выявлена взаимосвязь показателей страховых выплат и возраста: среди клиентов до 42 лет отсутствуют страховые выплаты. При этом у клиентов более 42 лет у всех есть минимум одна страховая выплата. Но данный факт не обязательно означает, что не стоит страховать клиентов старше 42 лет - возможно, наличие страховых выплат у таких клиентов связано с большим сроком страхования, или с тем, что по договору клиенты застрахованы на дожитие до определенного возраста. В любом случае, данный показатель необходимо дополнительно исследовать."
   ]
  },
  {
   "cell_type": "markdown",
   "metadata": {},
   "source": [
    "## Умножение матриц"
   ]
  },
  {
   "cell_type": "markdown",
   "metadata": {},
   "source": [
    "В этом задании вы можете записывать формулы в *Jupyter Notebook.*\n",
    "\n",
    "Чтобы записать формулу внутри текста, окружите её символами доллара \\\\$; если снаружи —  двойными символами \\\\$\\\\$. Эти формулы записываются на языке вёрстки *LaTeX.* \n",
    "\n",
    "Для примера мы записали формулы линейной регрессии. Можете их скопировать и отредактировать, чтобы решить задачу.\n",
    "\n",
    "Работать в *LaTeX* необязательно."
   ]
  },
  {
   "cell_type": "markdown",
   "metadata": {},
   "source": [
    "Обозначения:\n",
    "\n",
    "- $X$ — матрица признаков (нулевой столбец состоит из единиц)\n",
    "\n",
    "- $y$ — вектор целевого признака\n",
    "\n",
    "- $P$ — матрица, на которую умножаются признаки\n",
    "\n",
    "- $w$ — вектор весов линейной регрессии (нулевой элемент равен сдвигу)"
   ]
  },
  {
   "cell_type": "markdown",
   "metadata": {},
   "source": [
    "Предсказания:\n",
    "\n",
    "$$\n",
    "a = Xw\n",
    "$$\n",
    "\n",
    "Задача обучения:\n",
    "\n",
    "$$\n",
    "w = \\arg\\min_w MSE(Xw, y)\n",
    "$$\n",
    "\n",
    "Формула обучения:\n",
    "\n",
    "$$\n",
    "w = (X^T X)^{-1} X^T y\n",
    "$$"
   ]
  },
  {
   "cell_type": "markdown",
   "metadata": {},
   "source": [
    "### Задача\n",
    "\n",
    "Признаки умножают на обратимую матрицу. Изменится ли качество линейной регрессии?\n",
    " * Изменится. Приведите примеры матриц.\n",
    " * Не изменится. Укажите, как связаны параметры линейной регрессии в исходной задаче и в преобразованной."
   ]
  },
  {
   "cell_type": "markdown",
   "metadata": {},
   "source": [
    "### Решение задачи и математическое обоснование"
   ]
  },
  {
   "cell_type": "markdown",
   "metadata": {},
   "source": [
    "**Ответ:** Качество модели не изменится\n",
    "\n",
    "**Обоснование:** \n",
    "\n",
    "Сравним обычные формулы предсказаний и вектора весов, и те же формулы, если признаки умножить на обратимую матрицу\n",
    "\n",
    "Обычные формулы:\n",
    "\n",
    "$$w = (X^T X)^{-1} X^T y$$\n",
    "$$a = X w$$\n",
    "$$a = X * (X^T X)^{-1} X^T y$$\n",
    "\n",
    "Формулы, если признаки умножить на обратимую матрицу P:\n",
    "\n",
    "$$w' = ((X * P)^T (X * P))^{-1} (X * P)^T y$$\n",
    "$$a = XP w$$\n",
    "\n",
    "Докажем эквивалентность путем нескольких преобразований:\n",
    "\n",
    "1. Раскроем в формуле вектора весов скобки в части, где есть транспонирование ($(AB)^T = B^T * A^T$)\n",
    "\n",
    "$w' = ((P^T * X^T * X * P))^{-1} (P^T * X^T) y $\n",
    "\n",
    "2. Возьмем $X^T X$ за скобки и раскроем скобку с преобразованием в обратную матрицу ($(ABC)^{-1} = C^{-1} * B^{-1} * A^{-1}$)\n",
    "\n",
    "$w' = P^{-1} * (X^T * X)^{-1} * (P^T)^{-1} * P^T * X^T * y $\n",
    "\n",
    "3. Получаем умножение одной матрицы на такую же, только обратную ($(P^T)^{-1} P^T$). По свойству матриц ($A^{-1} A = E$) заменяем их на единичную матрицу\n",
    "\n",
    "$w' = P^{-1} * (X^T * X)^{-1} * E * X^T * y $\n",
    "\n",
    "4. По свойству единичных матриц (AE = EA = A) получаем, что E можно убрать из записи:\n",
    "\n",
    "$w' = P^{-1} * (X^T * X)^{-1} * X^T * y $\n",
    "\n",
    "Т.о. получаем, что:\n",
    "\n",
    "$w' = P^{-1} * w $\n",
    "\n",
    "5. Подставим w' в формулу предсказания a\n",
    "\n",
    "$a = X * P * P^{-1} * (X^T X)^{-1} X^T * y$\n",
    "\n",
    "6. Получаем умножение матрицы P на такую же, только обратную. Заменяем $P * P^{-1}$ на E, и убираем Е из записи формулы (т.к. AE = EA = A)\n",
    "\n",
    "$a = X * (X^T X)^{-1} X^T * y$\n",
    "\n",
    "Таким образом, получилось выйти на первоначальную формулу предсказания модели"
   ]
  },
  {
   "cell_type": "markdown",
   "metadata": {},
   "source": [
    "**Вывод:**\n",
    "\n",
    "По результатам решения задачи было получено подтверждение, что при умножении матрицы признаков на обратимую матрицу качество полученной модели линейной регрессии не меняется"
   ]
  },
  {
   "cell_type": "markdown",
   "metadata": {},
   "source": [
    "## Алгоритм преобразования"
   ]
  },
  {
   "cell_type": "markdown",
   "metadata": {},
   "source": [
    "**Алгоритм**\n",
    "\n",
    "1. Создается функция, возвращающая квадратную матрицу, заполненную случайными значениями. Размер матрицы определяется по количеству признаков в модели\n",
    "\n",
    "\n",
    "2. Данные разделяются на обучающую и тестовую выборки\n",
    "\n",
    "Исходные данные разделяются на обучающую и тестовую выборку, на признаки и целевой признак. В целях тестирования алгоритма исходные данные будут сохранены в неизменном виде в отдельной переменной для дальнейшего сравнения\n",
    "\n",
    "3. Признаки модели из обучающей и тестовой выборки умножаются на квадратную матрицу \n",
    "\n",
    "Матрица создается функцией из п.1. Количество строк и столбцов в матрице равно количеству признаков. Матрица заполнена случайными значениями. Матрица создается перед обучением и хранится в качестве отдельного объекта. При отправке кому-либо зашифрованных персональных данных, отдельным письмом или альтернативным способом получателю можно передать случайную матрицу в качестве ключа, по которому можно будет восстановить первоначальные значения.\n",
    "\n",
    "4. Создается модель линейной регрессии, обучается на обучающей выборке\n",
    "\n",
    "В целях тестирования алгоритма будут созданы 2 модели - модель, обученная на первоначальных данных, и модель, обученная на признаках, умноженных на случайную матрицу\n",
    "\n",
    "5. Проверяется качество моделей\n",
    "\n",
    "Для моделей будут рассчитана метрика R2. Качество модели после преобразования должно остаться неизменным"
   ]
  },
  {
   "cell_type": "markdown",
   "metadata": {},
   "source": [
    "**Обоснование**\n",
    "\n",
    "1. После умножения признаков на случайную матрицу качество модели не должно измениться, так как в п.2 данного проекта было доказано, что умножение признаков на случайную матрицу не оказывает влияния на предсказание модели линейной регрессии.\n",
    "\n",
    "\n",
    "2. При перехвате злоумышленником персональных данных, первоначальные данные будет практически невозможно восстановить, не зная данных случайной матрицы. Например, при заполнении матрицы 4х4 16ю рандомными числами, даже при условии, что числа заранее известны, а в матрице отсутствуют повторения, существует 16! (20 922 789 888 000) вариантов перестановок данных чисел."
   ]
  },
  {
   "cell_type": "code",
   "execution_count": 69,
   "metadata": {},
   "outputs": [],
   "source": [
    "#Функция, создающая квадратную матрицу, заполненную случайными значениями\n",
    "\n",
    "def create_random_matrix(features):\n",
    "    try:\n",
    "        columns = features.shape[1]\n",
    "        random_matrix = np.random.rand(columns, columns)\n",
    "        np.linalg.inv(random_matrix) #Проверка на обратимость\n",
    "        return random_matrix\n",
    "    except:\n",
    "        create_random_matrix(features)"
   ]
  },
  {
   "cell_type": "markdown",
   "metadata": {},
   "source": [
    "## Проверка алгоритма"
   ]
  },
  {
   "cell_type": "markdown",
   "metadata": {},
   "source": [
    "### Разделение данных на обучающую и тестовую выборки"
   ]
  },
  {
   "cell_type": "code",
   "execution_count": 70,
   "metadata": {},
   "outputs": [],
   "source": [
    "features = ins.drop('Страховые выплаты', axis=1)\n",
    "target = ins['Страховые выплаты']\n",
    "\n",
    "features_train, features_test, target_train, target_test = train_test_split(features, target, \n",
    "                                                                            test_size=0.25, random_state=123)"
   ]
  },
  {
   "cell_type": "markdown",
   "metadata": {},
   "source": [
    "### Применение алгоритма преобразования персональных данных"
   ]
  },
  {
   "cell_type": "code",
   "execution_count": 71,
   "metadata": {},
   "outputs": [
    {
     "name": "stdout",
     "output_type": "stream",
     "text": [
      "Случайная матрица:\n",
      "[[0.85335427 0.2289277  0.18298137 0.42221575]\n",
      " [0.96744229 0.037006   0.86887341 0.25602741]\n",
      " [0.3727633  0.73722578 0.72536739 0.36108303]\n",
      " [0.20786947 0.87861015 0.64609481 0.64386506]]\n"
     ]
    }
   ],
   "source": [
    "#Создание случайной матрицы для шифрования данных\n",
    "random_matrix = create_random_matrix(features_train)\n",
    "print('Случайная матрица:')\n",
    "print(random_matrix)"
   ]
  },
  {
   "cell_type": "code",
   "execution_count": 72,
   "metadata": {},
   "outputs": [
    {
     "name": "stdout",
     "output_type": "stream",
     "text": [
      "Зашифрованные данные в обучающей выборке:\n"
     ]
    },
    {
     "data": {
      "text/html": [
       "<div>\n",
       "<style scoped>\n",
       "    .dataframe tbody tr th:only-of-type {\n",
       "        vertical-align: middle;\n",
       "    }\n",
       "\n",
       "    .dataframe tbody tr th {\n",
       "        vertical-align: top;\n",
       "    }\n",
       "\n",
       "    .dataframe thead th {\n",
       "        text-align: right;\n",
       "    }\n",
       "</style>\n",
       "<table border=\"1\" class=\"dataframe\">\n",
       "  <thead>\n",
       "    <tr style=\"text-align: right;\">\n",
       "      <th></th>\n",
       "      <th>Пол</th>\n",
       "      <th>Возраст</th>\n",
       "      <th>Зарплата</th>\n",
       "      <th>Члены семьи</th>\n",
       "    </tr>\n",
       "  </thead>\n",
       "  <tbody>\n",
       "    <tr>\n",
       "      <th>0</th>\n",
       "      <td>15910.008829</td>\n",
       "      <td>31408.914383</td>\n",
       "      <td>30928.192330</td>\n",
       "      <td>15391.527699</td>\n",
       "    </tr>\n",
       "    <tr>\n",
       "      <th>1</th>\n",
       "      <td>9311.890596</td>\n",
       "      <td>18359.139539</td>\n",
       "      <td>18088.543373</td>\n",
       "      <td>8999.714264</td>\n",
       "    </tr>\n",
       "    <tr>\n",
       "      <th>2</th>\n",
       "      <td>17021.224974</td>\n",
       "      <td>33618.383526</td>\n",
       "      <td>33097.606098</td>\n",
       "      <td>16471.530668</td>\n",
       "    </tr>\n",
       "    <tr>\n",
       "      <th>3</th>\n",
       "      <td>13206.156938</td>\n",
       "      <td>26026.761795</td>\n",
       "      <td>25648.689877</td>\n",
       "      <td>12759.420045</td>\n",
       "    </tr>\n",
       "    <tr>\n",
       "      <th>4</th>\n",
       "      <td>13971.223944</td>\n",
       "      <td>27573.583128</td>\n",
       "      <td>27154.989695</td>\n",
       "      <td>13512.608231</td>\n",
       "    </tr>\n",
       "  </tbody>\n",
       "</table>\n",
       "</div>"
      ],
      "text/plain": [
       "            Пол       Возраст      Зарплата   Члены семьи\n",
       "0  15910.008829  31408.914383  30928.192330  15391.527699\n",
       "1   9311.890596  18359.139539  18088.543373   8999.714264\n",
       "2  17021.224974  33618.383526  33097.606098  16471.530668\n",
       "3  13206.156938  26026.761795  25648.689877  12759.420045\n",
       "4  13971.223944  27573.583128  27154.989695  13512.608231"
      ]
     },
     "metadata": {},
     "output_type": "display_data"
    },
    {
     "name": "stdout",
     "output_type": "stream",
     "text": [
      "Зашифрованные данные в тестовой выборке:\n"
     ]
    },
    {
     "data": {
      "text/html": [
       "<div>\n",
       "<style scoped>\n",
       "    .dataframe tbody tr th:only-of-type {\n",
       "        vertical-align: middle;\n",
       "    }\n",
       "\n",
       "    .dataframe tbody tr th {\n",
       "        vertical-align: top;\n",
       "    }\n",
       "\n",
       "    .dataframe thead th {\n",
       "        text-align: right;\n",
       "    }\n",
       "</style>\n",
       "<table border=\"1\" class=\"dataframe\">\n",
       "  <thead>\n",
       "    <tr style=\"text-align: right;\">\n",
       "      <th></th>\n",
       "      <th>Пол</th>\n",
       "      <th>Возраст</th>\n",
       "      <th>Зарплата</th>\n",
       "      <th>Члены семьи</th>\n",
       "    </tr>\n",
       "  </thead>\n",
       "  <tbody>\n",
       "    <tr>\n",
       "      <th>0</th>\n",
       "      <td>14678.506766</td>\n",
       "      <td>28974.275096</td>\n",
       "      <td>28532.318869</td>\n",
       "      <td>14198.409954</td>\n",
       "    </tr>\n",
       "    <tr>\n",
       "      <th>1</th>\n",
       "      <td>14122.472017</td>\n",
       "      <td>27869.426060</td>\n",
       "      <td>27447.520494</td>\n",
       "      <td>13658.197361</td>\n",
       "    </tr>\n",
       "    <tr>\n",
       "      <th>2</th>\n",
       "      <td>20170.568023</td>\n",
       "      <td>39815.452515</td>\n",
       "      <td>39208.230411</td>\n",
       "      <td>19511.978233</td>\n",
       "    </tr>\n",
       "    <tr>\n",
       "      <th>3</th>\n",
       "      <td>15017.977591</td>\n",
       "      <td>29637.734396</td>\n",
       "      <td>29189.310908</td>\n",
       "      <td>14524.242599</td>\n",
       "    </tr>\n",
       "    <tr>\n",
       "      <th>4</th>\n",
       "      <td>9978.027320</td>\n",
       "      <td>19685.960905</td>\n",
       "      <td>19389.860314</td>\n",
       "      <td>9648.383575</td>\n",
       "    </tr>\n",
       "  </tbody>\n",
       "</table>\n",
       "</div>"
      ],
      "text/plain": [
       "            Пол       Возраст      Зарплата   Члены семьи\n",
       "0  14678.506766  28974.275096  28532.318869  14198.409954\n",
       "1  14122.472017  27869.426060  27447.520494  13658.197361\n",
       "2  20170.568023  39815.452515  39208.230411  19511.978233\n",
       "3  15017.977591  29637.734396  29189.310908  14524.242599\n",
       "4   9978.027320  19685.960905  19389.860314   9648.383575"
      ]
     },
     "metadata": {},
     "output_type": "display_data"
    }
   ],
   "source": [
    "#Шифрование персональных данных в обучающей и тестовой выборке\n",
    "new_features_train = pd.DataFrame(np.array(features_train).dot(random_matrix), columns = features_train.columns)\n",
    "new_features_test = pd.DataFrame(np.array(features_test).dot(random_matrix), columns = features_test.columns)\n",
    "print('Зашифрованные данные в обучающей выборке:')\n",
    "display(new_features_train.head())\n",
    "print('Зашифрованные данные в тестовой выборке:')\n",
    "display(new_features_test.head())"
   ]
  },
  {
   "cell_type": "markdown",
   "metadata": {},
   "source": [
    "### Обучение моделей"
   ]
  },
  {
   "cell_type": "code",
   "execution_count": 73,
   "metadata": {},
   "outputs": [],
   "source": [
    "#Обучение модели до преобразования\n",
    "model_before = LinearRegression()\n",
    "model_before.fit(features_train, target_train)\n",
    "predictions_before = model_before.predict(features_test)"
   ]
  },
  {
   "cell_type": "code",
   "execution_count": 74,
   "metadata": {},
   "outputs": [],
   "source": [
    "#Обучение модели после преобразования\n",
    "model_after = LinearRegression()\n",
    "model_after.fit(new_features_train, target_train)\n",
    "predictions_after = model_after.predict(features_test)"
   ]
  },
  {
   "cell_type": "markdown",
   "metadata": {},
   "source": [
    "### Сравнение качества моделей"
   ]
  },
  {
   "cell_type": "code",
   "execution_count": 75,
   "metadata": {},
   "outputs": [
    {
     "name": "stdout",
     "output_type": "stream",
     "text": [
      "0.43018469990932917\n",
      "0.43018469990922703\n"
     ]
    }
   ],
   "source": [
    "print(model_before.score(features_test, target_test))\n",
    "print(model_after.score(new_features_test, target_test))"
   ]
  },
  {
   "cell_type": "markdown",
   "metadata": {},
   "source": [
    "**Вывод:**\n",
    "\n",
    "После шифрования персональных данных с помощью матрицы качество модели осталось практически неизменным"
   ]
  },
  {
   "cell_type": "markdown",
   "metadata": {},
   "source": [
    "## Общий вывод"
   ]
  },
  {
   "cell_type": "markdown",
   "metadata": {},
   "source": [
    "**1. Изучение данных**\n",
    "\n",
    "* В таблице персональных данных содержатся данные 5000 клиентов. В полученной таблице содержатся данные о поле, возрасте, зарплате, количестве членов семьи и о наличии страховых выплат;\n",
    "* Количество мужчин и женщин в данных примерно одинаково. Показатель заработной платы имеет нормальное распределение, показатели возраста, количества членов семьи, количества страховых выплат - логнормальное распределение;\n",
    "* По результатам исследования взаимосвязи признаков с целевым признаком количества выплат выявлено, что показатели страховых выплат и зарплаты, страховых выплат и кол-ва членов семьи независимы друг от друга. При этом выявлена взаимосвязь показателей страховых выплат и возраста: среди клиентов до 42 лет отсутствуют страховые выплаты. При этом у клиентов более 42 лет у всех есть минимум одна страховая выплата. Но данный факт не обязательно означает, что не стоит страховать клиентов старше 42 лет - возможно, наличие страховых выплат у таких клиентов связано с большим сроком страхования, или с тем, что по договору клиенты застрахованы на дожитие до определенного возраста. В любом случае, данный показатель необходимо дополнительно исследовать.\n",
    "\n",
    "**2. Умножение матриц**\n",
    "\n",
    "В рамках проекта получено доказательство, что умножение признаков модели на любую обратимую матрицу не влияет на качество моделей\n",
    "\n",
    "**3. Алгоритм преобразования**\n",
    "\n",
    "В качестве алгоритма для шифрования персональных данных предложен алгоритм, предусматривающий умножение признаков модели на случайную матрицу.\n",
    "\n",
    "**4. Проверка алгоритма**\n",
    "\n",
    "По результатам сверки метрики R2 было получено подтверждение, что качество модели не изменилось:\n",
    "* R2 модели без шифрования персональных данных: 0.4302\n",
    "* R2 модели после шифрования персональных данных: 0.4302"
   ]
  }
 ],
 "metadata": {
  "ExecuteTimeLog": [
   {
    "duration": 366,
    "start_time": "2023-04-10T10:59:07.458Z"
   },
   {
    "duration": 86,
    "start_time": "2023-04-10T10:59:08.737Z"
   },
   {
    "duration": 36,
    "start_time": "2023-04-10T10:59:18.775Z"
   },
   {
    "duration": 5,
    "start_time": "2023-04-10T11:01:17.526Z"
   },
   {
    "duration": 27,
    "start_time": "2023-04-10T11:07:11.916Z"
   },
   {
    "duration": 741,
    "start_time": "2023-04-10T11:10:25.828Z"
   },
   {
    "duration": 1387,
    "start_time": "2023-04-10T11:13:56.301Z"
   },
   {
    "duration": 1269,
    "start_time": "2023-04-10T11:14:05.318Z"
   },
   {
    "duration": 1735,
    "start_time": "2023-04-10T11:14:36.650Z"
   },
   {
    "duration": 1397,
    "start_time": "2023-04-10T11:14:48.911Z"
   },
   {
    "duration": 1542,
    "start_time": "2023-04-10T11:15:49.780Z"
   },
   {
    "duration": 593,
    "start_time": "2023-04-10T11:20:50.733Z"
   },
   {
    "duration": 7194,
    "start_time": "2023-04-10T11:20:55.196Z"
   },
   {
    "duration": 5430,
    "start_time": "2023-04-10T11:44:59.558Z"
   },
   {
    "duration": 5738,
    "start_time": "2023-04-10T11:45:25.884Z"
   },
   {
    "duration": 27,
    "start_time": "2023-04-10T11:45:49.585Z"
   },
   {
    "duration": 5784,
    "start_time": "2023-04-10T11:45:52.585Z"
   },
   {
    "duration": 12,
    "start_time": "2023-04-10T11:46:05.357Z"
   },
   {
    "duration": 21,
    "start_time": "2023-04-10T11:46:06.135Z"
   },
   {
    "duration": 91,
    "start_time": "2023-04-10T11:46:38.011Z"
   },
   {
    "duration": 5285,
    "start_time": "2023-04-10T11:47:38.111Z"
   },
   {
    "duration": 5,
    "start_time": "2023-04-10T11:47:51.362Z"
   },
   {
    "duration": 3,
    "start_time": "2023-04-10T11:55:33.542Z"
   },
   {
    "duration": 392,
    "start_time": "2023-04-10T11:55:38.307Z"
   },
   {
    "duration": 11,
    "start_time": "2023-04-10T14:13:51.743Z"
   },
   {
    "duration": 440,
    "start_time": "2023-04-10T14:14:02.069Z"
   },
   {
    "duration": 7,
    "start_time": "2023-04-10T14:14:05.596Z"
   },
   {
    "duration": 33,
    "start_time": "2023-04-10T14:14:39.297Z"
   },
   {
    "duration": 23,
    "start_time": "2023-04-10T14:15:05.223Z"
   },
   {
    "duration": 9,
    "start_time": "2023-04-10T14:24:09.465Z"
   },
   {
    "duration": 16,
    "start_time": "2023-04-10T14:25:24.097Z"
   },
   {
    "duration": 18,
    "start_time": "2023-04-10T14:26:32.574Z"
   },
   {
    "duration": 7,
    "start_time": "2023-04-10T14:26:53.804Z"
   },
   {
    "duration": 17,
    "start_time": "2023-04-10T14:26:54.794Z"
   },
   {
    "duration": 8,
    "start_time": "2023-04-10T14:27:50.266Z"
   },
   {
    "duration": 29,
    "start_time": "2023-04-10T14:27:58.516Z"
   },
   {
    "duration": 7,
    "start_time": "2023-04-10T14:28:11.822Z"
   },
   {
    "duration": 100,
    "start_time": "2023-04-10T14:28:15.441Z"
   },
   {
    "duration": 136,
    "start_time": "2023-04-10T14:28:50.147Z"
   },
   {
    "duration": 12,
    "start_time": "2023-04-10T14:29:09.555Z"
   },
   {
    "duration": 85,
    "start_time": "2023-04-10T14:33:39.944Z"
   },
   {
    "duration": 4,
    "start_time": "2023-04-10T14:38:29.191Z"
   },
   {
    "duration": 97,
    "start_time": "2023-04-10T14:38:59.012Z"
   },
   {
    "duration": 1661,
    "start_time": "2023-04-10T20:21:46.114Z"
   },
   {
    "duration": 133,
    "start_time": "2023-04-10T20:21:47.777Z"
   },
   {
    "duration": 12,
    "start_time": "2023-04-10T20:21:47.912Z"
   },
   {
    "duration": 24,
    "start_time": "2023-04-10T20:21:47.925Z"
   },
   {
    "duration": 7719,
    "start_time": "2023-04-10T20:21:47.952Z"
   },
   {
    "duration": 451,
    "start_time": "2023-04-10T20:21:55.672Z"
   },
   {
    "duration": 105,
    "start_time": "2023-04-10T20:21:56.126Z"
   },
   {
    "duration": 0,
    "start_time": "2023-04-10T20:21:56.233Z"
   },
   {
    "duration": 0,
    "start_time": "2023-04-10T20:21:56.234Z"
   },
   {
    "duration": 0,
    "start_time": "2023-04-10T20:21:56.236Z"
   },
   {
    "duration": 0,
    "start_time": "2023-04-10T20:21:56.236Z"
   },
   {
    "duration": 0,
    "start_time": "2023-04-10T20:21:56.237Z"
   },
   {
    "duration": 10,
    "start_time": "2023-04-10T20:22:04.984Z"
   },
   {
    "duration": 5,
    "start_time": "2023-04-10T20:22:05.500Z"
   },
   {
    "duration": 3,
    "start_time": "2023-04-10T20:22:12.436Z"
   },
   {
    "duration": 5,
    "start_time": "2023-04-10T20:25:52.730Z"
   },
   {
    "duration": 5,
    "start_time": "2023-04-10T20:26:14.697Z"
   },
   {
    "duration": 3,
    "start_time": "2023-04-10T20:27:00.360Z"
   },
   {
    "duration": 3,
    "start_time": "2023-04-10T20:36:27.593Z"
   },
   {
    "duration": 3,
    "start_time": "2023-04-10T20:38:09.858Z"
   },
   {
    "duration": 5,
    "start_time": "2023-04-10T20:38:45.596Z"
   },
   {
    "duration": 5,
    "start_time": "2023-04-10T21:04:44.170Z"
   },
   {
    "duration": 5,
    "start_time": "2023-04-10T21:05:08.744Z"
   },
   {
    "duration": 7,
    "start_time": "2023-04-10T21:08:04.367Z"
   },
   {
    "duration": 9,
    "start_time": "2023-04-10T21:08:41.238Z"
   },
   {
    "duration": 11,
    "start_time": "2023-04-10T21:09:29.456Z"
   },
   {
    "duration": 5,
    "start_time": "2023-04-10T21:09:52.334Z"
   },
   {
    "duration": 8,
    "start_time": "2023-04-10T21:09:55.535Z"
   },
   {
    "duration": 10,
    "start_time": "2023-04-10T21:10:11.819Z"
   },
   {
    "duration": 23,
    "start_time": "2023-04-10T21:11:00.382Z"
   },
   {
    "duration": 20,
    "start_time": "2023-04-10T21:11:51.861Z"
   },
   {
    "duration": 22,
    "start_time": "2023-04-10T21:12:02.942Z"
   },
   {
    "duration": 11,
    "start_time": "2023-04-10T21:12:52.070Z"
   },
   {
    "duration": 10,
    "start_time": "2023-04-10T21:13:06.636Z"
   },
   {
    "duration": 12,
    "start_time": "2023-04-10T21:13:13.959Z"
   },
   {
    "duration": 9,
    "start_time": "2023-04-10T21:15:54.061Z"
   },
   {
    "duration": 3,
    "start_time": "2023-04-10T21:30:56.199Z"
   },
   {
    "duration": 54,
    "start_time": "2023-04-10T21:30:56.204Z"
   },
   {
    "duration": 11,
    "start_time": "2023-04-10T21:30:56.260Z"
   },
   {
    "duration": 46,
    "start_time": "2023-04-10T21:30:56.273Z"
   },
   {
    "duration": 7220,
    "start_time": "2023-04-10T21:30:56.321Z"
   },
   {
    "duration": 446,
    "start_time": "2023-04-10T21:31:03.543Z"
   },
   {
    "duration": 5,
    "start_time": "2023-04-10T21:31:03.991Z"
   },
   {
    "duration": 26,
    "start_time": "2023-04-10T21:31:03.998Z"
   },
   {
    "duration": 16,
    "start_time": "2023-04-10T21:31:04.026Z"
   },
   {
    "duration": 143,
    "start_time": "2023-04-10T21:31:04.046Z"
   },
   {
    "duration": 8,
    "start_time": "2023-04-10T21:31:04.191Z"
   },
   {
    "duration": 12,
    "start_time": "2023-04-10T21:31:04.201Z"
   },
   {
    "duration": 15,
    "start_time": "2023-04-10T21:31:04.215Z"
   },
   {
    "duration": 4,
    "start_time": "2023-04-10T21:35:16.623Z"
   },
   {
    "duration": 46,
    "start_time": "2023-04-10T21:35:16.629Z"
   },
   {
    "duration": 11,
    "start_time": "2023-04-10T21:35:16.676Z"
   },
   {
    "duration": 44,
    "start_time": "2023-04-10T21:35:16.690Z"
   },
   {
    "duration": 6909,
    "start_time": "2023-04-10T21:35:16.738Z"
   },
   {
    "duration": 559,
    "start_time": "2023-04-10T21:35:23.649Z"
   },
   {
    "duration": 5,
    "start_time": "2023-04-10T21:35:24.210Z"
   },
   {
    "duration": 11,
    "start_time": "2023-04-10T21:35:24.217Z"
   },
   {
    "duration": 6,
    "start_time": "2023-04-10T21:35:24.230Z"
   },
   {
    "duration": 102,
    "start_time": "2023-04-10T21:35:24.287Z"
   },
   {
    "duration": 9,
    "start_time": "2023-04-10T21:35:24.391Z"
   },
   {
    "duration": 8,
    "start_time": "2023-04-10T21:35:24.403Z"
   },
   {
    "duration": 8,
    "start_time": "2023-04-10T21:35:24.413Z"
   },
   {
    "duration": 2967,
    "start_time": "2023-04-11T05:08:59.395Z"
   },
   {
    "duration": 36,
    "start_time": "2023-04-11T05:09:02.365Z"
   },
   {
    "duration": 13,
    "start_time": "2023-04-11T05:10:02.523Z"
   },
   {
    "duration": 24,
    "start_time": "2023-04-11T05:10:03.051Z"
   },
   {
    "duration": 6151,
    "start_time": "2023-04-11T05:10:03.618Z"
   },
   {
    "duration": 428,
    "start_time": "2023-04-11T05:10:09.771Z"
   },
   {
    "duration": 4,
    "start_time": "2023-04-11T05:14:57.701Z"
   },
   {
    "duration": 8,
    "start_time": "2023-04-11T05:15:26.879Z"
   },
   {
    "duration": 9,
    "start_time": "2023-04-11T05:15:31.828Z"
   },
   {
    "duration": 24,
    "start_time": "2023-04-11T05:15:32.414Z"
   },
   {
    "duration": 8,
    "start_time": "2023-04-11T05:15:47.654Z"
   },
   {
    "duration": 9,
    "start_time": "2023-04-11T05:15:48.093Z"
   },
   {
    "duration": 10,
    "start_time": "2023-04-11T05:15:48.591Z"
   },
   {
    "duration": 57,
    "start_time": "2023-04-11T09:22:36.271Z"
   },
   {
    "duration": 1596,
    "start_time": "2023-04-11T09:22:43.115Z"
   },
   {
    "duration": 92,
    "start_time": "2023-04-11T09:22:44.714Z"
   },
   {
    "duration": 14,
    "start_time": "2023-04-11T09:22:44.808Z"
   },
   {
    "duration": 72,
    "start_time": "2023-04-11T09:22:44.824Z"
   },
   {
    "duration": 25056,
    "start_time": "2023-04-11T09:22:44.899Z"
   },
   {
    "duration": 0,
    "start_time": "2023-04-11T09:23:09.956Z"
   },
   {
    "duration": 0,
    "start_time": "2023-04-11T09:23:09.958Z"
   },
   {
    "duration": 0,
    "start_time": "2023-04-11T09:23:09.959Z"
   },
   {
    "duration": 0,
    "start_time": "2023-04-11T09:23:09.960Z"
   },
   {
    "duration": 0,
    "start_time": "2023-04-11T09:23:09.961Z"
   },
   {
    "duration": 0,
    "start_time": "2023-04-11T09:23:09.962Z"
   },
   {
    "duration": 0,
    "start_time": "2023-04-11T09:23:09.963Z"
   },
   {
    "duration": 0,
    "start_time": "2023-04-11T09:23:09.964Z"
   },
   {
    "duration": 7947,
    "start_time": "2023-04-11T09:23:25.507Z"
   },
   {
    "duration": 51,
    "start_time": "2023-04-11T09:24:15.417Z"
   },
   {
    "duration": 29015,
    "start_time": "2023-04-11T09:24:24.564Z"
   },
   {
    "duration": 61,
    "start_time": "2023-04-11T09:25:58.784Z"
   },
   {
    "duration": 408,
    "start_time": "2023-04-11T09:30:34.208Z"
   },
   {
    "duration": 292,
    "start_time": "2023-04-11T09:31:39.918Z"
   },
   {
    "duration": 327,
    "start_time": "2023-04-11T09:32:17.515Z"
   },
   {
    "duration": 244,
    "start_time": "2023-04-11T09:32:34.530Z"
   },
   {
    "duration": 645,
    "start_time": "2023-04-11T09:36:29.718Z"
   },
   {
    "duration": 590,
    "start_time": "2023-04-11T09:36:44.309Z"
   },
   {
    "duration": 555,
    "start_time": "2023-04-11T09:36:54.710Z"
   },
   {
    "duration": 613,
    "start_time": "2023-04-11T09:37:47.262Z"
   },
   {
    "duration": 5,
    "start_time": "2023-04-11T09:37:47.877Z"
   },
   {
    "duration": 604,
    "start_time": "2023-04-11T09:38:20.380Z"
   },
   {
    "duration": 548,
    "start_time": "2023-04-11T09:38:39.913Z"
   },
   {
    "duration": 588,
    "start_time": "2023-04-11T09:38:49.325Z"
   },
   {
    "duration": 62,
    "start_time": "2023-04-11T09:47:00.732Z"
   },
   {
    "duration": 117,
    "start_time": "2023-04-11T09:47:11.256Z"
   },
   {
    "duration": 142,
    "start_time": "2023-04-11T09:47:24.949Z"
   },
   {
    "duration": 158,
    "start_time": "2023-04-11T09:47:47.477Z"
   },
   {
    "duration": 124,
    "start_time": "2023-04-11T09:48:23.095Z"
   },
   {
    "duration": 1568,
    "start_time": "2023-04-11T09:48:48.848Z"
   },
   {
    "duration": 161,
    "start_time": "2023-04-11T09:49:23.868Z"
   },
   {
    "duration": 120,
    "start_time": "2023-04-11T09:50:43.661Z"
   },
   {
    "duration": 160,
    "start_time": "2023-04-11T09:51:05.954Z"
   },
   {
    "duration": 1065,
    "start_time": "2023-04-11T09:59:45.146Z"
   },
   {
    "duration": 786,
    "start_time": "2023-04-11T09:59:59.866Z"
   },
   {
    "duration": 588,
    "start_time": "2023-04-11T10:00:17.726Z"
   },
   {
    "duration": 698,
    "start_time": "2023-04-11T10:00:53.814Z"
   },
   {
    "duration": 831,
    "start_time": "2023-04-11T10:01:30.551Z"
   },
   {
    "duration": 590,
    "start_time": "2023-04-11T10:02:05.680Z"
   },
   {
    "duration": 619,
    "start_time": "2023-04-11T10:02:34.220Z"
   },
   {
    "duration": 594,
    "start_time": "2023-04-11T10:02:49.503Z"
   },
   {
    "duration": 817,
    "start_time": "2023-04-11T10:03:00.309Z"
   },
   {
    "duration": 620,
    "start_time": "2023-04-11T10:04:59.511Z"
   },
   {
    "duration": 573,
    "start_time": "2023-04-11T10:07:04.178Z"
   },
   {
    "duration": 557,
    "start_time": "2023-04-11T10:07:39.215Z"
   },
   {
    "duration": 660,
    "start_time": "2023-04-11T10:08:00.304Z"
   },
   {
    "duration": 464,
    "start_time": "2023-04-11T10:08:11.430Z"
   },
   {
    "duration": 100,
    "start_time": "2023-04-11T10:09:34.469Z"
   },
   {
    "duration": 562,
    "start_time": "2023-04-11T10:09:42.074Z"
   },
   {
    "duration": 562,
    "start_time": "2023-04-11T10:09:51.883Z"
   },
   {
    "duration": 441,
    "start_time": "2023-04-11T10:10:18.454Z"
   },
   {
    "duration": 434,
    "start_time": "2023-04-11T10:10:29.146Z"
   },
   {
    "duration": 428,
    "start_time": "2023-04-11T10:12:25.459Z"
   },
   {
    "duration": 563,
    "start_time": "2023-04-11T10:12:35.014Z"
   },
   {
    "duration": 535,
    "start_time": "2023-04-11T10:18:06.374Z"
   },
   {
    "duration": 487,
    "start_time": "2023-04-11T10:18:19.800Z"
   },
   {
    "duration": 673,
    "start_time": "2023-04-11T10:18:44.260Z"
   },
   {
    "duration": 596,
    "start_time": "2023-04-11T10:18:55.924Z"
   },
   {
    "duration": 429,
    "start_time": "2023-04-11T10:19:06.316Z"
   },
   {
    "duration": 439,
    "start_time": "2023-04-11T10:22:05.609Z"
   },
   {
    "duration": 549,
    "start_time": "2023-04-11T10:22:11.160Z"
   },
   {
    "duration": 19,
    "start_time": "2023-04-11T10:26:53.260Z"
   },
   {
    "duration": 24,
    "start_time": "2023-04-11T10:27:54.110Z"
   },
   {
    "duration": 4,
    "start_time": "2023-04-11T10:40:04.563Z"
   },
   {
    "duration": 50,
    "start_time": "2023-04-11T10:40:04.570Z"
   },
   {
    "duration": 11,
    "start_time": "2023-04-11T10:40:04.622Z"
   },
   {
    "duration": 35,
    "start_time": "2023-04-11T10:40:04.635Z"
   },
   {
    "duration": 619,
    "start_time": "2023-04-11T10:40:04.672Z"
   },
   {
    "duration": 459,
    "start_time": "2023-04-11T10:40:05.292Z"
   },
   {
    "duration": 4,
    "start_time": "2023-04-11T10:40:05.752Z"
   },
   {
    "duration": 9,
    "start_time": "2023-04-11T10:40:05.757Z"
   },
   {
    "duration": 30,
    "start_time": "2023-04-11T10:40:05.769Z"
   },
   {
    "duration": 127,
    "start_time": "2023-04-11T10:40:05.800Z"
   },
   {
    "duration": 70,
    "start_time": "2023-04-11T10:40:05.928Z"
   },
   {
    "duration": 13,
    "start_time": "2023-04-11T10:40:06.002Z"
   },
   {
    "duration": 92,
    "start_time": "2023-04-11T10:40:06.018Z"
   }
  ],
  "kernelspec": {
   "display_name": "Python 3 (ipykernel)",
   "language": "python",
   "name": "python3"
  },
  "language_info": {
   "codemirror_mode": {
    "name": "ipython",
    "version": 3
   },
   "file_extension": ".py",
   "mimetype": "text/x-python",
   "name": "python",
   "nbconvert_exporter": "python",
   "pygments_lexer": "ipython3",
   "version": "3.9.13"
  },
  "toc": {
   "base_numbering": 1,
   "nav_menu": {},
   "number_sections": true,
   "sideBar": true,
   "skip_h1_title": true,
   "title_cell": "Содержание",
   "title_sidebar": "Contents",
   "toc_cell": true,
   "toc_position": {},
   "toc_section_display": true,
   "toc_window_display": true
  }
 },
 "nbformat": 4,
 "nbformat_minor": 2
}
