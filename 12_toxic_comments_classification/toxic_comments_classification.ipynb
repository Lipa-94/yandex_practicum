{
 "cells": [
  {
   "cell_type": "markdown",
   "id": "4429f745",
   "metadata": {
    "toc": true
   },
   "source": [
    "<h1>Table of Contents<span class=\"tocSkip\"></span></h1>\n",
    "<div class=\"toc\"><ul class=\"toc-item\"><li><span><a href=\"#Загрузка-и-обзор-данных\" data-toc-modified-id=\"Загрузка-и-обзор-данных-1\"><span class=\"toc-item-num\">1&nbsp;&nbsp;</span>Загрузка и обзор данных</a></span><ul class=\"toc-item\"><li><span><a href=\"#Импорт-библиотек\" data-toc-modified-id=\"Импорт-библиотек-1.1\"><span class=\"toc-item-num\">1.1&nbsp;&nbsp;</span>Импорт библиотек</a></span></li><li><span><a href=\"#Загрузка-данных\" data-toc-modified-id=\"Загрузка-данных-1.2\"><span class=\"toc-item-num\">1.2&nbsp;&nbsp;</span>Загрузка данных</a></span></li><li><span><a href=\"#Обзор-данных\" data-toc-modified-id=\"Обзор-данных-1.3\"><span class=\"toc-item-num\">1.3&nbsp;&nbsp;</span>Обзор данных</a></span></li></ul></li><li><span><a href=\"#Подготовка-данных-для-TF-IDF\" data-toc-modified-id=\"Подготовка-данных-для-TF-IDF-2\"><span class=\"toc-item-num\">2&nbsp;&nbsp;</span>Подготовка данных для TF-IDF</a></span></li><li><span><a href=\"#Обучение-моделей\" data-toc-modified-id=\"Обучение-моделей-3\"><span class=\"toc-item-num\">3&nbsp;&nbsp;</span>Обучение моделей</a></span><ul class=\"toc-item\"><li><span><a href=\"#Подготовка-к-кросс-валидации\" data-toc-modified-id=\"Подготовка-к-кросс-валидации-3.1\"><span class=\"toc-item-num\">3.1&nbsp;&nbsp;</span>Подготовка к кросс-валидации</a></span></li><li><span><a href=\"#Модель-логистической-регрессии\" data-toc-modified-id=\"Модель-логистической-регрессии-3.2\"><span class=\"toc-item-num\">3.2&nbsp;&nbsp;</span>Модель логистической регрессии</a></span></li><li><span><a href=\"#Модель-случайного-леса\" data-toc-modified-id=\"Модель-случайного-леса-3.3\"><span class=\"toc-item-num\">3.3&nbsp;&nbsp;</span>Модель случайного леса</a></span></li><li><span><a href=\"#Модель-LightGBM\" data-toc-modified-id=\"Модель-LightGBM-3.4\"><span class=\"toc-item-num\">3.4&nbsp;&nbsp;</span>Модель LightGBM</a></span></li><li><span><a href=\"#Модель-CatBoost\" data-toc-modified-id=\"Модель-CatBoost-3.5\"><span class=\"toc-item-num\">3.5&nbsp;&nbsp;</span>Модель CatBoost</a></span></li></ul></li><li><span><a href=\"#Тестирование-лучшей-модели\" data-toc-modified-id=\"Тестирование-лучшей-модели-4\"><span class=\"toc-item-num\">4&nbsp;&nbsp;</span>Тестирование лучшей модели</a></span></li><li><span><a href=\"#Общий-вывод\" data-toc-modified-id=\"Общий-вывод-5\"><span class=\"toc-item-num\">5&nbsp;&nbsp;</span>Общий вывод</a></span></li></ul></div>"
   ]
  },
  {
   "cell_type": "markdown",
   "id": "7c3c6f5f",
   "metadata": {},
   "source": [
    "# Проект для \"Викишоп\""
   ]
  },
  {
   "cell_type": "markdown",
   "id": "e3cc4dd2",
   "metadata": {},
   "source": [
    "**Описание проекта:** Интернет-магазин «Викишоп» запускает новый сервис. Теперь пользователи могут редактировать и дополнять описания товаров, как в вики-сообществах. То есть клиенты предлагают свои правки и комментируют изменения других. Магазину нужен инструмент, который будет искать токсичные комментарии и отправлять их на модерацию. \n",
    "\n",
    "**Данные:** В распоряжении набор данных с разметкой о токсичности правок.\n",
    "\n",
    "**Цель:** Обучить модель классифицировать комментарии на позитивные и негативные. "
   ]
  },
  {
   "cell_type": "markdown",
   "id": "4d68c1cb",
   "metadata": {},
   "source": [
    "## Загрузка и обзор данных"
   ]
  },
  {
   "cell_type": "markdown",
   "id": "ef111895",
   "metadata": {},
   "source": [
    "### Импорт библиотек"
   ]
  },
  {
   "cell_type": "code",
   "execution_count": null,
   "id": "e37d12bc",
   "metadata": {},
   "outputs": [],
   "source": [
    "!python -m spacy download en_core_web_sm"
   ]
  },
  {
   "cell_type": "code",
   "execution_count": 14,
   "id": "b6ce9add",
   "metadata": {},
   "outputs": [],
   "source": [
    "import textwrap\n",
    "import re\n",
    "\n",
    "import pandas as pd\n",
    "import numpy as np\n",
    "import matplotlib.pyplot as plt\n",
    "%matplotlib inline\n",
    "\n",
    "from sklearn.feature_extraction.text import TfidfVectorizer\n",
    "from sklearn.metrics import f1_score, make_scorer\n",
    "from sklearn.model_selection import train_test_split, GridSearchCV\n",
    "from sklearn.pipeline import Pipeline\n",
    "from sklearn.linear_model import LogisticRegression\n",
    "from sklearn.ensemble import RandomForestClassifier\n",
    "\n",
    "import spacy\n",
    "from tqdm import notebook\n",
    "import nltk \n",
    "from nltk.corpus import stopwords as nltk_stopwords\n",
    "from wordcloud import WordCloud\n",
    "from lightgbm import LGBMClassifier\n",
    "from catboost import CatBoostClassifier"
   ]
  },
  {
   "cell_type": "markdown",
   "id": "a708686c",
   "metadata": {},
   "source": [
    "### Загрузка данных"
   ]
  },
  {
   "cell_type": "code",
   "execution_count": 15,
   "id": "e616f50b",
   "metadata": {},
   "outputs": [],
   "source": [
    "comments = pd.read_csv('12_toxic_comments.csv', index_col=0)"
   ]
  },
  {
   "cell_type": "markdown",
   "id": "b8360b3b",
   "metadata": {},
   "source": [
    "### Обзор данных"
   ]
  },
  {
   "cell_type": "code",
   "execution_count": 16,
   "id": "42c1143a",
   "metadata": {},
   "outputs": [
    {
     "name": "stdout",
     "output_type": "stream",
     "text": [
      "<class 'pandas.core.frame.DataFrame'>\n",
      "Int64Index: 159292 entries, 0 to 159450\n",
      "Data columns (total 2 columns):\n",
      " #   Column  Non-Null Count   Dtype \n",
      "---  ------  --------------   ----- \n",
      " 0   text    159292 non-null  object\n",
      " 1   toxic   159292 non-null  int64 \n",
      "dtypes: int64(1), object(1)\n",
      "memory usage: 3.6+ MB\n"
     ]
    }
   ],
   "source": [
    "comments.info()"
   ]
  },
  {
   "cell_type": "code",
   "execution_count": 17,
   "id": "82f82427",
   "metadata": {
    "scrolled": true
   },
   "outputs": [
    {
     "data": {
      "text/html": [
       "<div>\n",
       "<style scoped>\n",
       "    .dataframe tbody tr th:only-of-type {\n",
       "        vertical-align: middle;\n",
       "    }\n",
       "\n",
       "    .dataframe tbody tr th {\n",
       "        vertical-align: top;\n",
       "    }\n",
       "\n",
       "    .dataframe thead th {\n",
       "        text-align: right;\n",
       "    }\n",
       "</style>\n",
       "<table border=\"1\" class=\"dataframe\">\n",
       "  <thead>\n",
       "    <tr style=\"text-align: right;\">\n",
       "      <th></th>\n",
       "      <th>text</th>\n",
       "      <th>toxic</th>\n",
       "    </tr>\n",
       "  </thead>\n",
       "  <tbody>\n",
       "    <tr>\n",
       "      <th>0</th>\n",
       "      <td>Explanation\\nWhy the edits made under my usern...</td>\n",
       "      <td>0</td>\n",
       "    </tr>\n",
       "    <tr>\n",
       "      <th>1</th>\n",
       "      <td>D'aww! He matches this background colour I'm s...</td>\n",
       "      <td>0</td>\n",
       "    </tr>\n",
       "    <tr>\n",
       "      <th>2</th>\n",
       "      <td>Hey man, I'm really not trying to edit war. It...</td>\n",
       "      <td>0</td>\n",
       "    </tr>\n",
       "    <tr>\n",
       "      <th>3</th>\n",
       "      <td>\"\\nMore\\nI can't make any real suggestions on ...</td>\n",
       "      <td>0</td>\n",
       "    </tr>\n",
       "    <tr>\n",
       "      <th>4</th>\n",
       "      <td>You, sir, are my hero. Any chance you remember...</td>\n",
       "      <td>0</td>\n",
       "    </tr>\n",
       "  </tbody>\n",
       "</table>\n",
       "</div>"
      ],
      "text/plain": [
       "                                                text  toxic\n",
       "0  Explanation\\nWhy the edits made under my usern...      0\n",
       "1  D'aww! He matches this background colour I'm s...      0\n",
       "2  Hey man, I'm really not trying to edit war. It...      0\n",
       "3  \"\\nMore\\nI can't make any real suggestions on ...      0\n",
       "4  You, sir, are my hero. Any chance you remember...      0"
      ]
     },
     "metadata": {},
     "output_type": "display_data"
    }
   ],
   "source": [
    "display(comments.head())"
   ]
  },
  {
   "cell_type": "code",
   "execution_count": 18,
   "id": "9877b225",
   "metadata": {},
   "outputs": [
    {
     "data": {
      "text/html": [
       "<div>\n",
       "<style scoped>\n",
       "    .dataframe tbody tr th:only-of-type {\n",
       "        vertical-align: middle;\n",
       "    }\n",
       "\n",
       "    .dataframe tbody tr th {\n",
       "        vertical-align: top;\n",
       "    }\n",
       "\n",
       "    .dataframe thead th {\n",
       "        text-align: right;\n",
       "    }\n",
       "</style>\n",
       "<table border=\"1\" class=\"dataframe\">\n",
       "  <thead>\n",
       "    <tr style=\"text-align: right;\">\n",
       "      <th></th>\n",
       "      <th>text</th>\n",
       "      <th>toxic</th>\n",
       "    </tr>\n",
       "  </thead>\n",
       "  <tbody>\n",
       "    <tr>\n",
       "      <th>count</th>\n",
       "      <td>159292</td>\n",
       "      <td>159292.000000</td>\n",
       "    </tr>\n",
       "    <tr>\n",
       "      <th>unique</th>\n",
       "      <td>159292</td>\n",
       "      <td>NaN</td>\n",
       "    </tr>\n",
       "    <tr>\n",
       "      <th>top</th>\n",
       "      <td>Explanation\\nWhy the edits made under my usern...</td>\n",
       "      <td>NaN</td>\n",
       "    </tr>\n",
       "    <tr>\n",
       "      <th>freq</th>\n",
       "      <td>1</td>\n",
       "      <td>NaN</td>\n",
       "    </tr>\n",
       "    <tr>\n",
       "      <th>mean</th>\n",
       "      <td>NaN</td>\n",
       "      <td>0.101612</td>\n",
       "    </tr>\n",
       "    <tr>\n",
       "      <th>std</th>\n",
       "      <td>NaN</td>\n",
       "      <td>0.302139</td>\n",
       "    </tr>\n",
       "    <tr>\n",
       "      <th>min</th>\n",
       "      <td>NaN</td>\n",
       "      <td>0.000000</td>\n",
       "    </tr>\n",
       "    <tr>\n",
       "      <th>25%</th>\n",
       "      <td>NaN</td>\n",
       "      <td>0.000000</td>\n",
       "    </tr>\n",
       "    <tr>\n",
       "      <th>50%</th>\n",
       "      <td>NaN</td>\n",
       "      <td>0.000000</td>\n",
       "    </tr>\n",
       "    <tr>\n",
       "      <th>75%</th>\n",
       "      <td>NaN</td>\n",
       "      <td>0.000000</td>\n",
       "    </tr>\n",
       "    <tr>\n",
       "      <th>max</th>\n",
       "      <td>NaN</td>\n",
       "      <td>1.000000</td>\n",
       "    </tr>\n",
       "  </tbody>\n",
       "</table>\n",
       "</div>"
      ],
      "text/plain": [
       "                                                     text          toxic\n",
       "count                                              159292  159292.000000\n",
       "unique                                             159292            NaN\n",
       "top     Explanation\\nWhy the edits made under my usern...            NaN\n",
       "freq                                                    1            NaN\n",
       "mean                                                  NaN       0.101612\n",
       "std                                                   NaN       0.302139\n",
       "min                                                   NaN       0.000000\n",
       "25%                                                   NaN       0.000000\n",
       "50%                                                   NaN       0.000000\n",
       "75%                                                   NaN       0.000000\n",
       "max                                                   NaN       1.000000"
      ]
     },
     "metadata": {},
     "output_type": "display_data"
    }
   ],
   "source": [
    "display(comments.describe(include='all'))"
   ]
  },
  {
   "cell_type": "code",
   "execution_count": 19,
   "id": "55275e7e",
   "metadata": {},
   "outputs": [
    {
     "name": "stdout",
     "output_type": "stream",
     "text": [
      "Количество пустых строк в данных: 0\n"
     ]
    }
   ],
   "source": [
    "print('Количество пустых строк в данных:', comments.loc[comments['text'].isna(), 'toxic'].count())"
   ]
  },
  {
   "cell_type": "code",
   "execution_count": 20,
   "id": "d264c1c9",
   "metadata": {},
   "outputs": [
    {
     "name": "stdout",
     "output_type": "stream",
     "text": [
      "Количество дубликатов в данных: 0\n"
     ]
    }
   ],
   "source": [
    "print('Количество дубликатов в данных:',comments.loc[comments.duplicated(), 'toxic'].count())"
   ]
  },
  {
   "cell_type": "code",
   "execution_count": 21,
   "id": "c756a949",
   "metadata": {},
   "outputs": [
    {
     "data": {
      "text/html": [
       "<div>\n",
       "<style scoped>\n",
       "    .dataframe tbody tr th:only-of-type {\n",
       "        vertical-align: middle;\n",
       "    }\n",
       "\n",
       "    .dataframe tbody tr th {\n",
       "        vertical-align: top;\n",
       "    }\n",
       "\n",
       "    .dataframe thead th {\n",
       "        text-align: right;\n",
       "    }\n",
       "</style>\n",
       "<table border=\"1\" class=\"dataframe\">\n",
       "  <thead>\n",
       "    <tr style=\"text-align: right;\">\n",
       "      <th></th>\n",
       "      <th>toxic</th>\n",
       "      <th>text</th>\n",
       "    </tr>\n",
       "  </thead>\n",
       "  <tbody>\n",
       "    <tr>\n",
       "      <th>0</th>\n",
       "      <td>0</td>\n",
       "      <td>143106</td>\n",
       "    </tr>\n",
       "    <tr>\n",
       "      <th>1</th>\n",
       "      <td>1</td>\n",
       "      <td>16186</td>\n",
       "    </tr>\n",
       "  </tbody>\n",
       "</table>\n",
       "</div>"
      ],
      "text/plain": [
       "   toxic    text\n",
       "0      0  143106\n",
       "1      1   16186"
      ]
     },
     "metadata": {},
     "output_type": "display_data"
    }
   ],
   "source": [
    "comments_analysis = comments.groupby('toxic')['text'].agg('count')\n",
    "display(comments_analysis.reset_index())"
   ]
  },
  {
   "cell_type": "code",
   "execution_count": 22,
   "id": "ea85f353",
   "metadata": {
    "scrolled": true
   },
   "outputs": [
    {
     "data": {
      "image/png": "[encoded data removed]",
      "text/plain": [
       "<Figure size 640x480 with 1 Axes>"
      ]
     },
     "metadata": {},
     "output_type": "display_data"
    }
   ],
   "source": [
    "plt.pie(comments_analysis, labels=comments_analysis.index);"
   ]
  },
  {
   "cell_type": "code",
   "execution_count": 23,
   "id": "0656873d",
   "metadata": {},
   "outputs": [],
   "source": [
    "#Очистка текста комментариев от всех символов, кроме английского языка и пробелов. Плюс удаление двойных пробелов\n",
    "def only_english_symbols(text):\n",
    "    return re.sub('\\s\\s+', ' ', re.sub(r'[^a-zA-Z ]', ' ', text))"
   ]
  },
  {
   "cell_type": "code",
   "execution_count": 24,
   "id": "22474e45",
   "metadata": {},
   "outputs": [],
   "source": [
    "comments['text'] = comments['text'].apply(only_english_symbols)"
   ]
  },
  {
   "cell_type": "code",
   "execution_count": 25,
   "id": "23b8564a",
   "metadata": {},
   "outputs": [
    {
     "data": {
      "text/plain": [
       "'Всего пустых строк после очистки символов:'"
      ]
     },
     "metadata": {},
     "output_type": "display_data"
    },
    {
     "data": {
      "text/plain": [
       "11"
      ]
     },
     "metadata": {},
     "output_type": "display_data"
    }
   ],
   "source": [
    "display('Всего пустых строк после очистки символов:', comments.loc[comments['text']==' ', 'text'].count())"
   ]
  },
  {
   "cell_type": "code",
   "execution_count": 26,
   "id": "6f59c4f4",
   "metadata": {},
   "outputs": [],
   "source": [
    "#Удалим пустые строки\n",
    "comments = comments[comments['text']!=' ']"
   ]
  },
  {
   "cell_type": "code",
   "execution_count": 27,
   "id": "c43c7760",
   "metadata": {},
   "outputs": [],
   "source": [
    "#Обрезка строк\n",
    "#Spacy не может обработать строки с более чем 512 символами. Поэтому обрежем строки\n",
    "def text_shorten(text):\n",
    "    new_text = text\n",
    "    if len(text)>512:\n",
    "        new_text = textwrap.shorten(text=text, width=512, placeholder='')\n",
    "    return new_text"
   ]
  },
  {
   "cell_type": "code",
   "execution_count": 28,
   "id": "a22609be",
   "metadata": {},
   "outputs": [],
   "source": [
    "comments['text'] = comments['text'].apply(text_shorten)"
   ]
  },
  {
   "cell_type": "code",
   "execution_count": 29,
   "id": "bbca9637",
   "metadata": {},
   "outputs": [
    {
     "data": {
      "text/html": [
       "<div>\n",
       "<style scoped>\n",
       "    .dataframe tbody tr th:only-of-type {\n",
       "        vertical-align: middle;\n",
       "    }\n",
       "\n",
       "    .dataframe tbody tr th {\n",
       "        vertical-align: top;\n",
       "    }\n",
       "\n",
       "    .dataframe thead th {\n",
       "        text-align: right;\n",
       "    }\n",
       "</style>\n",
       "<table border=\"1\" class=\"dataframe\">\n",
       "  <thead>\n",
       "    <tr style=\"text-align: right;\">\n",
       "      <th></th>\n",
       "      <th>text</th>\n",
       "      <th>toxic</th>\n",
       "    </tr>\n",
       "  </thead>\n",
       "  <tbody>\n",
       "    <tr>\n",
       "      <th>0</th>\n",
       "      <td>Explanation Why the edits made under my userna...</td>\n",
       "      <td>0</td>\n",
       "    </tr>\n",
       "    <tr>\n",
       "      <th>1</th>\n",
       "      <td>D aww He matches this background colour I m se...</td>\n",
       "      <td>0</td>\n",
       "    </tr>\n",
       "    <tr>\n",
       "      <th>2</th>\n",
       "      <td>Hey man I m really not trying to edit war It s...</td>\n",
       "      <td>0</td>\n",
       "    </tr>\n",
       "    <tr>\n",
       "      <th>3</th>\n",
       "      <td>More I can t make any real suggestions on impr...</td>\n",
       "      <td>0</td>\n",
       "    </tr>\n",
       "    <tr>\n",
       "      <th>4</th>\n",
       "      <td>You sir are my hero Any chance you remember wh...</td>\n",
       "      <td>0</td>\n",
       "    </tr>\n",
       "  </tbody>\n",
       "</table>\n",
       "</div>"
      ],
      "text/plain": [
       "                                                text  toxic\n",
       "0  Explanation Why the edits made under my userna...      0\n",
       "1  D aww He matches this background colour I m se...      0\n",
       "2  Hey man I m really not trying to edit war It s...      0\n",
       "3  More I can t make any real suggestions on impr...      0\n",
       "4  You sir are my hero Any chance you remember wh...      0"
      ]
     },
     "metadata": {},
     "output_type": "display_data"
    }
   ],
   "source": [
    "display(comments.head())"
   ]
  },
  {
   "cell_type": "markdown",
   "id": "c85a877b",
   "metadata": {},
   "source": [
    "**Вывод:**\n",
    "\n",
    "* В целях построения модели загружен датасет из 159292 уникальных комментариев с разметкой о токсичности правок;\n",
    "* Всего в датасете содержится 10% токсичных комментариев;\n",
    "* В датасете были обнаружены комментарии не на английском. Ввиду того, что основной язык для модели - английский, то с помощью регулярного выражения в тексте комментариев были удалены все символы, не являющиеся буквами английского алфавита, точками или пробелами. После корректировки текста комментариев было удалено 11 пустых строк;\n",
    "* Так как Spacy не обрабатывают строки длиной более чем 512 символов, строки были обрезаны до максимальной длины (512)."
   ]
  },
  {
   "cell_type": "markdown",
   "id": "4d04e048",
   "metadata": {},
   "source": [
    "## Подготовка данных для TF-IDF"
   ]
  },
  {
   "cell_type": "code",
   "execution_count": 30,
   "id": "4b52124a",
   "metadata": {},
   "outputs": [],
   "source": [
    "#Создание корпуса\n",
    "corpus = comments['text'].copy()"
   ]
  },
  {
   "cell_type": "code",
   "execution_count": 31,
   "id": "9fbd3045",
   "metadata": {},
   "outputs": [],
   "source": [
    "nlp = spacy.load(\"en_core_web_sm\")"
   ]
  },
  {
   "cell_type": "code",
   "execution_count": 32,
   "id": "22dc600c",
   "metadata": {},
   "outputs": [],
   "source": [
    "#Функция лемматизации\n",
    "def lemmatize(text):\n",
    "    from tqdm.notebook import tqdm\n",
    "    tqdm.pandas()\n",
    "    doc = nlp(text)\n",
    "    return \" \".join([token.lemma_ for token in doc]).lower()"
   ]
  },
  {
   "cell_type": "code",
   "execution_count": 33,
   "id": "7a8ee2a1",
   "metadata": {},
   "outputs": [
    {
     "data": {
      "application/vnd.jupyter.widget-view+json": {
       "model_id": "8231d92f5a6e43bd9d1b51d8d8edf583",
       "version_major": 2,
       "version_minor": 0
      },
      "text/plain": [
       "  0%|          | 0/159281 [00:00<?, ?it/s]"
      ]
     },
     "metadata": {},
     "output_type": "display_data"
    },
    {
     "name": "stdout",
     "output_type": "stream",
     "text": [
      "0         explanation why the edit make under my usernam...\n",
      "1         d aww he match this background colour i m seem...\n",
      "2         hey man i m really not try to edit war it s ju...\n",
      "3         more i can t make any real suggestion on impro...\n",
      "4         you sir be my hero any chance you remember wha...\n",
      "                                ...                        \n",
      "159446      and for the second time of ask when your vie...\n",
      "159447    you should be ashamed of yourself that be a ho...\n",
      "159448    spitzer umm there s no actual article for pros...\n",
      "159449    and it look like it be actually you who put on...\n",
      "159450      and i really don t think you understand i co...\n",
      "Name: text, Length: 159281, dtype: object\n",
      "Wall time: 36min 41s\n"
     ]
    }
   ],
   "source": [
    "%%time\n",
    "#Лемматизация\n",
    "from tqdm.notebook import tqdm\n",
    "tqdm.pandas()\n",
    "corpus = corpus.progress_apply(lemmatize)\n",
    "print(corpus)"
   ]
  },
  {
   "cell_type": "code",
   "execution_count": 34,
   "id": "c341b9ee",
   "metadata": {},
   "outputs": [
    {
     "data": {
      "image/png": "[encoded data removed]",
      "text/plain": [
       "<Figure size 640x480 with 1 Axes>"
      ]
     },
     "metadata": {},
     "output_type": "display_data"
    }
   ],
   "source": [
    "#Облако слов\n",
    "word_c = WordCloud().generate(\" \".join(corpus.values))\n",
    "plt.imshow(word_c, interpolation='bilinear')\n",
    "plt.axis(\"off\")\n",
    "plt.show()"
   ]
  },
  {
   "cell_type": "code",
   "execution_count": 35,
   "id": "a765ab03",
   "metadata": {},
   "outputs": [
    {
     "data": {
      "text/plain": [
       "(127424,)"
      ]
     },
     "metadata": {},
     "output_type": "display_data"
    },
    {
     "data": {
      "text/plain": [
       "(31857,)"
      ]
     },
     "metadata": {},
     "output_type": "display_data"
    },
    {
     "data": {
      "text/plain": [
       "(127424,)"
      ]
     },
     "metadata": {},
     "output_type": "display_data"
    },
    {
     "data": {
      "text/plain": [
       "(31857,)"
      ]
     },
     "metadata": {},
     "output_type": "display_data"
    },
    {
     "name": "stdout",
     "output_type": "stream",
     "text": [
      "Количество строк в train по классам: [114476  12948]\n",
      "Количество строк в test по классам: [28620  3237]\n"
     ]
    }
   ],
   "source": [
    "#Разделение данных на выборки\n",
    "features_train_tf_idf, features_test_tf_idf, target_train_tf_idf, target_test_tf_idf = train_test_split(corpus, \n",
    "    comments['toxic'], test_size=0.2, random_state=12345, stratify=comments['toxic'])\n",
    "for i in [features_train_tf_idf, features_test_tf_idf, target_train_tf_idf, target_test_tf_idf]:\n",
    "    display(i.shape)\n",
    "\n",
    "print(f\"Количество строк в train по классам: {np.bincount(target_train_tf_idf)}\")\n",
    "print(f\"Количество строк в test по классам: {np.bincount(target_test_tf_idf)}\")"
   ]
  },
  {
   "cell_type": "markdown",
   "id": "5884272a",
   "metadata": {},
   "source": [
    "## Обучение моделей"
   ]
  },
  {
   "cell_type": "markdown",
   "id": "221b4865",
   "metadata": {},
   "source": [
    "### Подготовка к кросс-валидации"
   ]
  },
  {
   "cell_type": "code",
   "execution_count": 45,
   "id": "c30cdb47",
   "metadata": {},
   "outputs": [],
   "source": [
    "def f1_metric(target, pred):\n",
    "    return f1_score(target, pred)\n",
    "\n",
    "my_scorer = make_scorer(f1_metric, greater_is_better=True)"
   ]
  },
  {
   "cell_type": "code",
   "execution_count": 46,
   "id": "d66f63ea",
   "metadata": {},
   "outputs": [
    {
     "name": "stderr",
     "output_type": "stream",
     "text": [
      "[nltk_data] Downloading package stopwords to\n",
      "[nltk_data]     C:\\Users\\KyxC\\AppData\\Roaming\\nltk_data...\n",
      "[nltk_data]   Package stopwords is already up-to-date!\n"
     ]
    }
   ],
   "source": [
    "#Загрузка стоп-слов\n",
    "nltk.download('stopwords')\n",
    "stopwords = list(set(nltk_stopwords.words('english')))"
   ]
  },
  {
   "cell_type": "markdown",
   "id": "465b3fc9",
   "metadata": {},
   "source": [
    "### Модель логистической регрессии"
   ]
  },
  {
   "cell_type": "code",
   "execution_count": 47,
   "id": "2e7587ed",
   "metadata": {},
   "outputs": [
    {
     "name": "stdout",
     "output_type": "stream",
     "text": [
      "Модель логистической регрессии на TF-IDF:\n"
     ]
    },
    {
     "name": "stderr",
     "output_type": "stream",
     "text": [
      "C:\\Users\\KyxC\\anaconda3\\lib\\site-packages\\sklearn\\linear_model\\_logistic.py:1483: UserWarning: Setting penalty='none' will ignore the C and l1_ratio parameters\n",
      "  warnings.warn(\n"
     ]
    },
    {
     "name": "stdout",
     "output_type": "stream",
     "text": [
      "Параметры лучшей модели, обученной на TF-IDF: {'model__C': 0.1, 'model__max_iter': 1000, 'model__penalty': 'none', 'model__random_state': 12345, 'vect__dtype': <class 'numpy.float32'>, 'vect__max_features': 3000, 'vect__ngram_range': (1, 1), 'vect__stop_words': ['again', 'will', 'before', 'which', 'them', 'then', 'shouldn', 'were', 'an', 'more', 'there', 'he', 'own', 'over', 'and', 'do', 'herself', 'll', 'how', \"should've\", 'or', 'why', 'am', 'themselves', 'doing', 'wouldn', 'by', \"you've\", 'very', 'its', \"hasn't\", 'those', 'a', 'me', 'against', 've', 'hers', 'doesn', 'not', 't', 'my', 'being', 'she', \"aren't\", \"won't\", 'only', 'hadn', 'did', 'needn', \"doesn't\", 'any', 'each', 'couldn', 'this', \"that'll\", \"haven't\", 'y', \"wouldn't\", \"shouldn't\", 'than', 'under', 'up', 'we', \"didn't\", 'few', 'you', \"needn't\", 'while', 'out', 'myself', 'weren', 'd', 'yourselves', 'theirs', 'i', 'other', 'these', 'because', 'been', 'such', 'just', 'from', 'o', \"mightn't\", 'having', 'can', 'all', 'your', 'nor', 'into', 'off', \"you'll\", 'aren', 'they', 'at', 'for', 'if', 'hasn', \"shan't\", 'does', 'that', 'no', 'same', 'wasn', 'of', 'was', 's', 'mightn', 'after', 'where', 'ain', 'should', 'had', 'his', 'both', \"hadn't\", 'are', 'what', 'be', 'now', 'didn', 'on', 'yourself', 'is', 'it', 'below', \"don't\", 'in', 'isn', 'himself', \"mustn't\", 'some', 'has', 'but', 'her', 'to', 'between', 'further', 'him', 'their', \"you're\", \"she's\", 'won', 'about', 're', 'don', 'through', 'when', 'ours', 'here', 'with', 'once', 'most', 'm', 'shan', 'during', 'down', 'haven', \"isn't\", 'who', 'until', 'so', 'whom', 'as', 'ma', \"weren't\", \"you'd\", 'the', 'too', 'itself', 'our', 'ourselves', 'mustn', 'have', 'above', \"wasn't\", 'yours', \"couldn't\", \"it's\"]}\n",
      "F1 модели, обученной на TF-IDF: 0.7543751014189255\n",
      "Wall time: 13min 37s\n"
     ]
    },
    {
     "name": "stderr",
     "output_type": "stream",
     "text": [
      "C:\\Users\\KyxC\\anaconda3\\lib\\site-packages\\sklearn\\linear_model\\_logistic.py:814: ConvergenceWarning: lbfgs failed to converge (status=1):\n",
      "STOP: TOTAL NO. of ITERATIONS REACHED LIMIT.\n",
      "\n",
      "Increase the number of iterations (max_iter) or scale the data as shown in:\n",
      "    https://scikit-learn.org/stable/modules/preprocessing.html\n",
      "Please also refer to the documentation for alternative solver options:\n",
      "    https://scikit-learn.org/stable/modules/linear_model.html#logistic-regression\n",
      "  n_iter_i = _check_optimize_result(\n"
     ]
    }
   ],
   "source": [
    "%%time\n",
    "print('Модель логистической регрессии на TF-IDF:')\n",
    "\n",
    "grid_param = {'vect__stop_words':[stopwords],\n",
    "              'vect__ngram_range':[(1, 1), (2, 2)], \n",
    "              'vect__max_features':[3000], \n",
    "              'vect__dtype':[np.float32],\n",
    "              'model__random_state':[12345],\n",
    "              'model__C':np.linspace(0.1, 1, num=10),\n",
    "              'model__penalty':['l2', 'none'],\n",
    "              'model__max_iter':[1000]\n",
    "             }\n",
    "pipeline = Pipeline([(\"vect\", TfidfVectorizer()),\n",
    "                     (\"model\", LogisticRegression())])\n",
    "\n",
    "grid_logic_model_tf_idf = GridSearchCV(estimator=pipeline, param_grid=grid_param, n_jobs=-1, cv=5, scoring=my_scorer)\n",
    "grid_logic_model_tf_idf.fit(features_train_tf_idf, target_train_tf_idf)\n",
    "best_logic_model_tf_idf = grid_logic_model_tf_idf.best_estimator_\n",
    "print('Параметры лучшей модели, обученной на TF-IDF:', grid_logic_model_tf_idf.best_params_)\n",
    "print('F1 модели, обученной на TF-IDF:', grid_logic_model_tf_idf.best_score_)"
   ]
  },
  {
   "cell_type": "markdown",
   "id": "8958e6d2",
   "metadata": {},
   "source": [
    "### Модель случайного леса"
   ]
  },
  {
   "cell_type": "code",
   "execution_count": 49,
   "id": "4bb8fd53",
   "metadata": {},
   "outputs": [
    {
     "name": "stdout",
     "output_type": "stream",
     "text": [
      "Модель случайного леса на TF-IDF:\n",
      "Параметры лучшей модели, обученной на TF-IDF: {'model__max_depth': 15, 'model__n_estimators': 100, 'model__random_state': 12345, 'vect__dtype': <class 'numpy.float32'>, 'vect__max_features': 7000, 'vect__ngram_range': (1, 1), 'vect__stop_words': ['again', 'will', 'before', 'which', 'them', 'then', 'shouldn', 'were', 'an', 'more', 'there', 'he', 'own', 'over', 'and', 'do', 'herself', 'll', 'how', \"should've\", 'or', 'why', 'am', 'themselves', 'doing', 'wouldn', 'by', \"you've\", 'very', 'its', \"hasn't\", 'those', 'a', 'me', 'against', 've', 'hers', 'doesn', 'not', 't', 'my', 'being', 'she', \"aren't\", \"won't\", 'only', 'hadn', 'did', 'needn', \"doesn't\", 'any', 'each', 'couldn', 'this', \"that'll\", \"haven't\", 'y', \"wouldn't\", \"shouldn't\", 'than', 'under', 'up', 'we', \"didn't\", 'few', 'you', \"needn't\", 'while', 'out', 'myself', 'weren', 'd', 'yourselves', 'theirs', 'i', 'other', 'these', 'because', 'been', 'such', 'just', 'from', 'o', \"mightn't\", 'having', 'can', 'all', 'your', 'nor', 'into', 'off', \"you'll\", 'aren', 'they', 'at', 'for', 'if', 'hasn', \"shan't\", 'does', 'that', 'no', 'same', 'wasn', 'of', 'was', 's', 'mightn', 'after', 'where', 'ain', 'should', 'had', 'his', 'both', \"hadn't\", 'are', 'what', 'be', 'now', 'didn', 'on', 'yourself', 'is', 'it', 'below', \"don't\", 'in', 'isn', 'himself', \"mustn't\", 'some', 'has', 'but', 'her', 'to', 'between', 'further', 'him', 'their', \"you're\", \"she's\", 'won', 'about', 're', 'don', 'through', 'when', 'ours', 'here', 'with', 'once', 'most', 'm', 'shan', 'during', 'down', 'haven', \"isn't\", 'who', 'until', 'so', 'whom', 'as', 'ma', \"weren't\", \"you'd\", 'the', 'too', 'itself', 'our', 'ourselves', 'mustn', 'have', 'above', \"wasn't\", 'yours', \"couldn't\", \"it's\"]}\n",
      "F1 модели, обученной на TF-IDF: 0.07915958532203496\n",
      "Wall time: 6min 34s\n"
     ]
    }
   ],
   "source": [
    "%%time\n",
    "print('Модель случайного леса на TF-IDF:')\n",
    "\n",
    "grid_param = {'vect__stop_words':[stopwords],\n",
    "              'vect__ngram_range':[(1, 1), (2, 2)], \n",
    "              'vect__max_features':[7000], \n",
    "              'vect__dtype':[np.float32],\n",
    "              'model__random_state':[12345],\n",
    "              'model__n_estimators':range(100, 201, 100),\n",
    "              'model__max_depth':[15]\n",
    "             }\n",
    "pipeline = Pipeline([(\"vect\", TfidfVectorizer()),\n",
    "                     (\"model\", RandomForestClassifier())])    \n",
    "\n",
    "grid_forest_model_tf_idf = GridSearchCV(estimator=pipeline, param_grid=grid_param, n_jobs=-1, cv=5, scoring=my_scorer)\n",
    "grid_forest_model_tf_idf.fit(features_train_tf_idf, target_train_tf_idf)\n",
    "best_forest_model_tf_idf = grid_forest_model_tf_idf.best_estimator_\n",
    "print('Параметры лучшей модели, обученной на TF-IDF:', grid_forest_model_tf_idf.best_params_)\n",
    "print('F1 модели, обученной на TF-IDF:', grid_forest_model_tf_idf.best_score_)"
   ]
  },
  {
   "cell_type": "markdown",
   "id": "be53daf1",
   "metadata": {},
   "source": [
    "### Модель LightGBM"
   ]
  },
  {
   "cell_type": "code",
   "execution_count": 51,
   "id": "b4afb336",
   "metadata": {},
   "outputs": [
    {
     "name": "stdout",
     "output_type": "stream",
     "text": [
      "Модель LightGBM на TF-IDF:\n",
      "[LightGBM] [Warning] Unknown parameter: eval_metric\n",
      "[LightGBM] [Warning] num_threads is set=-1, n_jobs=-1 will be ignored. Current value: num_threads=-1\n",
      "Параметры лучшей модели, обученной на TF-IDF: {'model__eval_metric': 'f1', 'model__max_depth': 15, 'model__n_estimators': 200, 'model__num_threads': -1, 'model__random_state': 12345, 'vect__dtype': <class 'numpy.float32'>, 'vect__max_features': 7000, 'vect__ngram_range': (1, 1), 'vect__stop_words': ['again', 'will', 'before', 'which', 'them', 'then', 'shouldn', 'were', 'an', 'more', 'there', 'he', 'own', 'over', 'and', 'do', 'herself', 'll', 'how', \"should've\", 'or', 'why', 'am', 'themselves', 'doing', 'wouldn', 'by', \"you've\", 'very', 'its', \"hasn't\", 'those', 'a', 'me', 'against', 've', 'hers', 'doesn', 'not', 't', 'my', 'being', 'she', \"aren't\", \"won't\", 'only', 'hadn', 'did', 'needn', \"doesn't\", 'any', 'each', 'couldn', 'this', \"that'll\", \"haven't\", 'y', \"wouldn't\", \"shouldn't\", 'than', 'under', 'up', 'we', \"didn't\", 'few', 'you', \"needn't\", 'while', 'out', 'myself', 'weren', 'd', 'yourselves', 'theirs', 'i', 'other', 'these', 'because', 'been', 'such', 'just', 'from', 'o', \"mightn't\", 'having', 'can', 'all', 'your', 'nor', 'into', 'off', \"you'll\", 'aren', 'they', 'at', 'for', 'if', 'hasn', \"shan't\", 'does', 'that', 'no', 'same', 'wasn', 'of', 'was', 's', 'mightn', 'after', 'where', 'ain', 'should', 'had', 'his', 'both', \"hadn't\", 'are', 'what', 'be', 'now', 'didn', 'on', 'yourself', 'is', 'it', 'below', \"don't\", 'in', 'isn', 'himself', \"mustn't\", 'some', 'has', 'but', 'her', 'to', 'between', 'further', 'him', 'their', \"you're\", \"she's\", 'won', 'about', 're', 'don', 'through', 'when', 'ours', 'here', 'with', 'once', 'most', 'm', 'shan', 'during', 'down', 'haven', \"isn't\", 'who', 'until', 'so', 'whom', 'as', 'ma', \"weren't\", \"you'd\", 'the', 'too', 'itself', 'our', 'ourselves', 'mustn', 'have', 'above', \"wasn't\", 'yours', \"couldn't\", \"it's\"]}\n",
      "F1 модели, обученной на TF-IDF: 0.7431325345742426\n",
      "Wall time: 3min 39s\n"
     ]
    }
   ],
   "source": [
    "%%time\n",
    "print('Модель LightGBM на TF-IDF:')\n",
    "\n",
    "grid_param = {'vect__stop_words':[stopwords],\n",
    "              'vect__ngram_range':[(1, 1), (2, 2)], \n",
    "              'vect__max_features':[7000], \n",
    "              'vect__dtype':[np.float32],\n",
    "              'model__n_estimators':range(100, 201, 100),\n",
    "              'model__max_depth':[15],\n",
    "              'model__num_threads': [-1],\n",
    "              'model__random_state':[12345],\n",
    "              'model__eval_metric':['f1']\n",
    "             }\n",
    "pipeline = Pipeline([(\"vect\", TfidfVectorizer()),\n",
    "                     (\"model\", LGBMClassifier())])    \n",
    "\n",
    "grid_lightgbm_model_tf_idf = GridSearchCV(estimator=pipeline, param_grid=grid_param, n_jobs=-1, cv=5, scoring=my_scorer)\n",
    "grid_lightgbm_model_tf_idf.fit(features_train_tf_idf, target_train_tf_idf, model__eval_metric='f1')\n",
    "best_lightgbm_model_tf_idf = grid_lightgbm_model_tf_idf.best_estimator_\n",
    "print('Параметры лучшей модели, обученной на TF-IDF:', grid_lightgbm_model_tf_idf.best_params_)\n",
    "print('F1 модели, обученной на TF-IDF:', grid_lightgbm_model_tf_idf.best_score_)"
   ]
  },
  {
   "cell_type": "markdown",
   "id": "cbae5173",
   "metadata": {},
   "source": [
    "### Модель CatBoost"
   ]
  },
  {
   "cell_type": "code",
   "execution_count": 53,
   "id": "79fc2b1d",
   "metadata": {},
   "outputs": [
    {
     "name": "stdout",
     "output_type": "stream",
     "text": [
      "Модель CatBoost на TF-IDF:\n",
      "Learning rate set to 0.5\n",
      "0:\tlearn: 0.9101352\ttotal: 5.46s\tremaining: 4m 27s\n",
      "49:\tlearn: 0.9564859\ttotal: 4m 40s\tremaining: 0us\n",
      "Параметры лучшей модели, обученной на TF-IDF: {'vect__ngram_range': (1, 1)}\n",
      "F1 модели, обученной на TF-IDF: 0.7335949710047052\n",
      "Wall time: 32min 40s\n"
     ]
    }
   ],
   "source": [
    "%%time\n",
    "print('Модель CatBoost на TF-IDF:')\n",
    "\n",
    "grid_param = {'vect__ngram_range':[(1, 1), (2, 2)]}\n",
    "pipeline = Pipeline([(\"vect\", TfidfVectorizer(stop_words=stopwords, max_features=3000, dtype=np.float32)),\n",
    "                     (\"model\", CatBoostClassifier(iterations=50, max_depth=10, loss_function='Logloss', \n",
    "                                                  eval_metric='TotalF1', verbose=300, random_state=12345))\n",
    "                    ])\n",
    "\n",
    "grid_catboost_model_tf_idf = GridSearchCV(estimator=pipeline, param_grid=grid_param, n_jobs=-1, cv=5, scoring=my_scorer)\n",
    "grid_catboost_model_tf_idf.fit(features_train_tf_idf, target_train_tf_idf)\n",
    "best_catboost_model_tf_idf = grid_catboost_model_tf_idf.best_estimator_\n",
    "print('Параметры лучшей модели, обученной на TF-IDF:', grid_catboost_model_tf_idf.best_params_)\n",
    "print('F1 модели, обученной на TF-IDF:', grid_catboost_model_tf_idf.best_score_)"
   ]
  },
  {
   "cell_type": "markdown",
   "id": "8c9b2c9b",
   "metadata": {},
   "source": [
    "**Вывод:**\n",
    "\n",
    "По результатам обучения модели на данных TF-IDF получены следующие метрики F1:\n",
    "* Модель логистической регрессии: 0.7544, при параметрах лучшей модели:{'model__C': 0.1, 'model__penalty': 'none', 'vect__ngram_range': (1, 1),}\n",
    "* Модель случайного леса: 0.0792, при параметрах лучшей модели:{'model__max_depth': 15, 'model__n_estimators': 100, 'vect__ngram_range': (1, 1)}\n",
    "* Модель LightGBM: 0.7431, при параметрах лучшей модели:{'model__max_depth': 15, 'model__n_estimators': 200, 'vect__ngram_range': (1, 1)}\n",
    "* Модель Catboost: 0.7335, при параметрах лучшей модели:{'vect__ngram_range': (1, 1)}\n",
    "\n",
    "Таким образом, по результатам тестирования лучшее F1 показала модель логистической регрессии"
   ]
  },
  {
   "cell_type": "markdown",
   "id": "4b85be18",
   "metadata": {},
   "source": [
    "## Тестирование лучшей модели"
   ]
  },
  {
   "cell_type": "code",
   "execution_count": 55,
   "id": "3f322710",
   "metadata": {},
   "outputs": [
    {
     "name": "stdout",
     "output_type": "stream",
     "text": [
      "F1 лучшей модели после тестирования: 0.7566455153489968\n"
     ]
    }
   ],
   "source": [
    "best_model = best_logic_model_tf_idf\n",
    "pred_test = best_model.predict(features_test_tf_idf)\n",
    "print('F1 лучшей модели после тестирования:', f1_metric(target_test_tf_idf.values, pred_test))"
   ]
  },
  {
   "cell_type": "markdown",
   "id": "c219e087",
   "metadata": {},
   "source": [
    "**Вывод:**\n",
    "\n",
    "По результатам тестирования модели получено значение F1=0.7566"
   ]
  },
  {
   "cell_type": "markdown",
   "id": "dfe88dd6",
   "metadata": {},
   "source": [
    "## Общий вывод"
   ]
  },
  {
   "cell_type": "markdown",
   "id": "894748db",
   "metadata": {},
   "source": [
    "**1. Вывод по результатам обзора данных**\n",
    "\n",
    "В целях построения модели загружен датасет из 159292 уникальных комментариев с разметкой о токсичности правок. В датасете были обнаружены комментарии не на английском, поэтому была произведена корректировка текста комментариев. После корректировки было удалено 11 пустых строк. Всего в датасете содержится 10% токсичных комментариев.\n",
    "\n",
    "\n",
    "**2. Результат обработки данных**\n",
    "\n",
    "Проведена додготовка данных для обучения моделей на величинах TF-IDF\n",
    "\n",
    "\n",
    "**3. Результат обучения моделей**\n",
    "\n",
    "По результатам обучения модели на данных TF-IDF получены следующие метрики F1:\n",
    "* Модель логистической регрессии: 0.7544, при параметрах лучшей модели:{'model__C': 0.1, 'model__penalty': 'none', 'vect__ngram_range': (1, 1),}\n",
    "* Модель случайного леса: 0.0792, при параметрах лучшей модели:{'model__max_depth': 15, 'model__n_estimators': 100, 'vect__ngram_range': (1, 1)}\n",
    "* Модель LightGBM: 0.7431, при параметрах лучшей модели:{'model__max_depth': 15, 'model__n_estimators': 200, 'vect__ngram_range': (1, 1)}\n",
    "* Модель Catboost: 0.7335, при параметрах лучшей модели:{'vect__ngram_range': (1, 1)}\n",
    "\n",
    "Таким образом, по результатам тестирования лучшее F1 показала модель логистической регрессии\n",
    "\n",
    "\n",
    "**4. Результат тестирования лучшей модели**\n",
    "\n",
    "По результатам тестирования модели получено значение F1=0.7566"
   ]
  },
  {
   "cell_type": "code",
   "execution_count": null,
   "id": "3c83f911",
   "metadata": {},
   "outputs": [],
   "source": []
  }
 ],
 "metadata": {
  "kernelspec": {
   "display_name": "Python 3 (ipykernel)",
   "language": "python",
   "name": "python3"
  },
  "language_info": {
   "codemirror_mode": {
    "name": "ipython",
    "version": 3
   },
   "file_extension": ".py",
   "mimetype": "text/x-python",
   "name": "python",
   "nbconvert_exporter": "python",
   "pygments_lexer": "ipython3",
   "version": "3.9.13"
  },
  "toc": {
   "base_numbering": 1,
   "nav_menu": {},
   "number_sections": true,
   "sideBar": true,
   "skip_h1_title": true,
   "title_cell": "Table of Contents",
   "title_sidebar": "Contents",
   "toc_cell": true,
   "toc_position": {},
   "toc_section_display": true,
   "toc_window_display": true
  }
 },
 "nbformat": 4,
 "nbformat_minor": 5
}
