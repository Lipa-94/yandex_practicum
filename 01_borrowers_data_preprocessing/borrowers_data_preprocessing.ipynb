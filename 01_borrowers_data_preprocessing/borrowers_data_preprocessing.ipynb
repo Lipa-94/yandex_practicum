{
 "cells": [
  {
   "cell_type": "markdown",
   "id": "5a060688",
   "metadata": {
    "deletable": false,
    "editable": false,
    "id": "c81daeeb"
   },
   "source": [
    "# Исследование надежности заемщиков\n"
   ]
  },
  {
   "cell_type": "markdown",
   "id": "7a76b01c",
   "metadata": {
    "deletable": false,
    "editable": false,
    "id": "827c20bf"
   },
   "source": [
    "Во второй части проекта вы выполните шаги 3 и 4. Их вручную проверит ревьюер.\n",
    "Чтобы вам не пришлось писать код заново для шагов 1 и 2, мы добавили авторские решения в ячейки с кодом. \n",
    "\n"
   ]
  },
  {
   "cell_type": "markdown",
   "id": "56b9d9cf",
   "metadata": {
    "deletable": false,
    "editable": false,
    "id": "744d7639"
   },
   "source": [
    "## Откройте таблицу и изучите общую информацию о данных"
   ]
  },
  {
   "cell_type": "markdown",
   "id": "7023697c",
   "metadata": {
    "deletable": false,
    "editable": false,
    "id": "e7a14c31"
   },
   "source": [
    "**Задание 1. Импортируйте библиотеку pandas. Считайте данные из csv-файла в датафрейм и сохраните в переменную `data`. Путь к файлу:**\n",
    "\n",
    "`/datasets/data.csv`"
   ]
  },
  {
   "cell_type": "code",
   "execution_count": 67,
   "id": "141eff1b",
   "metadata": {
    "deletable": false,
    "id": "7bcf75c9"
   },
   "outputs": [],
   "source": [
    "import pandas as pd\n",
    "\n",
    "try:\n",
    "    data = pd.read_csv('/datasets/data.csv')\n",
    "except:\n",
    "    data = pd.read_csv('https://code.s3.yandex.net/datasets/data.csv')"
   ]
  },
  {
   "cell_type": "markdown",
   "id": "f7df3443",
   "metadata": {
    "deletable": false,
    "editable": false,
    "id": "b8038fe3"
   },
   "source": [
    "**Задание 2. Выведите первые 20 строчек датафрейма `data` на экран.**"
   ]
  },
  {
   "cell_type": "code",
   "execution_count": 68,
   "id": "b70e45ed",
   "metadata": {
    "deletable": false,
    "id": "2a7cab99",
    "outputId": "1a8f3ef2-d323-4ec2-ddf7-89670b5944c4"
   },
   "outputs": [
    {
     "data": {
      "text/html": [
       "<div>\n",
       "<style scoped>\n",
       "    .dataframe tbody tr th:only-of-type {\n",
       "        vertical-align: middle;\n",
       "    }\n",
       "\n",
       "    .dataframe tbody tr th {\n",
       "        vertical-align: top;\n",
       "    }\n",
       "\n",
       "    .dataframe thead th {\n",
       "        text-align: right;\n",
       "    }\n",
       "</style>\n",
       "<table border=\"1\" class=\"dataframe\">\n",
       "  <thead>\n",
       "    <tr style=\"text-align: right;\">\n",
       "      <th></th>\n",
       "      <th>children</th>\n",
       "      <th>days_employed</th>\n",
       "      <th>dob_years</th>\n",
       "      <th>education</th>\n",
       "      <th>education_id</th>\n",
       "      <th>family_status</th>\n",
       "      <th>family_status_id</th>\n",
       "      <th>gender</th>\n",
       "      <th>income_type</th>\n",
       "      <th>debt</th>\n",
       "      <th>total_income</th>\n",
       "      <th>purpose</th>\n",
       "    </tr>\n",
       "  </thead>\n",
       "  <tbody>\n",
       "    <tr>\n",
       "      <th>0</th>\n",
       "      <td>1</td>\n",
       "      <td>-8437.673028</td>\n",
       "      <td>42</td>\n",
       "      <td>высшее</td>\n",
       "      <td>0</td>\n",
       "      <td>женат / замужем</td>\n",
       "      <td>0</td>\n",
       "      <td>F</td>\n",
       "      <td>сотрудник</td>\n",
       "      <td>0</td>\n",
       "      <td>253875.639453</td>\n",
       "      <td>покупка жилья</td>\n",
       "    </tr>\n",
       "    <tr>\n",
       "      <th>1</th>\n",
       "      <td>1</td>\n",
       "      <td>-4024.803754</td>\n",
       "      <td>36</td>\n",
       "      <td>среднее</td>\n",
       "      <td>1</td>\n",
       "      <td>женат / замужем</td>\n",
       "      <td>0</td>\n",
       "      <td>F</td>\n",
       "      <td>сотрудник</td>\n",
       "      <td>0</td>\n",
       "      <td>112080.014102</td>\n",
       "      <td>приобретение автомобиля</td>\n",
       "    </tr>\n",
       "    <tr>\n",
       "      <th>2</th>\n",
       "      <td>0</td>\n",
       "      <td>-5623.422610</td>\n",
       "      <td>33</td>\n",
       "      <td>Среднее</td>\n",
       "      <td>1</td>\n",
       "      <td>женат / замужем</td>\n",
       "      <td>0</td>\n",
       "      <td>M</td>\n",
       "      <td>сотрудник</td>\n",
       "      <td>0</td>\n",
       "      <td>145885.952297</td>\n",
       "      <td>покупка жилья</td>\n",
       "    </tr>\n",
       "    <tr>\n",
       "      <th>3</th>\n",
       "      <td>3</td>\n",
       "      <td>-4124.747207</td>\n",
       "      <td>32</td>\n",
       "      <td>среднее</td>\n",
       "      <td>1</td>\n",
       "      <td>женат / замужем</td>\n",
       "      <td>0</td>\n",
       "      <td>M</td>\n",
       "      <td>сотрудник</td>\n",
       "      <td>0</td>\n",
       "      <td>267628.550329</td>\n",
       "      <td>дополнительное образование</td>\n",
       "    </tr>\n",
       "    <tr>\n",
       "      <th>4</th>\n",
       "      <td>0</td>\n",
       "      <td>340266.072047</td>\n",
       "      <td>53</td>\n",
       "      <td>среднее</td>\n",
       "      <td>1</td>\n",
       "      <td>гражданский брак</td>\n",
       "      <td>1</td>\n",
       "      <td>F</td>\n",
       "      <td>пенсионер</td>\n",
       "      <td>0</td>\n",
       "      <td>158616.077870</td>\n",
       "      <td>сыграть свадьбу</td>\n",
       "    </tr>\n",
       "    <tr>\n",
       "      <th>5</th>\n",
       "      <td>0</td>\n",
       "      <td>-926.185831</td>\n",
       "      <td>27</td>\n",
       "      <td>высшее</td>\n",
       "      <td>0</td>\n",
       "      <td>гражданский брак</td>\n",
       "      <td>1</td>\n",
       "      <td>M</td>\n",
       "      <td>компаньон</td>\n",
       "      <td>0</td>\n",
       "      <td>255763.565419</td>\n",
       "      <td>покупка жилья</td>\n",
       "    </tr>\n",
       "    <tr>\n",
       "      <th>6</th>\n",
       "      <td>0</td>\n",
       "      <td>-2879.202052</td>\n",
       "      <td>43</td>\n",
       "      <td>высшее</td>\n",
       "      <td>0</td>\n",
       "      <td>женат / замужем</td>\n",
       "      <td>0</td>\n",
       "      <td>F</td>\n",
       "      <td>компаньон</td>\n",
       "      <td>0</td>\n",
       "      <td>240525.971920</td>\n",
       "      <td>операции с жильем</td>\n",
       "    </tr>\n",
       "    <tr>\n",
       "      <th>7</th>\n",
       "      <td>0</td>\n",
       "      <td>-152.779569</td>\n",
       "      <td>50</td>\n",
       "      <td>СРЕДНЕЕ</td>\n",
       "      <td>1</td>\n",
       "      <td>женат / замужем</td>\n",
       "      <td>0</td>\n",
       "      <td>M</td>\n",
       "      <td>сотрудник</td>\n",
       "      <td>0</td>\n",
       "      <td>135823.934197</td>\n",
       "      <td>образование</td>\n",
       "    </tr>\n",
       "    <tr>\n",
       "      <th>8</th>\n",
       "      <td>2</td>\n",
       "      <td>-6929.865299</td>\n",
       "      <td>35</td>\n",
       "      <td>ВЫСШЕЕ</td>\n",
       "      <td>0</td>\n",
       "      <td>гражданский брак</td>\n",
       "      <td>1</td>\n",
       "      <td>F</td>\n",
       "      <td>сотрудник</td>\n",
       "      <td>0</td>\n",
       "      <td>95856.832424</td>\n",
       "      <td>на проведение свадьбы</td>\n",
       "    </tr>\n",
       "    <tr>\n",
       "      <th>9</th>\n",
       "      <td>0</td>\n",
       "      <td>-2188.756445</td>\n",
       "      <td>41</td>\n",
       "      <td>среднее</td>\n",
       "      <td>1</td>\n",
       "      <td>женат / замужем</td>\n",
       "      <td>0</td>\n",
       "      <td>M</td>\n",
       "      <td>сотрудник</td>\n",
       "      <td>0</td>\n",
       "      <td>144425.938277</td>\n",
       "      <td>покупка жилья для семьи</td>\n",
       "    </tr>\n",
       "    <tr>\n",
       "      <th>10</th>\n",
       "      <td>2</td>\n",
       "      <td>-4171.483647</td>\n",
       "      <td>36</td>\n",
       "      <td>высшее</td>\n",
       "      <td>0</td>\n",
       "      <td>женат / замужем</td>\n",
       "      <td>0</td>\n",
       "      <td>M</td>\n",
       "      <td>компаньон</td>\n",
       "      <td>0</td>\n",
       "      <td>113943.491460</td>\n",
       "      <td>покупка недвижимости</td>\n",
       "    </tr>\n",
       "    <tr>\n",
       "      <th>11</th>\n",
       "      <td>0</td>\n",
       "      <td>-792.701887</td>\n",
       "      <td>40</td>\n",
       "      <td>среднее</td>\n",
       "      <td>1</td>\n",
       "      <td>женат / замужем</td>\n",
       "      <td>0</td>\n",
       "      <td>F</td>\n",
       "      <td>сотрудник</td>\n",
       "      <td>0</td>\n",
       "      <td>77069.234271</td>\n",
       "      <td>покупка коммерческой недвижимости</td>\n",
       "    </tr>\n",
       "    <tr>\n",
       "      <th>12</th>\n",
       "      <td>0</td>\n",
       "      <td>NaN</td>\n",
       "      <td>65</td>\n",
       "      <td>среднее</td>\n",
       "      <td>1</td>\n",
       "      <td>гражданский брак</td>\n",
       "      <td>1</td>\n",
       "      <td>M</td>\n",
       "      <td>пенсионер</td>\n",
       "      <td>0</td>\n",
       "      <td>NaN</td>\n",
       "      <td>сыграть свадьбу</td>\n",
       "    </tr>\n",
       "    <tr>\n",
       "      <th>13</th>\n",
       "      <td>0</td>\n",
       "      <td>-1846.641941</td>\n",
       "      <td>54</td>\n",
       "      <td>неоконченное высшее</td>\n",
       "      <td>2</td>\n",
       "      <td>женат / замужем</td>\n",
       "      <td>0</td>\n",
       "      <td>F</td>\n",
       "      <td>сотрудник</td>\n",
       "      <td>0</td>\n",
       "      <td>130458.228857</td>\n",
       "      <td>приобретение автомобиля</td>\n",
       "    </tr>\n",
       "    <tr>\n",
       "      <th>14</th>\n",
       "      <td>0</td>\n",
       "      <td>-1844.956182</td>\n",
       "      <td>56</td>\n",
       "      <td>высшее</td>\n",
       "      <td>0</td>\n",
       "      <td>гражданский брак</td>\n",
       "      <td>1</td>\n",
       "      <td>F</td>\n",
       "      <td>компаньон</td>\n",
       "      <td>1</td>\n",
       "      <td>165127.911772</td>\n",
       "      <td>покупка жилой недвижимости</td>\n",
       "    </tr>\n",
       "    <tr>\n",
       "      <th>15</th>\n",
       "      <td>1</td>\n",
       "      <td>-972.364419</td>\n",
       "      <td>26</td>\n",
       "      <td>среднее</td>\n",
       "      <td>1</td>\n",
       "      <td>женат / замужем</td>\n",
       "      <td>0</td>\n",
       "      <td>F</td>\n",
       "      <td>сотрудник</td>\n",
       "      <td>0</td>\n",
       "      <td>116820.904450</td>\n",
       "      <td>строительство собственной недвижимости</td>\n",
       "    </tr>\n",
       "    <tr>\n",
       "      <th>16</th>\n",
       "      <td>0</td>\n",
       "      <td>-1719.934226</td>\n",
       "      <td>35</td>\n",
       "      <td>среднее</td>\n",
       "      <td>1</td>\n",
       "      <td>женат / замужем</td>\n",
       "      <td>0</td>\n",
       "      <td>F</td>\n",
       "      <td>сотрудник</td>\n",
       "      <td>0</td>\n",
       "      <td>289202.704229</td>\n",
       "      <td>недвижимость</td>\n",
       "    </tr>\n",
       "    <tr>\n",
       "      <th>17</th>\n",
       "      <td>0</td>\n",
       "      <td>-2369.999720</td>\n",
       "      <td>33</td>\n",
       "      <td>высшее</td>\n",
       "      <td>0</td>\n",
       "      <td>гражданский брак</td>\n",
       "      <td>1</td>\n",
       "      <td>M</td>\n",
       "      <td>сотрудник</td>\n",
       "      <td>0</td>\n",
       "      <td>90410.586745</td>\n",
       "      <td>строительство недвижимости</td>\n",
       "    </tr>\n",
       "    <tr>\n",
       "      <th>18</th>\n",
       "      <td>0</td>\n",
       "      <td>400281.136913</td>\n",
       "      <td>53</td>\n",
       "      <td>среднее</td>\n",
       "      <td>1</td>\n",
       "      <td>вдовец / вдова</td>\n",
       "      <td>2</td>\n",
       "      <td>F</td>\n",
       "      <td>пенсионер</td>\n",
       "      <td>0</td>\n",
       "      <td>56823.777243</td>\n",
       "      <td>на покупку подержанного автомобиля</td>\n",
       "    </tr>\n",
       "    <tr>\n",
       "      <th>19</th>\n",
       "      <td>0</td>\n",
       "      <td>-10038.818549</td>\n",
       "      <td>48</td>\n",
       "      <td>СРЕДНЕЕ</td>\n",
       "      <td>1</td>\n",
       "      <td>в разводе</td>\n",
       "      <td>3</td>\n",
       "      <td>F</td>\n",
       "      <td>сотрудник</td>\n",
       "      <td>0</td>\n",
       "      <td>242831.107982</td>\n",
       "      <td>на покупку своего автомобиля</td>\n",
       "    </tr>\n",
       "  </tbody>\n",
       "</table>\n",
       "</div>"
      ],
      "text/plain": [
       "    children  days_employed  dob_years            education  education_id  \\\n",
       "0          1   -8437.673028         42               высшее             0   \n",
       "1          1   -4024.803754         36              среднее             1   \n",
       "2          0   -5623.422610         33              Среднее             1   \n",
       "3          3   -4124.747207         32              среднее             1   \n",
       "4          0  340266.072047         53              среднее             1   \n",
       "5          0    -926.185831         27               высшее             0   \n",
       "6          0   -2879.202052         43               высшее             0   \n",
       "7          0    -152.779569         50              СРЕДНЕЕ             1   \n",
       "8          2   -6929.865299         35               ВЫСШЕЕ             0   \n",
       "9          0   -2188.756445         41              среднее             1   \n",
       "10         2   -4171.483647         36               высшее             0   \n",
       "11         0    -792.701887         40              среднее             1   \n",
       "12         0            NaN         65              среднее             1   \n",
       "13         0   -1846.641941         54  неоконченное высшее             2   \n",
       "14         0   -1844.956182         56               высшее             0   \n",
       "15         1    -972.364419         26              среднее             1   \n",
       "16         0   -1719.934226         35              среднее             1   \n",
       "17         0   -2369.999720         33               высшее             0   \n",
       "18         0  400281.136913         53              среднее             1   \n",
       "19         0  -10038.818549         48              СРЕДНЕЕ             1   \n",
       "\n",
       "       family_status  family_status_id gender income_type  debt  \\\n",
       "0    женат / замужем                 0      F   сотрудник     0   \n",
       "1    женат / замужем                 0      F   сотрудник     0   \n",
       "2    женат / замужем                 0      M   сотрудник     0   \n",
       "3    женат / замужем                 0      M   сотрудник     0   \n",
       "4   гражданский брак                 1      F   пенсионер     0   \n",
       "5   гражданский брак                 1      M   компаньон     0   \n",
       "6    женат / замужем                 0      F   компаньон     0   \n",
       "7    женат / замужем                 0      M   сотрудник     0   \n",
       "8   гражданский брак                 1      F   сотрудник     0   \n",
       "9    женат / замужем                 0      M   сотрудник     0   \n",
       "10   женат / замужем                 0      M   компаньон     0   \n",
       "11   женат / замужем                 0      F   сотрудник     0   \n",
       "12  гражданский брак                 1      M   пенсионер     0   \n",
       "13   женат / замужем                 0      F   сотрудник     0   \n",
       "14  гражданский брак                 1      F   компаньон     1   \n",
       "15   женат / замужем                 0      F   сотрудник     0   \n",
       "16   женат / замужем                 0      F   сотрудник     0   \n",
       "17  гражданский брак                 1      M   сотрудник     0   \n",
       "18    вдовец / вдова                 2      F   пенсионер     0   \n",
       "19         в разводе                 3      F   сотрудник     0   \n",
       "\n",
       "     total_income                                 purpose  \n",
       "0   253875.639453                           покупка жилья  \n",
       "1   112080.014102                 приобретение автомобиля  \n",
       "2   145885.952297                           покупка жилья  \n",
       "3   267628.550329              дополнительное образование  \n",
       "4   158616.077870                         сыграть свадьбу  \n",
       "5   255763.565419                           покупка жилья  \n",
       "6   240525.971920                       операции с жильем  \n",
       "7   135823.934197                             образование  \n",
       "8    95856.832424                   на проведение свадьбы  \n",
       "9   144425.938277                 покупка жилья для семьи  \n",
       "10  113943.491460                    покупка недвижимости  \n",
       "11   77069.234271       покупка коммерческой недвижимости  \n",
       "12            NaN                         сыграть свадьбу  \n",
       "13  130458.228857                 приобретение автомобиля  \n",
       "14  165127.911772              покупка жилой недвижимости  \n",
       "15  116820.904450  строительство собственной недвижимости  \n",
       "16  289202.704229                            недвижимость  \n",
       "17   90410.586745              строительство недвижимости  \n",
       "18   56823.777243      на покупку подержанного автомобиля  \n",
       "19  242831.107982            на покупку своего автомобиля  "
      ]
     },
     "execution_count": 68,
     "metadata": {},
     "output_type": "execute_result"
    }
   ],
   "source": [
    "data.head(20)"
   ]
  },
  {
   "cell_type": "markdown",
   "id": "0080268b",
   "metadata": {
    "deletable": false,
    "editable": false,
    "id": "1c12e233"
   },
   "source": [
    "**Задание 3. Выведите основную информацию о датафрейме с помощью метода `info()`.**"
   ]
  },
  {
   "cell_type": "code",
   "execution_count": 69,
   "id": "aa037d34",
   "metadata": {
    "deletable": false,
    "id": "2b757bca",
    "outputId": "15376089-8dad-46c9-b520-c05248d43158"
   },
   "outputs": [
    {
     "name": "stdout",
     "output_type": "stream",
     "text": [
      "<class 'pandas.core.frame.DataFrame'>\n",
      "RangeIndex: 21525 entries, 0 to 21524\n",
      "Data columns (total 12 columns):\n",
      " #   Column            Non-Null Count  Dtype  \n",
      "---  ------            --------------  -----  \n",
      " 0   children          21525 non-null  int64  \n",
      " 1   days_employed     19351 non-null  float64\n",
      " 2   dob_years         21525 non-null  int64  \n",
      " 3   education         21525 non-null  object \n",
      " 4   education_id      21525 non-null  int64  \n",
      " 5   family_status     21525 non-null  object \n",
      " 6   family_status_id  21525 non-null  int64  \n",
      " 7   gender            21525 non-null  object \n",
      " 8   income_type       21525 non-null  object \n",
      " 9   debt              21525 non-null  int64  \n",
      " 10  total_income      19351 non-null  float64\n",
      " 11  purpose           21525 non-null  object \n",
      "dtypes: float64(2), int64(5), object(5)\n",
      "memory usage: 2.0+ MB\n"
     ]
    }
   ],
   "source": [
    "data.info()"
   ]
  },
  {
   "cell_type": "markdown",
   "id": "5e56acd5",
   "metadata": {
    "deletable": false,
    "editable": false,
    "id": "333ec665"
   },
   "source": [
    "## Предобработка данных"
   ]
  },
  {
   "cell_type": "markdown",
   "id": "911e3a24",
   "metadata": {
    "deletable": false,
    "editable": false,
    "id": "02d92d53"
   },
   "source": [
    "### Удаление пропусков"
   ]
  },
  {
   "cell_type": "markdown",
   "id": "839ee638",
   "metadata": {
    "deletable": false,
    "editable": false,
    "id": "cd84967c"
   },
   "source": [
    "**Задание 4. Выведите количество пропущенных значений для каждого столбца. Используйте комбинацию двух методов.**"
   ]
  },
  {
   "cell_type": "code",
   "execution_count": 70,
   "id": "b3e01f00",
   "metadata": {
    "deletable": false,
    "id": "7f9b2309",
    "outputId": "81f4d817-781c-465c-ed15-91ce4446810d"
   },
   "outputs": [
    {
     "data": {
      "text/plain": [
       "children               0\n",
       "days_employed       2174\n",
       "dob_years              0\n",
       "education              0\n",
       "education_id           0\n",
       "family_status          0\n",
       "family_status_id       0\n",
       "gender                 0\n",
       "income_type            0\n",
       "debt                   0\n",
       "total_income        2174\n",
       "purpose                0\n",
       "dtype: int64"
      ]
     },
     "execution_count": 70,
     "metadata": {},
     "output_type": "execute_result"
    }
   ],
   "source": [
    "data.isna().sum()"
   ]
  },
  {
   "cell_type": "markdown",
   "id": "13ef3cc7",
   "metadata": {
    "deletable": false,
    "editable": false,
    "id": "db86e27b"
   },
   "source": [
    "**Задание 5. В двух столбцах есть пропущенные значения. Один из них — `days_employed`. Пропуски в этом столбце вы обработаете на следующем этапе. Другой столбец с пропущенными значениями — `total_income` — хранит данные о доходах. На сумму дохода сильнее всего влияет тип занятости, поэтому заполнить пропуски в этом столбце нужно медианным значением по каждому типу из столбца `income_type`. Например, у человека с типом занятости `сотрудник` пропуск в столбце `total_income` должен быть заполнен медианным доходом среди всех записей с тем же типом.**"
   ]
  },
  {
   "cell_type": "code",
   "execution_count": 71,
   "id": "905c1c39",
   "metadata": {
    "deletable": false,
    "id": "42006a93"
   },
   "outputs": [],
   "source": [
    "for t in data['income_type'].unique():\n",
    "    data.loc[(data['income_type'] == t) & (data['total_income'].isna()), 'total_income'] = \\\n",
    "    data.loc[(data['income_type'] == t), 'total_income'].median()"
   ]
  },
  {
   "cell_type": "markdown",
   "id": "843ece9e",
   "metadata": {
    "deletable": false,
    "editable": false,
    "id": "89da5ece"
   },
   "source": [
    "### Обработка аномальных значений"
   ]
  },
  {
   "cell_type": "markdown",
   "id": "996fc00d",
   "metadata": {
    "deletable": false,
    "editable": false,
    "id": "57964554"
   },
   "source": [
    "**Задание 6. В данных могут встречаться артефакты (аномалии) — значения, которые не отражают действительность и появились по какой-то ошибке. таким артефактом будет отрицательное количество дней трудового стажа в столбце `days_employed`. Для реальных данных это нормально. Обработайте значения в этом столбце: замените все отрицательные значения положительными с помощью метода `abs()`.**"
   ]
  },
  {
   "cell_type": "code",
   "execution_count": 72,
   "id": "dc376973",
   "metadata": {
    "deletable": false,
    "id": "f6f055bf"
   },
   "outputs": [],
   "source": [
    "data['days_employed'] = data['days_employed'].abs()"
   ]
  },
  {
   "cell_type": "markdown",
   "id": "cb3c9d6e",
   "metadata": {
    "deletable": false,
    "editable": false,
    "id": "6107dd2f"
   },
   "source": [
    "**Задание 7. Для каждого типа занятости выведите медианное значение трудового стажа `days_employed` в днях.**"
   ]
  },
  {
   "cell_type": "code",
   "execution_count": 73,
   "id": "50faed7f",
   "metadata": {
    "deletable": false,
    "id": "85a5faf6",
    "outputId": "801ef80e-522b-4668-f34e-565af7432bcf"
   },
   "outputs": [
    {
     "data": {
      "text/plain": [
       "income_type\n",
       "безработный        366413.652744\n",
       "в декрете            3296.759962\n",
       "госслужащий          2689.368353\n",
       "компаньон            1547.382223\n",
       "пенсионер          365213.306266\n",
       "предприниматель       520.848083\n",
       "сотрудник            1574.202821\n",
       "студент               578.751554\n",
       "Name: days_employed, dtype: float64"
      ]
     },
     "execution_count": 73,
     "metadata": {},
     "output_type": "execute_result"
    }
   ],
   "source": [
    "data.groupby('income_type')['days_employed'].agg('median')"
   ]
  },
  {
   "cell_type": "markdown",
   "id": "4b0e2867",
   "metadata": {
    "deletable": false,
    "editable": false,
    "id": "38d1a030"
   },
   "source": [
    "У двух типов (безработные и пенсионеры) получатся аномально большие значения. Исправить такие значения сложно, поэтому оставьте их как есть. Тем более этот столбец не понадобится вам для исследования."
   ]
  },
  {
   "cell_type": "markdown",
   "id": "8fb6b27b",
   "metadata": {
    "deletable": false,
    "editable": false,
    "id": "d8a9f147"
   },
   "source": [
    "**Задание 8. Выведите перечень уникальных значений столбца `children`.**"
   ]
  },
  {
   "cell_type": "code",
   "execution_count": 74,
   "id": "7d09280a",
   "metadata": {
    "deletable": false,
    "id": "ef5056eb",
    "outputId": "6975b15c-7f95-4697-d16d-a0c79b657b03"
   },
   "outputs": [
    {
     "data": {
      "text/plain": [
       "array([ 1,  0,  3,  2, -1,  4, 20,  5])"
      ]
     },
     "execution_count": 74,
     "metadata": {},
     "output_type": "execute_result"
    }
   ],
   "source": [
    "data['children'].unique()"
   ]
  },
  {
   "cell_type": "markdown",
   "id": "1826a6cb",
   "metadata": {
    "deletable": false,
    "editable": false,
    "id": "40b9ebf2"
   },
   "source": [
    "**Задание 9. В столбце `children` есть два аномальных значения. Удалите строки, в которых встречаются такие аномальные значения из датафрейма `data`.**"
   ]
  },
  {
   "cell_type": "code",
   "execution_count": 75,
   "id": "b31f0284",
   "metadata": {
    "deletable": false,
    "id": "3ff9801d"
   },
   "outputs": [],
   "source": [
    "data = data[(data['children'] != -1) & (data['children'] != 20)]"
   ]
  },
  {
   "cell_type": "markdown",
   "id": "7a09760e",
   "metadata": {
    "deletable": false,
    "editable": false,
    "id": "bbc4d0ce"
   },
   "source": [
    "**Задание 10. Ещё раз выведите перечень уникальных значений столбца `children`, чтобы убедиться, что артефакты удалены.**"
   ]
  },
  {
   "cell_type": "code",
   "execution_count": 76,
   "id": "59f89f40",
   "metadata": {
    "deletable": false,
    "id": "ad4fa8b7",
    "outputId": "b2097101-d49d-44d9-901b-32a65c9463d1"
   },
   "outputs": [
    {
     "data": {
      "text/plain": [
       "array([1, 0, 3, 2, 4, 5])"
      ]
     },
     "execution_count": 76,
     "metadata": {},
     "output_type": "execute_result"
    }
   ],
   "source": [
    "data['children'].unique()"
   ]
  },
  {
   "cell_type": "markdown",
   "id": "31b993d5",
   "metadata": {
    "deletable": false,
    "editable": false,
    "id": "75440b63"
   },
   "source": [
    "### Удаление пропусков (продолжение)"
   ]
  },
  {
   "cell_type": "markdown",
   "id": "5e4c02c3",
   "metadata": {
    "deletable": false,
    "editable": false,
    "id": "f4ea573f"
   },
   "source": [
    "**Задание 11. Заполните пропуски в столбце `days_employed` медианными значениями по каждого типа занятости `income_type`.**"
   ]
  },
  {
   "cell_type": "code",
   "execution_count": 77,
   "id": "aa8be6ea",
   "metadata": {
    "deletable": false,
    "id": "af6b1a7e"
   },
   "outputs": [],
   "source": [
    "for t in data['income_type'].unique():\n",
    "    data.loc[(data['income_type'] == t) & (data['days_employed'].isna()), 'days_employed'] = \\\n",
    "    data.loc[(data['income_type'] == t), 'days_employed'].median()"
   ]
  },
  {
   "cell_type": "markdown",
   "id": "38b67bac",
   "metadata": {
    "deletable": false,
    "editable": false,
    "id": "2753f40d"
   },
   "source": [
    "**Задание 12. Убедитесь, что все пропуски заполнены. Проверьте себя и ещё раз выведите количество пропущенных значений для каждого столбца с помощью двух методов.**"
   ]
  },
  {
   "cell_type": "code",
   "execution_count": 78,
   "id": "b2211128",
   "metadata": {
    "deletable": false,
    "id": "55f78bc2",
    "outputId": "8da1e4e1-358e-4e87-98c9-f261bce0a7b2"
   },
   "outputs": [
    {
     "data": {
      "text/plain": [
       "children            0\n",
       "days_employed       0\n",
       "dob_years           0\n",
       "education           0\n",
       "education_id        0\n",
       "family_status       0\n",
       "family_status_id    0\n",
       "gender              0\n",
       "income_type         0\n",
       "debt                0\n",
       "total_income        0\n",
       "purpose             0\n",
       "dtype: int64"
      ]
     },
     "execution_count": 78,
     "metadata": {},
     "output_type": "execute_result"
    }
   ],
   "source": [
    "data.isna().sum()"
   ]
  },
  {
   "cell_type": "markdown",
   "id": "320b4c62",
   "metadata": {
    "deletable": false,
    "editable": false,
    "id": "ddc81e43"
   },
   "source": [
    "### Изменение типов данных"
   ]
  },
  {
   "cell_type": "markdown",
   "id": "e03cde8e",
   "metadata": {
    "deletable": false,
    "editable": false,
    "id": "42d19d24"
   },
   "source": [
    "**Задание 13. Замените вещественный тип данных в столбце `total_income` на целочисленный с помощью метода `astype()`.**"
   ]
  },
  {
   "cell_type": "code",
   "execution_count": 79,
   "id": "4fb0bdb1",
   "metadata": {
    "deletable": false,
    "id": "920b65ad"
   },
   "outputs": [],
   "source": [
    "data['total_income'] = data['total_income'].astype(int)"
   ]
  },
  {
   "cell_type": "markdown",
   "id": "5bc05235",
   "metadata": {
    "deletable": false,
    "editable": false,
    "id": "80c420ba"
   },
   "source": [
    "### Обработка дубликатов"
   ]
  },
  {
   "cell_type": "markdown",
   "id": "23cf0b85",
   "metadata": {
    "deletable": false,
    "editable": false
   },
   "source": [
    "**Задание 14. Обработайте неявные дубликаты в столбце `education`. В этом столбце есть одни и те же значения, но записанные по-разному: с использованием заглавных и строчных букв. Приведите их к нижнему регистру. Проверьте остальные столбцы.**"
   ]
  },
  {
   "cell_type": "code",
   "execution_count": 80,
   "id": "541d1c2c",
   "metadata": {
    "deletable": false
   },
   "outputs": [],
   "source": [
    "data['education'] = data['education'].str.lower()"
   ]
  },
  {
   "cell_type": "markdown",
   "id": "98950fad",
   "metadata": {
    "deletable": false,
    "editable": false,
    "id": "dc587695"
   },
   "source": [
    "**Задание 15. Выведите на экран количество строк-дубликатов в данных. Если такие строки присутствуют, удалите их.**"
   ]
  },
  {
   "cell_type": "code",
   "execution_count": 81,
   "id": "e6102316",
   "metadata": {
    "deletable": false,
    "id": "3ee445e4",
    "outputId": "9684deba-1934-42d1-99e1-cda61740f822"
   },
   "outputs": [
    {
     "data": {
      "text/plain": [
       "71"
      ]
     },
     "execution_count": 81,
     "metadata": {},
     "output_type": "execute_result"
    }
   ],
   "source": [
    "data.duplicated().sum()"
   ]
  },
  {
   "cell_type": "code",
   "execution_count": 82,
   "id": "502e2fbe",
   "metadata": {
    "deletable": false,
    "id": "8575fe05"
   },
   "outputs": [],
   "source": [
    "data = data.drop_duplicates()"
   ]
  },
  {
   "cell_type": "markdown",
   "id": "28d5e706",
   "metadata": {
    "deletable": false,
    "editable": false,
    "id": "9904cf55"
   },
   "source": [
    "### Категоризация данных"
   ]
  },
  {
   "cell_type": "markdown",
   "id": "33a81db1",
   "metadata": {
    "deletable": false,
    "editable": false,
    "id": "72fcc8a2"
   },
   "source": [
    "**Задание 16. На основании диапазонов, указанных ниже, создайте в датафрейме `data` столбец `total_income_category` с категориями:**\n",
    "\n",
    "- 0–30000 — `'E'`;\n",
    "- 30001–50000 — `'D'`;\n",
    "- 50001–200000 — `'C'`;\n",
    "- 200001–1000000 — `'B'`;\n",
    "- 1000001 и выше — `'A'`.\n",
    "\n",
    "\n",
    "**Например, кредитополучателю с доходом 25000 нужно назначить категорию `'E'`, а клиенту, получающему 235000, — `'B'`. Используйте собственную функцию с именем `categorize_income()` и метод `apply()`.**"
   ]
  },
  {
   "cell_type": "code",
   "execution_count": 83,
   "id": "abd159d8",
   "metadata": {
    "deletable": false,
    "id": "e1771346"
   },
   "outputs": [],
   "source": [
    "def categorize_income(income):\n",
    "    try:\n",
    "        if 0 <= income <= 30000:\n",
    "            return 'E'\n",
    "        elif 30001 <= income <= 50000:\n",
    "            return 'D'\n",
    "        elif 50001 <= income <= 200000:\n",
    "            return 'C'\n",
    "        elif 200001 <= income <= 1000000:\n",
    "            return 'B'\n",
    "        elif income >= 1000001:\n",
    "            return 'A'\n",
    "    except:\n",
    "        pass"
   ]
  },
  {
   "cell_type": "code",
   "execution_count": 84,
   "id": "a5512d5d",
   "metadata": {
    "deletable": false,
    "id": "d5f3586d"
   },
   "outputs": [],
   "source": [
    "data['total_income_category'] = data['total_income'].apply(categorize_income)"
   ]
  },
  {
   "cell_type": "markdown",
   "id": "2f35ae40",
   "metadata": {
    "deletable": false,
    "editable": false,
    "id": "dde49b5c"
   },
   "source": [
    "**Задание 17. Выведите на экран перечень уникальных целей взятия кредита из столбца `purpose`.**"
   ]
  },
  {
   "cell_type": "code",
   "execution_count": 85,
   "id": "98156091",
   "metadata": {
    "deletable": false,
    "id": "f67ce9b3",
    "outputId": "673c12d9-7d7e-4ae0-9812-c622c89dd244"
   },
   "outputs": [
    {
     "data": {
      "text/plain": [
       "array(['покупка жилья', 'приобретение автомобиля',\n",
       "       'дополнительное образование', 'сыграть свадьбу',\n",
       "       'операции с жильем', 'образование', 'на проведение свадьбы',\n",
       "       'покупка жилья для семьи', 'покупка недвижимости',\n",
       "       'покупка коммерческой недвижимости', 'покупка жилой недвижимости',\n",
       "       'строительство собственной недвижимости', 'недвижимость',\n",
       "       'строительство недвижимости', 'на покупку подержанного автомобиля',\n",
       "       'на покупку своего автомобиля',\n",
       "       'операции с коммерческой недвижимостью',\n",
       "       'строительство жилой недвижимости', 'жилье',\n",
       "       'операции со своей недвижимостью', 'автомобили',\n",
       "       'заняться образованием', 'сделка с подержанным автомобилем',\n",
       "       'получение образования', 'автомобиль', 'свадьба',\n",
       "       'получение дополнительного образования', 'покупка своего жилья',\n",
       "       'операции с недвижимостью', 'получение высшего образования',\n",
       "       'свой автомобиль', 'сделка с автомобилем',\n",
       "       'профильное образование', 'высшее образование',\n",
       "       'покупка жилья для сдачи', 'на покупку автомобиля', 'ремонт жилью',\n",
       "       'заняться высшим образованием'], dtype=object)"
      ]
     },
     "execution_count": 85,
     "metadata": {},
     "output_type": "execute_result"
    }
   ],
   "source": [
    "data['purpose'].unique()"
   ]
  },
  {
   "cell_type": "markdown",
   "id": "ed782548",
   "metadata": {
    "deletable": false,
    "editable": false,
    "id": "85d0aef0"
   },
   "source": [
    "**Задание 18. Создайте функцию, которая на основании данных из столбца `purpose` сформирует новый столбец `purpose_category`, в который войдут следующие категории:**\n",
    "\n",
    "- `'операции с автомобилем'`,\n",
    "- `'операции с недвижимостью'`,\n",
    "- `'проведение свадьбы'`,\n",
    "- `'получение образования'`.\n",
    "\n",
    "**Например, если в столбце `purpose` находится подстрока `'на покупку автомобиля'`, то в столбце `purpose_category` должна появиться строка `'операции с автомобилем'`.**\n",
    "\n",
    "**Используйте собственную функцию с именем `categorize_purpose()` и метод `apply()`. Изучите данные в столбце `purpose` и определите, какие подстроки помогут вам правильно определить категорию.**"
   ]
  },
  {
   "cell_type": "code",
   "execution_count": 86,
   "id": "8cac8896",
   "metadata": {
    "deletable": false,
    "id": "e149fab4"
   },
   "outputs": [],
   "source": [
    "def categorize_purpose(row):\n",
    "    try:\n",
    "        if 'автом' in row:\n",
    "            return 'операции с автомобилем'\n",
    "        elif 'жил' in row or 'недвиж' in row:\n",
    "            return 'операции с недвижимостью'\n",
    "        elif 'свад' in row:\n",
    "            return 'проведение свадьбы'\n",
    "        elif 'образов' in row:\n",
    "            return 'получение образования'\n",
    "    except:\n",
    "        return 'нет категории'"
   ]
  },
  {
   "cell_type": "code",
   "execution_count": 87,
   "id": "dec46569",
   "metadata": {
    "deletable": false,
    "id": "bf36e69b"
   },
   "outputs": [],
   "source": [
    "data['purpose_category'] = data['purpose'].apply(categorize_purpose)"
   ]
  },
  {
   "cell_type": "markdown",
   "id": "eb0c6774",
   "metadata": {
    "deletable": false,
    "editable": false,
    "id": "09b242bf"
   },
   "source": [
    "### Шаг 3. Исследуйте данные и ответьте на вопросы"
   ]
  },
  {
   "cell_type": "markdown",
   "id": "e5346ef6",
   "metadata": {
    "deletable": false,
    "editable": false,
    "id": "c5d66278"
   },
   "source": [
    "#### 3.1 Есть ли зависимость между количеством детей и возвратом кредита в срок?"
   ]
  },
  {
   "cell_type": "code",
   "execution_count": 89,
   "id": "cb8d7797",
   "metadata": {},
   "outputs": [],
   "source": [
    "import seaborn as sns"
   ]
  },
  {
   "cell_type": "code",
   "execution_count": 1,
   "id": "0fa7cb7e",
   "metadata": {
    "deletable": false,
    "id": "2cacfc4a",
    "scrolled": true
   },
   "outputs": [
    {
     "ename": "NameError",
     "evalue": "name 'debt_vs_parameter_barplot' is not defined",
     "output_type": "error",
     "traceback": [
      "\u001b[1;31m---------------------------------------------------------------------------\u001b[0m",
      "\u001b[1;31mNameError\u001b[0m                                 Traceback (most recent call last)",
      "\u001b[1;32m~\\AppData\\Local\\Temp\\ipykernel_3468\\3312134649.py\u001b[0m in \u001b[0;36m<module>\u001b[1;34m\u001b[0m\n\u001b[1;32m----> 1\u001b[1;33m \u001b[0mdebt_vs_parameter_barplot\u001b[0m\u001b[1;33m(\u001b[0m\u001b[1;34m'children'\u001b[0m\u001b[1;33m,\u001b[0m \u001b[1;34m'children'\u001b[0m\u001b[1;33m)\u001b[0m\u001b[1;33m\u001b[0m\u001b[1;33m\u001b[0m\u001b[0m\n\u001b[0m",
      "\u001b[1;31mNameError\u001b[0m: name 'debt_vs_parameter_barplot' is not defined"
     ]
    }
   ],
   "source": [
    "debt_vs_parameter_barplot('children', 'children') "
   ]
  },
  {
   "cell_type": "code",
   "execution_count": 92,
   "id": "955c5bd5",
   "metadata": {},
   "outputs": [],
   "source": [
    "#Функция принимает наименование столбца, который будет затем сравниваться со столбцом debt\n",
    "#и параметр, который отвечает, по какому столбцу будет отсортирован результат\n",
    "#Функция возвращает таблицу с уникальными данными запрашиваемого параметра, количество всех клиентов в разрезе параметра,\n",
    "#количество клиентов с задолженностью по кредиту, и отношение клиентов с задолженностью ко всем клиентам\n",
    "def new_pivot_debt_vs_parameter_barplot(parameter, sort_order=''):\n",
    "    #Обработка возможных ошибок c типом параметра\n",
    "    try:\n",
    "        \n",
    "        #Проверка, что введенный parameter соответствует наименованию одного из столбцов таблицы data\n",
    "        if parameter in data.columns:\n",
    "            \n",
    "            #Создаю сводную таблицу с данными об общем кол-ве клиентов, о кол-ве клиентов с просрочкой, о проценте клиентов с просрочкой в каждой категории \n",
    "            parameter_vs_debt = pd.pivot_table(data, values='debt', index=parameter, aggfunc=['count', 'sum', 'mean'])\n",
    "            \n",
    "            #Введенное значение sort_order нужно немного преобразовать для дальнейшей сортировки\n",
    "            sort_order = (sort_order, 'debt')\n",
    "            #Если sort_order введен, то таблица отсортируется по введенному параметру, а если не введен, то\n",
    "            #сортировка по-умолчанию будет произведена по parameter в сводной таблице\n",
    "            if sort_order != ('', 'debt'):\n",
    "                if sort_order in parameter_vs_debt.columns:\n",
    "                    parameter_vs_debt = parameter_vs_debt.sort_values(by=sort_order)\n",
    "                else: print('Такой параметр отсутствует в таблице parameter_vs_debt') \n",
    "            \n",
    "            #Вывод заполненной таблицы на экран\n",
    "            print('Процент клиентов с задолженностью по кредитам в разрезе значений столбца ', parameter)\n",
    "            print(parameter_vs_debt)\n",
    "            #Вывод гистограммы на экран\n",
    "            print('Доля просрочек по кредитам по категориям ', parameter)\n",
    "            bar = sns.barplot(data = parameter_vs_debt, x = parameter_vs_debt.index, y = ('mean', 'debt'))\n",
    "            bar.set(ylabel = 'Доля просрочек по кредитам')\n",
    "            \n",
    "            #Красивые подписи к осям гистограммы. Если будет какой-то новый параметр, то подписи оси х не поменяются \n",
    "            if parameter == 'children':\n",
    "                bar.set(xlabel = 'Количество детей')\n",
    "            elif parameter == 'family_status':\n",
    "                bar.set(xlabel = 'Семейное положение')\n",
    "                bar.set_xticklabels(parameter_vs_debt.index, rotation=10)\n",
    "            elif parameter == 'total_income_category':\n",
    "                bar.set(xlabel = 'Категория дохода')\n",
    "                labels = ['1000001 и выше', '200001–1000000', '50001–200000', '30001–50000', '0–30000']                \n",
    "                bar.set_xticklabels(labels, rotation=10)\n",
    "            elif parameter == 'purpose_category':\n",
    "                bar.set(xlabel = 'Цель кредита')\n",
    "                bar.set_xticklabels(parameter_vs_debt.index, rotation=10)\n",
    "            \n",
    "        else: print('Такой параметр отсутствует в таблице data') \n",
    "    except: print('Ошибка в типе параметра')"
   ]
  },
  {
   "cell_type": "code",
   "execution_count": 93,
   "id": "b3232a56",
   "metadata": {},
   "outputs": [
    {
     "name": "stdout",
     "output_type": "stream",
     "text": [
      "Процент клиентов с задолженностью по кредитам в разрезе значений столбца  children\n",
      "          count   sum      mean\n",
      "           debt  debt      debt\n",
      "children                       \n",
      "5             9     0  0.000000\n",
      "4            41     4  0.097561\n",
      "3           330    27  0.081818\n",
      "2          2052   194  0.094542\n",
      "1          4808   444  0.092346\n",
      "0         14091  1063  0.075438\n",
      "Доля просрочек по кредитам по категориям  children\n"
     ]
    },
    {
     "data": {
      "image/png": "[encoded data removed]",
      "text/plain": [
       "<Figure size 432x288 with 1 Axes>"
      ]
     },
     "metadata": {
      "needs_background": "light"
     },
     "output_type": "display_data"
    }
   ],
   "source": [
    "new_pivot_debt_vs_parameter_barplot('children', 'sum')"
   ]
  },
  {
   "cell_type": "markdown",
   "id": "48f4f6db",
   "metadata": {
    "deletable": false,
    "id": "3a6b99ec"
   },
   "source": [
    "**Вывод:** \n",
    "Гипотеза подтвердилась: чем больше у клиента детей, тем с большей вероятностью клиент может допустить задолженность по кредиту. Параметр можно принять для дальнейшего построения скоринговой модели.\n",
    "\n",
    "На гистограмме отражено увеличение процента клиентов с задолженностью по кредиту в зависимости от увеличения количества детей. Особенно хороша видна зависимость на примере клиентов с 2-мя детьми, 1-м ребенком и без детей. \"Провал\" процента клиентов с задолженностью для клиентов с 3-мя детьми и отсутствие клиентов с задолженностью в группе клиентов с 5-ю детьми объясняется тем, что эти группы малочисленны, и поэтому появление (или отсутствие) каждого нового клиента с задолженностью добавит существенный прирост (убыль) итоговому проценту.\n",
    "\n",
    "Гипотеза также объяснима с точки зрения логики: дети обычно находятся на иждевении у родителей, что создает дополнительную финансовую нагрузку на родителей, которая может привести к задолженности по кредиту."
   ]
  },
  {
   "cell_type": "markdown",
   "id": "fc8e61ef",
   "metadata": {
    "deletable": false,
    "editable": false,
    "id": "97be82ca"
   },
   "source": [
    "#### 3.2 Есть ли зависимость между семейным положением и возвратом кредита в срок?"
   ]
  },
  {
   "cell_type": "code",
   "execution_count": 96,
   "id": "8bb9a002",
   "metadata": {
    "deletable": false,
    "id": "dc3f7ee8"
   },
   "outputs": [
    {
     "name": "stdout",
     "output_type": "stream",
     "text": [
      "Процент клиентов с задолженностью по кредитам в разрезе значений столбца  family_status\n",
      "                       count  sum      mean\n",
      "                        debt debt      debt\n",
      "family_status                              \n",
      "вдовец / вдова           951   63  0.066246\n",
      "в разводе               1189   84  0.070648\n",
      "женат / замужем        12261  927  0.075606\n",
      "гражданский брак        4134  385  0.093130\n",
      "Не женат / не замужем   2796  273  0.097639\n",
      "Доля просрочек по кредитам по категориям  family_status\n"
     ]
    },
    {
     "data": {
      "image/png": "[encoded data removed]",
      "text/plain": [
       "<Figure size 432x288 with 1 Axes>"
      ]
     },
     "metadata": {
      "needs_background": "light"
     },
     "output_type": "display_data"
    }
   ],
   "source": [
    "new_pivot_debt_vs_parameter_barplot('family_status', 'mean') "
   ]
  },
  {
   "cell_type": "markdown",
   "id": "0cae8bff",
   "metadata": {
    "deletable": false,
    "id": "1cef7837"
   },
   "source": [
    "**Вывод:** \n",
    "Требуется дополнительное исследование гипотезы с расширением списка исследуемых параметров.\n",
    "\n",
    "В ходе исследования выявлено, что процент клиентов с задолженностью выше для клиентов, не состоящих в браке или состоящих в гражданском браке. Тем не менее, гипотезу о зависимости вероятности задолженности по кредиту от семейного положения не стоит принимать в работу без дополнительных корректировок, так как с точки зрения логики не удается объяснить данную зависимость не опираясь на прочие параметры, описывающие клиента. Между процентом клиентов с задолженностью и семейным положением может и не быть прямой зависимости, но каждый из этих параметров может зависеть от общего для них третьего параметра.\n",
    "\n",
    "Так, например, более низкий процент клиентов с задолженностью среди людей, состоящих в браке, может объясняться наличием созаемщика (мужа или жены), а низкий процент клиентов задолженностью среди людей в разводе или потерявших супруга может объясняться возрастом, доходом (который также может зависеть от возраста) или совместно нажитым имуществом."
   ]
  },
  {
   "cell_type": "markdown",
   "id": "88cbb59d",
   "metadata": {
    "deletable": false,
    "editable": false,
    "id": "1e8b2fca"
   },
   "source": [
    "#### 3.3 Есть ли зависимость между уровнем дохода и возвратом кредита в срок?"
   ]
  },
  {
   "cell_type": "code",
   "execution_count": 97,
   "id": "08227008",
   "metadata": {
    "deletable": false,
    "id": "cd7e3720"
   },
   "outputs": [
    {
     "name": "stdout",
     "output_type": "stream",
     "text": [
      "Процент клиентов с задолженностью по кредитам в разрезе значений столбца  total_income_category\n",
      "                       count   sum      mean\n",
      "                        debt  debt      debt\n",
      "total_income_category                       \n",
      "A                         25     2  0.080000\n",
      "B                       5014   354  0.070602\n",
      "C                      15921  1353  0.084982\n",
      "D                        349    21  0.060172\n",
      "E                         22     2  0.090909\n",
      "Доля просрочек по кредитам по категориям  total_income_category\n"
     ]
    },
    {
     "data": {
      "image/png": "[encoded data removed]",
      "text/plain": [
       "<Figure size 432x288 with 1 Axes>"
      ]
     },
     "metadata": {
      "needs_background": "light"
     },
     "output_type": "display_data"
    }
   ],
   "source": [
    "new_pivot_debt_vs_parameter_barplot('total_income_category') "
   ]
  },
  {
   "cell_type": "markdown",
   "id": "f890d1ac",
   "metadata": {
    "deletable": false,
    "id": "e8593def"
   },
   "source": [
    "**Вывод:** \n",
    "Гипотеза подтвердилась: чем больше у клиента доход, тем меньше вероятность появления у него задолженности по кредиту.\n",
    "\n",
    "Вывод сделан на основе данных по группам B и C. Клиенты из группы В, обладающие более высоким доходом, допускают меньшую вероятность появления задолженности по кредиту, чем клиенты из группы С. Группы A, D, E являются малочисленными, поэтому на основе расчета по данным группам нельзя сделать полноценный вывод. Тем не менее, малочисленность данных групп объяснима: клиенты с доходом категории \"А\" реже обращаются за кредитом в связи с большим доходом, и в случае обращения могут запрашивать большие суммы. А клиентам категории D или E могут отказывать в кредите\n"
   ]
  },
  {
   "cell_type": "markdown",
   "id": "710adf6a",
   "metadata": {
    "deletable": false,
    "editable": false,
    "id": "99ecbd1f"
   },
   "source": [
    "#### 3.4 Как разные цели кредита влияют на его возврат в срок?"
   ]
  },
  {
   "cell_type": "code",
   "execution_count": 98,
   "id": "7b29b068",
   "metadata": {
    "deletable": false,
    "id": "2b687290"
   },
   "outputs": [
    {
     "name": "stdout",
     "output_type": "stream",
     "text": [
      "Процент клиентов с задолженностью по кредитам в разрезе значений столбца  purpose_category\n",
      "                          count  sum      mean\n",
      "                           debt debt      debt\n",
      "purpose_category                              \n",
      "проведение свадьбы         2313  183  0.079118\n",
      "получение образования      3988  369  0.092528\n",
      "операции с автомобилем     4279  400  0.093480\n",
      "операции с недвижимостью  10751  780  0.072551\n",
      "Доля просрочек по кредитам по категориям  purpose_category\n"
     ]
    },
    {
     "data": {
      "image/png": "[encoded data removed]",
      "text/plain": [
       "<Figure size 432x288 with 1 Axes>"
      ]
     },
     "metadata": {
      "needs_background": "light"
     },
     "output_type": "display_data"
    }
   ],
   "source": [
    "new_pivot_debt_vs_parameter_barplot('purpose_category', 'count') "
   ]
  },
  {
   "cell_type": "markdown",
   "id": "df6a9d4e",
   "metadata": {
    "deletable": false,
    "id": "b4bb2ce6"
   },
   "source": [
    "**Вывод:** \n",
    "Требуется дополнительное исследование гипотезы с расширением списка исследуемых параметров. Тем не менее, параметр \"цель кредита\" можно выделять как один из параметров будущей скоринговой модели, в который будут сгруппированы другие параметры (возраст, доход, сумма кредита и т.д.), на основе которых будет рассчитываться вероятность возврата кредита в срок.\n",
    "\n",
    "На гистограмме видно, что процент по задолженности ниже для кредитов с целью \"проведение свадьбы\" и \"операции с недвижимостью\", но это может объясняться не столько целью, сколько с вероятным наличием второго созаемщика, который может помощь заемщику в случае, если он не сможет оплатить кредит. Также, в случае проведения свадьбы, на низкую вероятность задолженности по кредиту может влиять относительно небольшая величина долга. \n",
    "\n",
    "Высокий процент задолженности по кредиту с целью получения образования может быть связан с молодым возрастом заемщика и связанным с этим низким доходом."
   ]
  },
  {
   "cell_type": "markdown",
   "id": "21b54d52",
   "metadata": {
    "deletable": false,
    "editable": false,
    "id": "09c3ac4c"
   },
   "source": [
    "#### 3.5 Приведите возможные причины появления пропусков в исходных данных."
   ]
  },
  {
   "cell_type": "markdown",
   "id": "b2ca16fe",
   "metadata": {
    "deletable": false,
    "id": "9da2ceda"
   },
   "source": [
    "*Ответ:* \n",
    "\n",
    "В исходных данных присутствовали пропуски в данных по количеству дней трудового стажа и среднему доходу. Существуют следующие возможные причины пропусков в исходных данных:\n",
    "1. Отсутствие данных о трудовом стаже для групп \"безработный\" и \"пенсионер\". \n",
    "2. Отказ клиентов в предоставлении соответствующей информации.\n",
    "3. Отсутствие соответствующих полей для ввода в форме заявки на выдачу кредита.\n",
    "4. Ошибка выгрузки, в связи с чем данные могли быть недовыгружены, или в выгрузку могли попасть клиенты, которые не брали кредит (по клиентам с депозитами обычно запрашивается меньшее количество информации).\n",
    "5. Ошибка разработчиков - они могли написать метод, который затер данные.\n",
    "6. Клиент мог уже закрыть кредит, в связи с чем у банка через какое-то время, предусмотренное в соглашении, могло пропасть право на обработку персональных данных о трудовом стаже. Либо клиент сам мог отозвать право на обработку ПДн.\n",
    "7. Кредит, например образовательный, мог оформить ребенок до 16 лет. Он еще не может быть признан безработным, и ему еще не была заведена трудовая книжка.\n",
    "\n"
   ]
  },
  {
   "cell_type": "markdown",
   "id": "63a62908",
   "metadata": {
    "deletable": false,
    "editable": false,
    "id": "7b0487d6"
   },
   "source": [
    "#### 3.6 Объясните, почему заполнить пропуски медианным значением — лучшее решение для количественных переменных."
   ]
  },
  {
   "cell_type": "markdown",
   "id": "5e5aa1a1",
   "metadata": {
    "deletable": false,
    "id": "7ecf2b8e"
   },
   "source": [
    "*Ответ:* \n",
    "\n",
    "Использование медианы идеально для данных, которые описываются нормальным распределением, так как медиана будет отражать среднее значение без учета выбросов.\n",
    "\n",
    "Докажем преимущества медианы на примере недостатков альтернативных случаев:\n",
    "\n",
    "1. Игнорирование пропущенных значений. Если не заполнить пропуски данными, то это может исказить общую статистику, так как количественные переменные будут не учтены в результате, а качественные - учтены. \n",
    "2. Удаление строк с пропущенными значениями. Тоже вызовет искажение общей статистики, так как исключение качественных переменных  может вызвать некорректное восприятие о численности их категорий.\n",
    "3. Заполнение пропусков средними значениями. Может быть хорошим вариантом, но при наличии выбросов в данных (слишком больших или слишком маленьких значений) приведет к искаженному результату.\n",
    "4. Использование статистических методов. Может выдавать более корректных результат, но при этом потребовать больше времени для обработки\n"
   ]
  },
  {
   "cell_type": "markdown",
   "id": "23bf3755",
   "metadata": {
    "deletable": false,
    "editable": false,
    "id": "6db5255a"
   },
   "source": [
    "### Шаг 4: общий вывод."
   ]
  },
  {
   "cell_type": "markdown",
   "id": "01e51a3b",
   "metadata": {
    "deletable": false,
    "id": "bad65432"
   },
   "source": [
    "По результатам исследования надежности заемщиков было выявлено, что для построения скоринговой модели можно использовать данные о количестве детей и данные о доходе заемщика. Данные о цели кредита можно использовать как один из параметров будущей скоринговой модели, в который будут сгруппированы другие параметры (возраст, доход, сумма кредита и т.д.), на основе которых будет рассчитываться вероятность возврата кредита в срок. Параметр \"семейное положение\" не имеет прямого влияния на возврат кредита в срок."
   ]
  }
 ],
 "metadata": {
  "ExecuteTimeLog": [
   {
    "duration": 83,
    "start_time": "2022-11-23T21:10:05.815Z"
   },
   {
    "duration": 60,
    "start_time": "2022-11-23T21:10:20.402Z"
   },
   {
    "duration": 46,
    "start_time": "2022-11-23T21:10:56.076Z"
   },
   {
    "duration": 606,
    "start_time": "2022-11-23T21:11:19.762Z"
   },
   {
    "duration": 23,
    "start_time": "2022-11-23T21:11:20.370Z"
   },
   {
    "duration": 16,
    "start_time": "2022-11-23T21:11:20.395Z"
   },
   {
    "duration": 9,
    "start_time": "2022-11-23T21:11:20.414Z"
   },
   {
    "duration": 53,
    "start_time": "2022-11-23T21:11:20.425Z"
   },
   {
    "duration": 3,
    "start_time": "2022-11-23T21:11:20.481Z"
   },
   {
    "duration": 27,
    "start_time": "2022-11-23T21:11:20.486Z"
   },
   {
    "duration": 11,
    "start_time": "2022-11-23T21:11:20.515Z"
   },
   {
    "duration": 12,
    "start_time": "2022-11-23T21:11:20.528Z"
   },
   {
    "duration": 10,
    "start_time": "2022-11-23T21:11:20.542Z"
   },
   {
    "duration": 67,
    "start_time": "2022-11-23T21:11:20.554Z"
   },
   {
    "duration": 11,
    "start_time": "2022-11-23T21:11:20.623Z"
   },
   {
    "duration": 31,
    "start_time": "2022-11-23T21:11:20.636Z"
   },
   {
    "duration": 24,
    "start_time": "2022-11-23T21:11:20.669Z"
   },
   {
    "duration": 20,
    "start_time": "2022-11-23T21:11:20.695Z"
   },
   {
    "duration": 24,
    "start_time": "2022-11-23T21:11:20.717Z"
   },
   {
    "duration": 3,
    "start_time": "2022-11-23T21:11:20.743Z"
   },
   {
    "duration": 31,
    "start_time": "2022-11-23T21:11:20.748Z"
   },
   {
    "duration": 7,
    "start_time": "2022-11-23T21:11:20.782Z"
   },
   {
    "duration": 5,
    "start_time": "2022-11-23T21:11:20.791Z"
   },
   {
    "duration": 20,
    "start_time": "2022-11-23T21:11:20.798Z"
   },
   {
    "duration": 11,
    "start_time": "2022-11-23T21:11:20.820Z"
   },
   {
    "duration": 6,
    "start_time": "2022-11-23T21:11:20.833Z"
   },
   {
    "duration": 5,
    "start_time": "2022-11-23T21:11:20.841Z"
   },
   {
    "duration": 29,
    "start_time": "2022-11-23T21:11:20.847Z"
   },
   {
    "duration": 5,
    "start_time": "2022-11-23T21:12:11.318Z"
   },
   {
    "duration": 7,
    "start_time": "2022-11-23T21:15:35.458Z"
   },
   {
    "duration": 6,
    "start_time": "2022-11-23T21:22:28.885Z"
   },
   {
    "duration": 46,
    "start_time": "2022-11-23T21:23:04.185Z"
   },
   {
    "duration": 12,
    "start_time": "2022-11-23T21:23:50.912Z"
   },
   {
    "duration": 13,
    "start_time": "2022-11-23T21:29:04.141Z"
   },
   {
    "duration": 108,
    "start_time": "2022-11-23T21:30:02.749Z"
   },
   {
    "duration": 236,
    "start_time": "2022-11-23T21:30:27.687Z"
   },
   {
    "duration": 15,
    "start_time": "2022-11-23T21:30:33.613Z"
   },
   {
    "duration": 195,
    "start_time": "2022-11-23T21:33:58.754Z"
   },
   {
    "duration": 51,
    "start_time": "2022-11-23T21:36:48.214Z"
   },
   {
    "duration": 570,
    "start_time": "2022-11-23T21:36:54.867Z"
   },
   {
    "duration": 512,
    "start_time": "2022-11-23T21:37:37.265Z"
   },
   {
    "duration": 582,
    "start_time": "2022-11-23T21:40:10.676Z"
   },
   {
    "duration": 21,
    "start_time": "2022-11-23T21:41:08.000Z"
   },
   {
    "duration": 9,
    "start_time": "2022-11-23T21:41:17.255Z"
   },
   {
    "duration": 8,
    "start_time": "2022-11-23T21:41:46.691Z"
   },
   {
    "duration": 6,
    "start_time": "2022-11-23T21:44:44.989Z"
   },
   {
    "duration": 9,
    "start_time": "2022-11-23T21:44:59.972Z"
   },
   {
    "duration": 8,
    "start_time": "2022-11-23T21:48:18.470Z"
   },
   {
    "duration": 53,
    "start_time": "2022-11-23T21:51:32.142Z"
   },
   {
    "duration": 9,
    "start_time": "2022-11-23T21:52:05.794Z"
   },
   {
    "duration": 63,
    "start_time": "2022-11-23T21:56:56.408Z"
   },
   {
    "duration": 64,
    "start_time": "2022-11-23T21:57:08.767Z"
   },
   {
    "duration": 48,
    "start_time": "2022-11-23T21:57:32.094Z"
   },
   {
    "duration": 57,
    "start_time": "2022-11-23T21:58:09.448Z"
   },
   {
    "duration": 17,
    "start_time": "2022-11-23T21:58:42.755Z"
   },
   {
    "duration": 9,
    "start_time": "2022-11-23T21:58:50.941Z"
   },
   {
    "duration": 22,
    "start_time": "2022-11-23T21:59:56.437Z"
   },
   {
    "duration": 61,
    "start_time": "2022-11-23T22:02:18.692Z"
   },
   {
    "duration": 31,
    "start_time": "2022-11-23T22:02:39.233Z"
   },
   {
    "duration": 20,
    "start_time": "2022-11-23T22:02:48.908Z"
   },
   {
    "duration": 14,
    "start_time": "2022-11-23T22:04:10.441Z"
   },
   {
    "duration": 27,
    "start_time": "2022-11-23T22:05:54.939Z"
   },
   {
    "duration": 28,
    "start_time": "2022-11-23T22:06:52.609Z"
   },
   {
    "duration": 140,
    "start_time": "2022-11-23T22:14:06.417Z"
   },
   {
    "duration": 146,
    "start_time": "2022-11-23T22:16:37.497Z"
   },
   {
    "duration": 148,
    "start_time": "2022-11-23T22:17:49.415Z"
   },
   {
    "duration": 553,
    "start_time": "2022-11-23T22:19:40.124Z"
   },
   {
    "duration": 150,
    "start_time": "2022-11-23T22:19:55.969Z"
   },
   {
    "duration": 135,
    "start_time": "2022-11-23T22:23:16.295Z"
   },
   {
    "duration": 146,
    "start_time": "2022-11-23T22:23:42.561Z"
   },
   {
    "duration": 151,
    "start_time": "2022-11-23T22:26:30.086Z"
   },
   {
    "duration": 230,
    "start_time": "2022-11-23T22:30:40.784Z"
   },
   {
    "duration": 736,
    "start_time": "2022-11-23T22:36:14.026Z"
   },
   {
    "duration": 167,
    "start_time": "2022-11-23T22:37:10.855Z"
   },
   {
    "duration": 174,
    "start_time": "2022-11-23T22:37:55.095Z"
   },
   {
    "duration": 42,
    "start_time": "2022-11-24T21:09:57.852Z"
   },
   {
    "duration": 5,
    "start_time": "2022-11-24T21:10:13.140Z"
   },
   {
    "duration": 672,
    "start_time": "2022-11-24T21:10:20.260Z"
   },
   {
    "duration": 20,
    "start_time": "2022-11-24T21:10:20.934Z"
   },
   {
    "duration": 14,
    "start_time": "2022-11-24T21:10:20.956Z"
   },
   {
    "duration": 11,
    "start_time": "2022-11-24T21:10:20.971Z"
   },
   {
    "duration": 39,
    "start_time": "2022-11-24T21:10:20.984Z"
   },
   {
    "duration": 3,
    "start_time": "2022-11-24T21:10:21.025Z"
   },
   {
    "duration": 10,
    "start_time": "2022-11-24T21:10:21.029Z"
   },
   {
    "duration": 4,
    "start_time": "2022-11-24T21:10:21.041Z"
   },
   {
    "duration": 7,
    "start_time": "2022-11-24T21:10:21.046Z"
   },
   {
    "duration": 5,
    "start_time": "2022-11-24T21:10:21.055Z"
   },
   {
    "duration": 36,
    "start_time": "2022-11-24T21:10:21.061Z"
   },
   {
    "duration": 31,
    "start_time": "2022-11-24T21:10:21.098Z"
   },
   {
    "duration": 6,
    "start_time": "2022-11-24T21:10:21.130Z"
   },
   {
    "duration": 13,
    "start_time": "2022-11-24T21:10:21.138Z"
   },
   {
    "duration": 20,
    "start_time": "2022-11-24T21:10:21.152Z"
   },
   {
    "duration": 14,
    "start_time": "2022-11-24T21:10:21.173Z"
   },
   {
    "duration": 4,
    "start_time": "2022-11-24T21:10:21.188Z"
   },
   {
    "duration": 28,
    "start_time": "2022-11-24T21:10:21.194Z"
   },
   {
    "duration": 5,
    "start_time": "2022-11-24T21:10:21.223Z"
   },
   {
    "duration": 3,
    "start_time": "2022-11-24T21:10:21.230Z"
   },
   {
    "duration": 14,
    "start_time": "2022-11-24T21:10:21.234Z"
   },
   {
    "duration": 5,
    "start_time": "2022-11-24T21:10:21.249Z"
   },
   {
    "duration": 10,
    "start_time": "2022-11-24T21:10:21.255Z"
   },
   {
    "duration": 1026,
    "start_time": "2022-11-24T21:10:21.266Z"
   },
   {
    "duration": 181,
    "start_time": "2022-11-24T21:10:22.294Z"
   },
   {
    "duration": 3,
    "start_time": "2022-11-24T21:10:22.476Z"
   },
   {
    "duration": 14,
    "start_time": "2022-11-24T21:10:22.480Z"
   },
   {
    "duration": 3,
    "start_time": "2022-11-24T21:12:35.721Z"
   },
   {
    "duration": 6,
    "start_time": "2022-11-24T21:13:13.337Z"
   },
   {
    "duration": 4,
    "start_time": "2022-11-24T21:13:31.417Z"
   },
   {
    "duration": 3,
    "start_time": "2022-11-24T21:13:41.207Z"
   },
   {
    "duration": 3,
    "start_time": "2022-11-24T21:14:05.095Z"
   },
   {
    "duration": 9,
    "start_time": "2022-11-24T21:16:27.651Z"
   },
   {
    "duration": 27,
    "start_time": "2022-11-24T21:21:28.089Z"
   },
   {
    "duration": 135,
    "start_time": "2022-11-24T21:24:40.524Z"
   },
   {
    "duration": 129,
    "start_time": "2022-11-24T21:38:40.353Z"
   },
   {
    "duration": 196,
    "start_time": "2022-11-24T21:39:35.345Z"
   },
   {
    "duration": 7,
    "start_time": "2022-11-24T21:39:41.460Z"
   },
   {
    "duration": 138,
    "start_time": "2022-11-24T21:39:43.633Z"
   },
   {
    "duration": 152,
    "start_time": "2022-11-24T21:40:56.323Z"
   },
   {
    "duration": 125,
    "start_time": "2022-11-24T21:58:06.541Z"
   },
   {
    "duration": 5,
    "start_time": "2022-11-24T21:59:54.495Z"
   },
   {
    "duration": 6,
    "start_time": "2022-11-24T22:10:18.700Z"
   },
   {
    "duration": 124,
    "start_time": "2022-11-24T22:10:20.713Z"
   },
   {
    "duration": 6,
    "start_time": "2022-11-24T22:10:32.738Z"
   },
   {
    "duration": 133,
    "start_time": "2022-11-24T22:10:35.376Z"
   },
   {
    "duration": 150,
    "start_time": "2022-11-24T22:11:47.376Z"
   },
   {
    "duration": 149,
    "start_time": "2022-11-24T22:15:30.412Z"
   },
   {
    "duration": 133,
    "start_time": "2022-11-24T22:16:55.067Z"
   },
   {
    "duration": 138,
    "start_time": "2022-11-24T22:19:09.479Z"
   },
   {
    "duration": 47,
    "start_time": "2022-11-24T22:20:52.167Z"
   },
   {
    "duration": 7,
    "start_time": "2022-11-24T22:21:02.062Z"
   },
   {
    "duration": 131,
    "start_time": "2022-11-24T22:21:04.292Z"
   },
   {
    "duration": 147,
    "start_time": "2022-11-24T22:21:11.187Z"
   },
   {
    "duration": 136,
    "start_time": "2022-11-24T22:21:18.233Z"
   },
   {
    "duration": 141,
    "start_time": "2022-11-24T22:21:24.996Z"
   },
   {
    "duration": 48,
    "start_time": "2022-11-26T10:50:15.432Z"
   },
   {
    "duration": 7,
    "start_time": "2022-11-26T10:54:11.832Z"
   },
   {
    "duration": 513,
    "start_time": "2022-11-26T10:54:26.684Z"
   },
   {
    "duration": 31,
    "start_time": "2022-11-26T10:54:27.199Z"
   },
   {
    "duration": 16,
    "start_time": "2022-11-26T10:54:27.232Z"
   },
   {
    "duration": 18,
    "start_time": "2022-11-26T10:54:27.251Z"
   },
   {
    "duration": 43,
    "start_time": "2022-11-26T10:54:27.271Z"
   },
   {
    "duration": 4,
    "start_time": "2022-11-26T10:54:27.315Z"
   },
   {
    "duration": 31,
    "start_time": "2022-11-26T10:54:27.322Z"
   },
   {
    "duration": 16,
    "start_time": "2022-11-26T10:54:27.356Z"
   },
   {
    "duration": 35,
    "start_time": "2022-11-26T10:54:27.374Z"
   },
   {
    "duration": 16,
    "start_time": "2022-11-26T10:54:27.414Z"
   },
   {
    "duration": 68,
    "start_time": "2022-11-26T10:54:27.433Z"
   },
   {
    "duration": 11,
    "start_time": "2022-11-26T10:54:27.503Z"
   },
   {
    "duration": 25,
    "start_time": "2022-11-26T10:54:27.516Z"
   },
   {
    "duration": 35,
    "start_time": "2022-11-26T10:54:27.543Z"
   },
   {
    "duration": 39,
    "start_time": "2022-11-26T10:54:27.580Z"
   },
   {
    "duration": 28,
    "start_time": "2022-11-26T10:54:27.621Z"
   },
   {
    "duration": 5,
    "start_time": "2022-11-26T10:54:27.651Z"
   },
   {
    "duration": 27,
    "start_time": "2022-11-26T10:54:27.658Z"
   },
   {
    "duration": 16,
    "start_time": "2022-11-26T10:54:27.687Z"
   },
   {
    "duration": 16,
    "start_time": "2022-11-26T10:54:27.705Z"
   },
   {
    "duration": 28,
    "start_time": "2022-11-26T10:54:27.723Z"
   },
   {
    "duration": 11,
    "start_time": "2022-11-26T10:54:27.753Z"
   },
   {
    "duration": 995,
    "start_time": "2022-11-26T10:54:27.767Z"
   },
   {
    "duration": 213,
    "start_time": "2022-11-26T10:54:28.764Z"
   },
   {
    "duration": 233,
    "start_time": "2022-11-26T10:54:28.982Z"
   },
   {
    "duration": 182,
    "start_time": "2022-11-26T10:54:29.217Z"
   },
   {
    "duration": 191,
    "start_time": "2022-11-26T10:54:29.401Z"
   },
   {
    "duration": 7,
    "start_time": "2022-11-26T11:01:16.507Z"
   },
   {
    "duration": 156,
    "start_time": "2022-11-26T11:01:18.656Z"
   },
   {
    "duration": 79,
    "start_time": "2022-11-26T12:45:34.042Z"
   },
   {
    "duration": 18,
    "start_time": "2022-11-26T12:45:34.124Z"
   },
   {
    "duration": 34,
    "start_time": "2022-11-26T12:45:34.145Z"
   },
   {
    "duration": 15,
    "start_time": "2022-11-26T12:45:34.182Z"
   },
   {
    "duration": 68,
    "start_time": "2022-11-26T12:45:34.200Z"
   },
   {
    "duration": 3,
    "start_time": "2022-11-26T12:45:34.270Z"
   },
   {
    "duration": 11,
    "start_time": "2022-11-26T12:45:34.274Z"
   },
   {
    "duration": 4,
    "start_time": "2022-11-26T12:45:34.286Z"
   },
   {
    "duration": 7,
    "start_time": "2022-11-26T12:45:34.292Z"
   },
   {
    "duration": 4,
    "start_time": "2022-11-26T12:45:34.302Z"
   },
   {
    "duration": 58,
    "start_time": "2022-11-26T12:45:34.307Z"
   },
   {
    "duration": 10,
    "start_time": "2022-11-26T12:45:34.366Z"
   },
   {
    "duration": 4,
    "start_time": "2022-11-26T12:45:34.377Z"
   },
   {
    "duration": 11,
    "start_time": "2022-11-26T12:45:34.383Z"
   },
   {
    "duration": 46,
    "start_time": "2022-11-26T12:45:34.396Z"
   },
   {
    "duration": 18,
    "start_time": "2022-11-26T12:45:34.444Z"
   },
   {
    "duration": 4,
    "start_time": "2022-11-26T12:45:34.463Z"
   },
   {
    "duration": 12,
    "start_time": "2022-11-26T12:45:34.468Z"
   },
   {
    "duration": 6,
    "start_time": "2022-11-26T12:45:34.481Z"
   },
   {
    "duration": 3,
    "start_time": "2022-11-26T12:45:34.488Z"
   },
   {
    "duration": 13,
    "start_time": "2022-11-26T12:45:34.493Z"
   },
   {
    "duration": 2,
    "start_time": "2022-11-26T12:45:34.537Z"
   },
   {
    "duration": 7,
    "start_time": "2022-11-26T12:45:34.541Z"
   },
   {
    "duration": 149,
    "start_time": "2022-11-26T12:45:34.550Z"
   },
   {
    "duration": 167,
    "start_time": "2022-11-26T12:45:34.701Z"
   },
   {
    "duration": 243,
    "start_time": "2022-11-26T12:45:34.870Z"
   },
   {
    "duration": 153,
    "start_time": "2022-11-26T12:45:35.115Z"
   },
   {
    "duration": 71,
    "start_time": "2022-11-26T12:46:07.699Z"
   },
   {
    "duration": 15,
    "start_time": "2022-11-26T12:46:07.772Z"
   },
   {
    "duration": 17,
    "start_time": "2022-11-26T12:46:07.789Z"
   },
   {
    "duration": 9,
    "start_time": "2022-11-26T12:46:07.808Z"
   },
   {
    "duration": 34,
    "start_time": "2022-11-26T12:46:07.840Z"
   },
   {
    "duration": 3,
    "start_time": "2022-11-26T12:46:07.876Z"
   },
   {
    "duration": 11,
    "start_time": "2022-11-26T12:46:07.881Z"
   },
   {
    "duration": 4,
    "start_time": "2022-11-26T12:46:07.894Z"
   },
   {
    "duration": 40,
    "start_time": "2022-11-26T12:46:07.900Z"
   },
   {
    "duration": 5,
    "start_time": "2022-11-26T12:46:07.943Z"
   },
   {
    "duration": 38,
    "start_time": "2022-11-26T12:46:07.950Z"
   },
   {
    "duration": 12,
    "start_time": "2022-11-26T12:46:07.989Z"
   },
   {
    "duration": 5,
    "start_time": "2022-11-26T12:46:08.002Z"
   },
   {
    "duration": 35,
    "start_time": "2022-11-26T12:46:08.008Z"
   },
   {
    "duration": 38,
    "start_time": "2022-11-26T12:46:08.045Z"
   },
   {
    "duration": 19,
    "start_time": "2022-11-26T12:46:08.084Z"
   },
   {
    "duration": 3,
    "start_time": "2022-11-26T12:46:08.105Z"
   },
   {
    "duration": 13,
    "start_time": "2022-11-26T12:46:08.110Z"
   },
   {
    "duration": 13,
    "start_time": "2022-11-26T12:46:08.125Z"
   },
   {
    "duration": 4,
    "start_time": "2022-11-26T12:46:08.140Z"
   },
   {
    "duration": 13,
    "start_time": "2022-11-26T12:46:08.146Z"
   },
   {
    "duration": 5,
    "start_time": "2022-11-26T12:46:08.161Z"
   },
   {
    "duration": 8,
    "start_time": "2022-11-26T12:46:08.168Z"
   },
   {
    "duration": 160,
    "start_time": "2022-11-26T12:46:08.177Z"
   },
   {
    "duration": 168,
    "start_time": "2022-11-26T12:46:08.339Z"
   },
   {
    "duration": 156,
    "start_time": "2022-11-26T12:46:08.509Z"
   },
   {
    "duration": 159,
    "start_time": "2022-11-26T12:46:08.666Z"
   },
   {
    "duration": 4,
    "start_time": "2022-11-26T12:50:27.645Z"
   },
   {
    "duration": 9,
    "start_time": "2022-11-26T12:50:53.836Z"
   },
   {
    "duration": 73,
    "start_time": "2022-11-26T12:52:31.486Z"
   },
   {
    "duration": 16,
    "start_time": "2022-11-26T12:52:31.561Z"
   },
   {
    "duration": 16,
    "start_time": "2022-11-26T12:52:31.579Z"
   },
   {
    "duration": 10,
    "start_time": "2022-11-26T12:52:31.598Z"
   },
   {
    "duration": 60,
    "start_time": "2022-11-26T12:52:31.610Z"
   },
   {
    "duration": 3,
    "start_time": "2022-11-26T12:52:31.672Z"
   },
   {
    "duration": 10,
    "start_time": "2022-11-26T12:52:31.676Z"
   },
   {
    "duration": 4,
    "start_time": "2022-11-26T12:52:31.688Z"
   },
   {
    "duration": 6,
    "start_time": "2022-11-26T12:52:31.694Z"
   },
   {
    "duration": 4,
    "start_time": "2022-11-26T12:52:31.703Z"
   },
   {
    "duration": 62,
    "start_time": "2022-11-26T12:52:31.709Z"
   },
   {
    "duration": 10,
    "start_time": "2022-11-26T12:52:31.773Z"
   },
   {
    "duration": 22,
    "start_time": "2022-11-26T12:52:31.785Z"
   },
   {
    "duration": 29,
    "start_time": "2022-11-26T12:52:31.810Z"
   },
   {
    "duration": 39,
    "start_time": "2022-11-26T12:52:31.841Z"
   },
   {
    "duration": 28,
    "start_time": "2022-11-26T12:52:31.882Z"
   },
   {
    "duration": 4,
    "start_time": "2022-11-26T12:52:31.912Z"
   },
   {
    "duration": 20,
    "start_time": "2022-11-26T12:52:31.918Z"
   },
   {
    "duration": 14,
    "start_time": "2022-11-26T12:52:31.939Z"
   },
   {
    "duration": 21,
    "start_time": "2022-11-26T12:52:31.954Z"
   },
   {
    "duration": 33,
    "start_time": "2022-11-26T12:52:31.976Z"
   },
   {
    "duration": 16,
    "start_time": "2022-11-26T12:52:32.010Z"
   },
   {
    "duration": 8,
    "start_time": "2022-11-26T12:52:32.028Z"
   },
   {
    "duration": 17,
    "start_time": "2022-11-26T12:52:32.038Z"
   },
   {
    "duration": 145,
    "start_time": "2022-11-26T12:52:32.057Z"
   },
   {
    "duration": 167,
    "start_time": "2022-11-26T12:52:32.204Z"
   },
   {
    "duration": 159,
    "start_time": "2022-11-26T12:52:32.372Z"
   },
   {
    "duration": 147,
    "start_time": "2022-11-26T12:52:32.538Z"
   },
   {
    "duration": 47,
    "start_time": "2022-11-28T21:24:43.229Z"
   },
   {
    "duration": 8,
    "start_time": "2022-11-28T21:25:03.392Z"
   },
   {
    "duration": 7,
    "start_time": "2022-11-28T21:25:32.451Z"
   },
   {
    "duration": 8,
    "start_time": "2022-11-28T21:25:55.113Z"
   },
   {
    "duration": 9,
    "start_time": "2022-11-28T21:26:35.930Z"
   },
   {
    "duration": 8,
    "start_time": "2022-11-28T21:26:58.422Z"
   },
   {
    "duration": 8,
    "start_time": "2022-11-28T21:27:20.326Z"
   },
   {
    "duration": 7,
    "start_time": "2022-11-28T21:29:01.035Z"
   },
   {
    "duration": 715,
    "start_time": "2022-11-28T21:29:07.639Z"
   },
   {
    "duration": 22,
    "start_time": "2022-11-28T21:29:08.356Z"
   },
   {
    "duration": 15,
    "start_time": "2022-11-28T21:29:08.380Z"
   },
   {
    "duration": 9,
    "start_time": "2022-11-28T21:29:08.397Z"
   },
   {
    "duration": 32,
    "start_time": "2022-11-28T21:29:08.407Z"
   },
   {
    "duration": 4,
    "start_time": "2022-11-28T21:29:08.440Z"
   },
   {
    "duration": 10,
    "start_time": "2022-11-28T21:29:08.445Z"
   },
   {
    "duration": 5,
    "start_time": "2022-11-28T21:29:08.457Z"
   },
   {
    "duration": 9,
    "start_time": "2022-11-28T21:29:08.464Z"
   },
   {
    "duration": 4,
    "start_time": "2022-11-28T21:29:08.475Z"
   },
   {
    "duration": 58,
    "start_time": "2022-11-28T21:29:08.481Z"
   },
   {
    "duration": 9,
    "start_time": "2022-11-28T21:29:08.540Z"
   },
   {
    "duration": 5,
    "start_time": "2022-11-28T21:29:08.550Z"
   },
   {
    "duration": 11,
    "start_time": "2022-11-28T21:29:08.557Z"
   },
   {
    "duration": 43,
    "start_time": "2022-11-28T21:29:08.570Z"
   },
   {
    "duration": 17,
    "start_time": "2022-11-28T21:29:08.614Z"
   },
   {
    "duration": 4,
    "start_time": "2022-11-28T21:29:08.633Z"
   },
   {
    "duration": 12,
    "start_time": "2022-11-28T21:29:08.638Z"
   },
   {
    "duration": 5,
    "start_time": "2022-11-28T21:29:08.652Z"
   },
   {
    "duration": 4,
    "start_time": "2022-11-28T21:29:08.658Z"
   },
   {
    "duration": 19,
    "start_time": "2022-11-28T21:29:08.664Z"
   },
   {
    "duration": 2,
    "start_time": "2022-11-28T21:29:08.684Z"
   },
   {
    "duration": 960,
    "start_time": "2022-11-28T21:29:08.712Z"
   },
   {
    "duration": 13,
    "start_time": "2022-11-28T21:29:09.674Z"
   },
   {
    "duration": 8,
    "start_time": "2022-11-28T21:29:09.689Z"
   },
   {
    "duration": 166,
    "start_time": "2022-11-28T21:29:09.713Z"
   },
   {
    "duration": 175,
    "start_time": "2022-11-28T21:29:09.880Z"
   },
   {
    "duration": 159,
    "start_time": "2022-11-28T21:29:10.057Z"
   },
   {
    "duration": 155,
    "start_time": "2022-11-28T21:29:10.218Z"
   },
   {
    "duration": 13,
    "start_time": "2022-11-28T21:40:49.244Z"
   },
   {
    "duration": 74,
    "start_time": "2022-11-28T21:41:39.042Z"
   },
   {
    "duration": 146,
    "start_time": "2022-11-28T21:42:04.251Z"
   },
   {
    "duration": 4,
    "start_time": "2022-11-28T21:45:55.483Z"
   },
   {
    "duration": 5,
    "start_time": "2022-11-28T21:49:00.048Z"
   },
   {
    "duration": 113,
    "start_time": "2022-11-28T21:49:37.543Z"
   },
   {
    "duration": 5,
    "start_time": "2022-11-28T21:50:44.848Z"
   },
   {
    "duration": 113,
    "start_time": "2022-11-28T21:50:55.032Z"
   },
   {
    "duration": 5,
    "start_time": "2022-11-28T21:52:59.728Z"
   },
   {
    "duration": 208,
    "start_time": "2022-11-28T21:53:23.261Z"
   },
   {
    "duration": 6,
    "start_time": "2022-11-28T22:01:45.668Z"
   },
   {
    "duration": 118,
    "start_time": "2022-11-28T22:01:47.918Z"
   },
   {
    "duration": 44,
    "start_time": "2022-11-28T22:10:54.365Z"
   },
   {
    "duration": 5,
    "start_time": "2022-11-28T22:11:02.510Z"
   },
   {
    "duration": 3,
    "start_time": "2022-11-28T22:11:05.608Z"
   },
   {
    "duration": 47,
    "start_time": "2022-11-29T20:51:09.175Z"
   },
   {
    "duration": 456,
    "start_time": "2022-11-29T20:51:16.636Z"
   },
   {
    "duration": 21,
    "start_time": "2022-11-29T20:51:17.093Z"
   },
   {
    "duration": 15,
    "start_time": "2022-11-29T20:51:17.115Z"
   },
   {
    "duration": 12,
    "start_time": "2022-11-29T20:51:17.132Z"
   },
   {
    "duration": 40,
    "start_time": "2022-11-29T20:51:17.145Z"
   },
   {
    "duration": 3,
    "start_time": "2022-11-29T20:51:17.187Z"
   },
   {
    "duration": 54,
    "start_time": "2022-11-29T20:51:17.192Z"
   },
   {
    "duration": 21,
    "start_time": "2022-11-29T20:51:17.247Z"
   },
   {
    "duration": 23,
    "start_time": "2022-11-29T20:51:17.269Z"
   },
   {
    "duration": 33,
    "start_time": "2022-11-29T20:51:17.295Z"
   },
   {
    "duration": 42,
    "start_time": "2022-11-29T20:51:17.330Z"
   },
   {
    "duration": 8,
    "start_time": "2022-11-29T20:51:17.374Z"
   },
   {
    "duration": 14,
    "start_time": "2022-11-29T20:51:17.384Z"
   },
   {
    "duration": 48,
    "start_time": "2022-11-29T20:51:17.400Z"
   },
   {
    "duration": 40,
    "start_time": "2022-11-29T20:51:17.449Z"
   },
   {
    "duration": 34,
    "start_time": "2022-11-29T20:51:17.491Z"
   },
   {
    "duration": 9,
    "start_time": "2022-11-29T20:51:17.527Z"
   },
   {
    "duration": 28,
    "start_time": "2022-11-29T20:51:17.538Z"
   },
   {
    "duration": 35,
    "start_time": "2022-11-29T20:51:17.567Z"
   },
   {
    "duration": 3,
    "start_time": "2022-11-29T20:51:17.604Z"
   },
   {
    "duration": 27,
    "start_time": "2022-11-29T20:51:17.608Z"
   },
   {
    "duration": 28,
    "start_time": "2022-11-29T20:51:17.637Z"
   },
   {
    "duration": 896,
    "start_time": "2022-11-29T20:51:17.667Z"
   },
   {
    "duration": 14,
    "start_time": "2022-11-29T20:51:18.564Z"
   },
   {
    "duration": 5,
    "start_time": "2022-11-29T20:51:18.580Z"
   },
   {
    "duration": 137,
    "start_time": "2022-11-29T20:51:18.587Z"
   },
   {
    "duration": 5,
    "start_time": "2022-11-29T20:51:18.725Z"
   },
   {
    "duration": 76,
    "start_time": "2022-11-29T20:51:18.733Z"
   },
   {
    "duration": 0,
    "start_time": "2022-11-29T20:51:18.810Z"
   },
   {
    "duration": 0,
    "start_time": "2022-11-29T20:51:18.812Z"
   },
   {
    "duration": 0,
    "start_time": "2022-11-29T20:51:18.813Z"
   },
   {
    "duration": 1,
    "start_time": "2022-11-29T20:51:18.815Z"
   },
   {
    "duration": 0,
    "start_time": "2022-11-29T20:51:18.817Z"
   },
   {
    "duration": 9,
    "start_time": "2022-11-29T20:52:18.285Z"
   },
   {
    "duration": 17,
    "start_time": "2022-11-29T20:52:56.940Z"
   },
   {
    "duration": 10,
    "start_time": "2022-11-29T20:53:28.244Z"
   },
   {
    "duration": 40,
    "start_time": "2022-11-29T21:04:49.152Z"
   },
   {
    "duration": 16,
    "start_time": "2022-11-29T21:05:07.949Z"
   },
   {
    "duration": 13,
    "start_time": "2022-11-29T21:05:48.329Z"
   },
   {
    "duration": 13,
    "start_time": "2022-11-29T21:06:06.574Z"
   },
   {
    "duration": 10,
    "start_time": "2022-11-29T21:06:21.580Z"
   },
   {
    "duration": 11,
    "start_time": "2022-11-29T21:07:29.726Z"
   },
   {
    "duration": 11,
    "start_time": "2022-11-29T21:07:39.797Z"
   },
   {
    "duration": 11,
    "start_time": "2022-11-29T21:15:47.865Z"
   },
   {
    "duration": 15,
    "start_time": "2022-11-29T21:16:00.765Z"
   },
   {
    "duration": 25,
    "start_time": "2022-11-29T21:16:37.424Z"
   },
   {
    "duration": 18,
    "start_time": "2022-11-29T21:17:32.503Z"
   },
   {
    "duration": 27,
    "start_time": "2022-11-29T21:17:43.924Z"
   },
   {
    "duration": 32,
    "start_time": "2022-11-29T21:19:03.371Z"
   },
   {
    "duration": 22,
    "start_time": "2022-11-29T21:19:42.820Z"
   },
   {
    "duration": 157,
    "start_time": "2022-11-29T21:20:08.037Z"
   },
   {
    "duration": 5,
    "start_time": "2022-11-29T21:31:03.728Z"
   },
   {
    "duration": 131,
    "start_time": "2022-11-29T21:31:47.548Z"
   },
   {
    "duration": 21,
    "start_time": "2022-11-29T21:34:13.727Z"
   },
   {
    "duration": 72,
    "start_time": "2022-11-29T21:34:48.403Z"
   },
   {
    "duration": 133,
    "start_time": "2022-11-29T21:34:54.201Z"
   },
   {
    "duration": 5,
    "start_time": "2022-11-29T21:56:09.341Z"
   },
   {
    "duration": 20,
    "start_time": "2022-11-29T21:56:13.481Z"
   },
   {
    "duration": 3,
    "start_time": "2022-11-29T21:57:23.090Z"
   },
   {
    "duration": 20,
    "start_time": "2022-11-29T21:58:21.352Z"
   },
   {
    "duration": 143,
    "start_time": "2022-11-29T21:58:32.934Z"
   },
   {
    "duration": 21,
    "start_time": "2022-11-29T21:58:52.118Z"
   },
   {
    "duration": 5,
    "start_time": "2022-11-29T22:02:49.663Z"
   },
   {
    "duration": 129,
    "start_time": "2022-11-29T22:02:52.380Z"
   },
   {
    "duration": 6,
    "start_time": "2022-11-29T22:03:49.632Z"
   },
   {
    "duration": 129,
    "start_time": "2022-11-29T22:03:53.411Z"
   },
   {
    "duration": 220,
    "start_time": "2022-11-29T22:04:03.559Z"
   },
   {
    "duration": 22,
    "start_time": "2022-11-29T22:04:15.362Z"
   },
   {
    "duration": 161,
    "start_time": "2022-11-29T22:04:28.074Z"
   },
   {
    "duration": 126,
    "start_time": "2022-11-29T22:06:24.099Z"
   },
   {
    "duration": 8,
    "start_time": "2022-11-29T22:07:24.732Z"
   },
   {
    "duration": 6,
    "start_time": "2022-11-29T22:07:27.619Z"
   },
   {
    "duration": 5,
    "start_time": "2022-11-29T22:07:38.725Z"
   },
   {
    "duration": 135,
    "start_time": "2022-11-29T22:07:43.117Z"
   },
   {
    "duration": 6,
    "start_time": "2022-11-29T22:10:44.033Z"
   },
   {
    "duration": 123,
    "start_time": "2022-11-29T22:10:46.758Z"
   },
   {
    "duration": 734,
    "start_time": "2022-11-30T20:26:41.459Z"
   },
   {
    "duration": 19,
    "start_time": "2022-11-30T20:26:42.194Z"
   },
   {
    "duration": 18,
    "start_time": "2022-11-30T20:26:42.215Z"
   },
   {
    "duration": 23,
    "start_time": "2022-11-30T20:26:42.235Z"
   },
   {
    "duration": 31,
    "start_time": "2022-11-30T20:26:42.259Z"
   },
   {
    "duration": 3,
    "start_time": "2022-11-30T20:26:42.292Z"
   },
   {
    "duration": 11,
    "start_time": "2022-11-30T20:26:42.296Z"
   },
   {
    "duration": 6,
    "start_time": "2022-11-30T20:26:42.309Z"
   },
   {
    "duration": 11,
    "start_time": "2022-11-30T20:26:42.316Z"
   },
   {
    "duration": 23,
    "start_time": "2022-11-30T20:26:42.336Z"
   },
   {
    "duration": 33,
    "start_time": "2022-11-30T20:26:42.360Z"
   },
   {
    "duration": 8,
    "start_time": "2022-11-30T20:26:42.395Z"
   },
   {
    "duration": 6,
    "start_time": "2022-11-30T20:26:42.404Z"
   },
   {
    "duration": 23,
    "start_time": "2022-11-30T20:26:42.412Z"
   },
   {
    "duration": 39,
    "start_time": "2022-11-30T20:26:42.436Z"
   },
   {
    "duration": 14,
    "start_time": "2022-11-30T20:26:42.476Z"
   },
   {
    "duration": 2,
    "start_time": "2022-11-30T20:26:42.492Z"
   },
   {
    "duration": 13,
    "start_time": "2022-11-30T20:26:42.496Z"
   },
   {
    "duration": 17,
    "start_time": "2022-11-30T20:26:42.510Z"
   },
   {
    "duration": 23,
    "start_time": "2022-11-30T20:26:42.529Z"
   },
   {
    "duration": 13,
    "start_time": "2022-11-30T20:26:42.553Z"
   },
   {
    "duration": 4,
    "start_time": "2022-11-30T20:26:42.567Z"
   },
   {
    "duration": 858,
    "start_time": "2022-11-30T20:26:42.572Z"
   },
   {
    "duration": 14,
    "start_time": "2022-11-30T20:26:43.437Z"
   },
   {
    "duration": 6,
    "start_time": "2022-11-30T20:26:43.453Z"
   },
   {
    "duration": 144,
    "start_time": "2022-11-30T20:26:43.461Z"
   },
   {
    "duration": 4,
    "start_time": "2022-11-30T20:26:43.607Z"
   },
   {
    "duration": 133,
    "start_time": "2022-11-30T20:26:43.622Z"
   },
   {
    "duration": 151,
    "start_time": "2022-11-30T20:26:43.758Z"
   },
   {
    "duration": 160,
    "start_time": "2022-11-30T20:26:43.910Z"
   },
   {
    "duration": 185,
    "start_time": "2022-11-30T20:26:44.072Z"
   },
   {
    "duration": 173,
    "start_time": "2022-11-30T20:26:44.259Z"
   },
   {
    "duration": 160,
    "start_time": "2022-11-30T20:26:44.436Z"
   },
   {
    "duration": 201,
    "start_time": "2022-11-30T20:29:29.020Z"
   },
   {
    "duration": 139,
    "start_time": "2022-11-30T20:29:43.153Z"
   },
   {
    "duration": 132,
    "start_time": "2022-11-30T20:30:17.351Z"
   },
   {
    "duration": 133,
    "start_time": "2022-11-30T20:30:37.678Z"
   },
   {
    "duration": 5,
    "start_time": "2022-11-30T20:37:39.409Z"
   },
   {
    "duration": 133,
    "start_time": "2022-11-30T20:37:41.472Z"
   },
   {
    "duration": 151,
    "start_time": "2022-11-30T20:38:00.950Z"
   },
   {
    "duration": 6,
    "start_time": "2022-11-30T20:38:33.814Z"
   },
   {
    "duration": 127,
    "start_time": "2022-11-30T20:38:36.686Z"
   },
   {
    "duration": 154,
    "start_time": "2022-11-30T20:38:44.887Z"
   },
   {
    "duration": 5,
    "start_time": "2022-11-30T20:39:03.212Z"
   },
   {
    "duration": 134,
    "start_time": "2022-11-30T20:39:05.564Z"
   },
   {
    "duration": 116,
    "start_time": "2022-11-30T20:39:25.755Z"
   },
   {
    "duration": 8,
    "start_time": "2022-11-30T20:40:07.086Z"
   },
   {
    "duration": 125,
    "start_time": "2022-11-30T20:40:30.633Z"
   },
   {
    "duration": 146,
    "start_time": "2022-11-30T20:42:44.584Z"
   },
   {
    "duration": 196,
    "start_time": "2022-11-30T20:42:56.593Z"
   },
   {
    "duration": 137,
    "start_time": "2022-11-30T20:43:34.900Z"
   },
   {
    "duration": 138,
    "start_time": "2022-11-30T20:43:43.791Z"
   },
   {
    "duration": 6,
    "start_time": "2022-11-30T21:08:25.703Z"
   },
   {
    "duration": 122,
    "start_time": "2022-11-30T21:08:29.262Z"
   },
   {
    "duration": 6,
    "start_time": "2022-11-30T21:08:56.208Z"
   },
   {
    "duration": 132,
    "start_time": "2022-11-30T21:08:57.610Z"
   },
   {
    "duration": 7,
    "start_time": "2022-11-30T21:09:39.713Z"
   },
   {
    "duration": 127,
    "start_time": "2022-11-30T21:09:41.862Z"
   },
   {
    "duration": 6,
    "start_time": "2022-11-30T21:13:55.926Z"
   },
   {
    "duration": 127,
    "start_time": "2022-11-30T21:13:57.981Z"
   },
   {
    "duration": 184,
    "start_time": "2022-11-30T21:14:15.325Z"
   },
   {
    "duration": 7,
    "start_time": "2022-11-30T21:14:34.872Z"
   },
   {
    "duration": 131,
    "start_time": "2022-11-30T21:14:36.618Z"
   },
   {
    "duration": 142,
    "start_time": "2022-11-30T21:14:49.052Z"
   },
   {
    "duration": 132,
    "start_time": "2022-11-30T21:15:04.600Z"
   },
   {
    "duration": 198,
    "start_time": "2022-11-30T21:15:29.114Z"
   },
   {
    "duration": 66,
    "start_time": "2022-11-30T22:14:38.579Z"
   },
   {
    "duration": 13,
    "start_time": "2022-11-30T22:14:38.647Z"
   },
   {
    "duration": 14,
    "start_time": "2022-11-30T22:14:38.662Z"
   },
   {
    "duration": 8,
    "start_time": "2022-11-30T22:14:38.678Z"
   },
   {
    "duration": 54,
    "start_time": "2022-11-30T22:14:38.688Z"
   },
   {
    "duration": 3,
    "start_time": "2022-11-30T22:14:38.743Z"
   },
   {
    "duration": 14,
    "start_time": "2022-11-30T22:14:38.748Z"
   },
   {
    "duration": 5,
    "start_time": "2022-11-30T22:14:38.763Z"
   },
   {
    "duration": 7,
    "start_time": "2022-11-30T22:14:38.769Z"
   },
   {
    "duration": 6,
    "start_time": "2022-11-30T22:14:38.778Z"
   },
   {
    "duration": 50,
    "start_time": "2022-11-30T22:14:38.786Z"
   },
   {
    "duration": 10,
    "start_time": "2022-11-30T22:14:38.837Z"
   },
   {
    "duration": 4,
    "start_time": "2022-11-30T22:14:38.848Z"
   },
   {
    "duration": 11,
    "start_time": "2022-11-30T22:14:38.854Z"
   },
   {
    "duration": 19,
    "start_time": "2022-11-30T22:14:38.867Z"
   },
   {
    "duration": 34,
    "start_time": "2022-11-30T22:14:38.887Z"
   },
   {
    "duration": 3,
    "start_time": "2022-11-30T22:14:38.923Z"
   },
   {
    "duration": 12,
    "start_time": "2022-11-30T22:14:38.927Z"
   },
   {
    "duration": 5,
    "start_time": "2022-11-30T22:14:38.940Z"
   },
   {
    "duration": 5,
    "start_time": "2022-11-30T22:14:38.946Z"
   },
   {
    "duration": 20,
    "start_time": "2022-11-30T22:14:38.952Z"
   },
   {
    "duration": 8,
    "start_time": "2022-11-30T22:14:38.974Z"
   },
   {
    "duration": 10,
    "start_time": "2022-11-30T22:14:38.983Z"
   },
   {
    "duration": 16,
    "start_time": "2022-11-30T22:14:38.994Z"
   },
   {
    "duration": 131,
    "start_time": "2022-11-30T22:14:39.012Z"
   },
   {
    "duration": 7,
    "start_time": "2022-11-30T22:14:39.144Z"
   },
   {
    "duration": 141,
    "start_time": "2022-11-30T22:14:39.152Z"
   },
   {
    "duration": 5,
    "start_time": "2022-11-30T22:14:39.295Z"
   },
   {
    "duration": 132,
    "start_time": "2022-11-30T22:14:39.301Z"
   },
   {
    "duration": 148,
    "start_time": "2022-11-30T22:14:39.435Z"
   },
   {
    "duration": 129,
    "start_time": "2022-11-30T22:14:39.584Z"
   },
   {
    "duration": 136,
    "start_time": "2022-11-30T22:14:39.720Z"
   }
  ],
  "colab": {
   "name": "dpp_template_part2.ipynb",
   "provenance": []
  },
  "kernelspec": {
   "display_name": "Python 3 (ipykernel)",
   "language": "python",
   "name": "python3"
  },
  "language_info": {
   "codemirror_mode": {
    "name": "ipython",
    "version": 3
   },
   "file_extension": ".py",
   "mimetype": "text/x-python",
   "name": "python",
   "nbconvert_exporter": "python",
   "pygments_lexer": "ipython3",
   "version": "3.7.16"
  },
  "toc": {
   "base_numbering": 1,
   "nav_menu": {},
   "number_sections": true,
   "sideBar": true,
   "skip_h1_title": true,
   "title_cell": "Table of Contents",
   "title_sidebar": "Contents",
   "toc_cell": false,
   "toc_position": {},
   "toc_section_display": true,
   "toc_window_display": true
  }
 },
 "nbformat": 4,
 "nbformat_minor": 5
}
